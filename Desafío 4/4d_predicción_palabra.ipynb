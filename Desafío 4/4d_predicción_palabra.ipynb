{
  "nbformat": 4,
  "nbformat_minor": 0,
  "metadata": {
    "colab": {
      "provenance": [],
      "collapsed_sections": []
    },
    "kernelspec": {
      "name": "python3",
      "display_name": "Python 3"
    },
    "language_info": {
      "name": "python"
    },
    "accelerator": "GPU"
  },
  "cells": [
    {
      "cell_type": "markdown",
      "metadata": {
        "id": "g3yeJGnCYxuF"
      },
      "source": [
        "<img src=\"https://github.com/hernancontigiani/ceia_memorias_especializacion/raw/master/Figures/logoFIUBA.jpg\" width=\"500\" align=\"center\">\n",
        "\n",
        "\n",
        "# Procesamiento de lenguaje natural\n",
        "## Predicción de próxima palabra"
      ]
    },
    {
      "cell_type": "markdown",
      "metadata": {
        "id": "Iv5PEwGzZA9-"
      },
      "source": [
        "### Objetivo\n",
        "El objetivo es utilizar documentos / corpus para crear embeddings de palabras basado en ese contexto utilizando la layer Embedding de Keras. Se utilizará esos embeddings junto con layers LSTM para predeccir la próxima posible palabra."
      ]
    },
    {
      "cell_type": "code",
      "metadata": {
        "id": "Y-QdFbHZYj7C"
      },
      "source": [
        "import random\n",
        "import io\n",
        "import pickle\n",
        "\n",
        "import numpy as np\n",
        "import pandas as pd\n",
        "\n",
        "from tensorflow import keras\n",
        "from tensorflow.keras import layers\n",
        "from keras.utils.np_utils import to_categorical\n",
        "from keras.models import Sequential\n",
        "from keras.layers import Dense, LSTM, Embedding, Dropout, Bidirectional"
      ],
      "execution_count": 1,
      "outputs": []
    },
    {
      "cell_type": "markdown",
      "metadata": {
        "id": "xTvXlEKQZdqx"
      },
      "source": [
        "### Datos\n",
        "Utilizaremos como dataset el libro La Metamorfósis de Franz Kafka, en español."
      ]
    },
    {
      "cell_type": "code",
      "source": [
        "# Armar el dataset utilizando salto de línea para separar las oraciones/docs\n",
        "df = pd.read_csv('La_Metamorfosis.txt', sep='/n', header=None)\n",
        "df.head()"
      ],
      "metadata": {
        "colab": {
          "base_uri": "https://localhost:8080/",
          "height": 261
        },
        "id": "LcDFQyX-gOyl",
        "outputId": "f8331736-29bc-4725-d915-21f01f00aca5"
      },
      "execution_count": 2,
      "outputs": [
        {
          "output_type": "stream",
          "name": "stderr",
          "text": [
            "/usr/local/lib/python3.7/dist-packages/pandas/util/_decorators.py:311: ParserWarning: Falling back to the 'python' engine because the 'c' engine does not support regex separators (separators > 1 char and different from '\\s+' are interpreted as regex); you can avoid this warning by specifying engine='python'.\n",
            "  return func(*args, **kwargs)\n"
          ]
        },
        {
          "output_type": "execute_result",
          "data": {
            "text/plain": [
              "                                                   0\n",
              "0  Cuando Gregorio Samsa se despertó una mañana d...\n",
              "1  Sus muchas patas, ridículamente pequeñas en co...\n",
              "2  Por encima de la mesa, sobre la que se encontr...\n",
              "3  La mirada de Gregorio se dirigió después hacia...\n",
              "4  Aunque se lanzase con mucha fuerza hacia el la..."
            ],
            "text/html": [
              "\n",
              "  <div id=\"df-2edac7ae-66ba-4141-b742-5dc7526a2a20\">\n",
              "    <div class=\"colab-df-container\">\n",
              "      <div>\n",
              "<style scoped>\n",
              "    .dataframe tbody tr th:only-of-type {\n",
              "        vertical-align: middle;\n",
              "    }\n",
              "\n",
              "    .dataframe tbody tr th {\n",
              "        vertical-align: top;\n",
              "    }\n",
              "\n",
              "    .dataframe thead th {\n",
              "        text-align: right;\n",
              "    }\n",
              "</style>\n",
              "<table border=\"1\" class=\"dataframe\">\n",
              "  <thead>\n",
              "    <tr style=\"text-align: right;\">\n",
              "      <th></th>\n",
              "      <th>0</th>\n",
              "    </tr>\n",
              "  </thead>\n",
              "  <tbody>\n",
              "    <tr>\n",
              "      <th>0</th>\n",
              "      <td>Cuando Gregorio Samsa se despertó una mañana d...</td>\n",
              "    </tr>\n",
              "    <tr>\n",
              "      <th>1</th>\n",
              "      <td>Sus muchas patas, ridículamente pequeñas en co...</td>\n",
              "    </tr>\n",
              "    <tr>\n",
              "      <th>2</th>\n",
              "      <td>Por encima de la mesa, sobre la que se encontr...</td>\n",
              "    </tr>\n",
              "    <tr>\n",
              "      <th>3</th>\n",
              "      <td>La mirada de Gregorio se dirigió después hacia...</td>\n",
              "    </tr>\n",
              "    <tr>\n",
              "      <th>4</th>\n",
              "      <td>Aunque se lanzase con mucha fuerza hacia el la...</td>\n",
              "    </tr>\n",
              "  </tbody>\n",
              "</table>\n",
              "</div>\n",
              "      <button class=\"colab-df-convert\" onclick=\"convertToInteractive('df-2edac7ae-66ba-4141-b742-5dc7526a2a20')\"\n",
              "              title=\"Convert this dataframe to an interactive table.\"\n",
              "              style=\"display:none;\">\n",
              "        \n",
              "  <svg xmlns=\"http://www.w3.org/2000/svg\" height=\"24px\"viewBox=\"0 0 24 24\"\n",
              "       width=\"24px\">\n",
              "    <path d=\"M0 0h24v24H0V0z\" fill=\"none\"/>\n",
              "    <path d=\"M18.56 5.44l.94 2.06.94-2.06 2.06-.94-2.06-.94-.94-2.06-.94 2.06-2.06.94zm-11 1L8.5 8.5l.94-2.06 2.06-.94-2.06-.94L8.5 2.5l-.94 2.06-2.06.94zm10 10l.94 2.06.94-2.06 2.06-.94-2.06-.94-.94-2.06-.94 2.06-2.06.94z\"/><path d=\"M17.41 7.96l-1.37-1.37c-.4-.4-.92-.59-1.43-.59-.52 0-1.04.2-1.43.59L10.3 9.45l-7.72 7.72c-.78.78-.78 2.05 0 2.83L4 21.41c.39.39.9.59 1.41.59.51 0 1.02-.2 1.41-.59l7.78-7.78 2.81-2.81c.8-.78.8-2.07 0-2.86zM5.41 20L4 18.59l7.72-7.72 1.47 1.35L5.41 20z\"/>\n",
              "  </svg>\n",
              "      </button>\n",
              "      \n",
              "  <style>\n",
              "    .colab-df-container {\n",
              "      display:flex;\n",
              "      flex-wrap:wrap;\n",
              "      gap: 12px;\n",
              "    }\n",
              "\n",
              "    .colab-df-convert {\n",
              "      background-color: #E8F0FE;\n",
              "      border: none;\n",
              "      border-radius: 50%;\n",
              "      cursor: pointer;\n",
              "      display: none;\n",
              "      fill: #1967D2;\n",
              "      height: 32px;\n",
              "      padding: 0 0 0 0;\n",
              "      width: 32px;\n",
              "    }\n",
              "\n",
              "    .colab-df-convert:hover {\n",
              "      background-color: #E2EBFA;\n",
              "      box-shadow: 0px 1px 2px rgba(60, 64, 67, 0.3), 0px 1px 3px 1px rgba(60, 64, 67, 0.15);\n",
              "      fill: #174EA6;\n",
              "    }\n",
              "\n",
              "    [theme=dark] .colab-df-convert {\n",
              "      background-color: #3B4455;\n",
              "      fill: #D2E3FC;\n",
              "    }\n",
              "\n",
              "    [theme=dark] .colab-df-convert:hover {\n",
              "      background-color: #434B5C;\n",
              "      box-shadow: 0px 1px 3px 1px rgba(0, 0, 0, 0.15);\n",
              "      filter: drop-shadow(0px 1px 2px rgba(0, 0, 0, 0.3));\n",
              "      fill: #FFFFFF;\n",
              "    }\n",
              "  </style>\n",
              "\n",
              "      <script>\n",
              "        const buttonEl =\n",
              "          document.querySelector('#df-2edac7ae-66ba-4141-b742-5dc7526a2a20 button.colab-df-convert');\n",
              "        buttonEl.style.display =\n",
              "          google.colab.kernel.accessAllowed ? 'block' : 'none';\n",
              "\n",
              "        async function convertToInteractive(key) {\n",
              "          const element = document.querySelector('#df-2edac7ae-66ba-4141-b742-5dc7526a2a20');\n",
              "          const dataTable =\n",
              "            await google.colab.kernel.invokeFunction('convertToInteractive',\n",
              "                                                     [key], {});\n",
              "          if (!dataTable) return;\n",
              "\n",
              "          const docLinkHtml = 'Like what you see? Visit the ' +\n",
              "            '<a target=\"_blank\" href=https://colab.research.google.com/notebooks/data_table.ipynb>data table notebook</a>'\n",
              "            + ' to learn more about interactive tables.';\n",
              "          element.innerHTML = '';\n",
              "          dataTable['output_type'] = 'display_data';\n",
              "          await google.colab.output.renderOutput(dataTable, element);\n",
              "          const docLink = document.createElement('div');\n",
              "          docLink.innerHTML = docLinkHtml;\n",
              "          element.appendChild(docLink);\n",
              "        }\n",
              "      </script>\n",
              "    </div>\n",
              "  </div>\n",
              "  "
            ]
          },
          "metadata": {},
          "execution_count": 2
        }
      ]
    },
    {
      "cell_type": "code",
      "metadata": {
        "id": "riT898QlZnmF",
        "colab": {
          "base_uri": "https://localhost:8080/"
        },
        "outputId": "b6baf7b9-7514-457f-f898-5ffeaa70fdfb"
      },
      "source": [
        "print(\"Cantidad de documentos:\", df.shape[0])"
      ],
      "execution_count": 3,
      "outputs": [
        {
          "output_type": "stream",
          "name": "stdout",
          "text": [
            "Cantidad de documentos: 279\n"
          ]
        }
      ]
    },
    {
      "cell_type": "markdown",
      "metadata": {
        "id": "RDoouHp7Zp6D"
      },
      "source": [
        "### 1 - Ejemplo de Preprocesamiento\n",
        "- Hay que transformar las oraciones en tokens.\n",
        "- Dichas oraciones hay que ajustarlas al tamaño fijo de nuestra sentencia de entrada al modelo.\n",
        "- Hay que separar las palabras objetivos (target) que el modelo debe predecir en cada sentencia armada."
      ]
    },
    {
      "cell_type": "code",
      "metadata": {
        "id": "m5FeTaGvbDbw"
      },
      "source": [
        "from keras.preprocessing.text import Tokenizer # equivalente a ltokenizer de nltk\n",
        "from keras.preprocessing.text import text_to_word_sequence # equivalente a word_teokenize de nltk\n",
        "from keras.preprocessing.sequence import pad_sequences # se utilizará para padding\n",
        "\n",
        "# largo de la secuencia, incluye seq input + word output\n",
        "train_len = 4"
      ],
      "execution_count": 4,
      "outputs": []
    },
    {
      "cell_type": "code",
      "metadata": {
        "id": "Zf3O7eK6ZpP8",
        "colab": {
          "base_uri": "https://localhost:8080/",
          "height": 70
        },
        "outputId": "27a8b1f2-81ce-4156-cd62-4899de2ef827"
      },
      "source": [
        "# Ejemplo de como transformar una oración a tokens usando keras\n",
        "text = df.loc[0,0]\n",
        "text"
      ],
      "execution_count": 5,
      "outputs": [
        {
          "output_type": "execute_result",
          "data": {
            "text/plain": [
              "'Cuando Gregorio Samsa se despertó una mañana después de un sueño intranquilo, se encontró sobre su cama convertido en un monstruoso insecto. Estaba tumbado sobre su espalda dura, y en forma de caparazón y, al levantar un poco la cabeza, veía un vientre abombado, parduzco, dividido por partes duras en forma de arco, sobre cuya protuberancia apenas podía mantenerse el cobertor, a punto ya de resbalar al suelo.'"
            ],
            "application/vnd.google.colaboratory.intrinsic+json": {
              "type": "string"
            }
          },
          "metadata": {},
          "execution_count": 5
        }
      ]
    },
    {
      "cell_type": "code",
      "metadata": {
        "id": "AOv67Sj7aeFH",
        "colab": {
          "base_uri": "https://localhost:8080/"
        },
        "outputId": "4d299e88-5487-4ef4-91a7-8da0195cd87e"
      },
      "source": [
        "tokens = text_to_word_sequence(text) # entran oraciones -> salen vectores de N posiciones (tokens)\n",
        "tokens"
      ],
      "execution_count": 6,
      "outputs": [
        {
          "output_type": "execute_result",
          "data": {
            "text/plain": [
              "['cuando',\n",
              " 'gregorio',\n",
              " 'samsa',\n",
              " 'se',\n",
              " 'despertó',\n",
              " 'una',\n",
              " 'mañana',\n",
              " 'después',\n",
              " 'de',\n",
              " 'un',\n",
              " 'sueño',\n",
              " 'intranquilo',\n",
              " 'se',\n",
              " 'encontró',\n",
              " 'sobre',\n",
              " 'su',\n",
              " 'cama',\n",
              " 'convertido',\n",
              " 'en',\n",
              " 'un',\n",
              " 'monstruoso',\n",
              " 'insecto',\n",
              " 'estaba',\n",
              " 'tumbado',\n",
              " 'sobre',\n",
              " 'su',\n",
              " 'espalda',\n",
              " 'dura',\n",
              " 'y',\n",
              " 'en',\n",
              " 'forma',\n",
              " 'de',\n",
              " 'caparazón',\n",
              " 'y',\n",
              " 'al',\n",
              " 'levantar',\n",
              " 'un',\n",
              " 'poco',\n",
              " 'la',\n",
              " 'cabeza',\n",
              " 'veía',\n",
              " 'un',\n",
              " 'vientre',\n",
              " 'abombado',\n",
              " 'parduzco',\n",
              " 'dividido',\n",
              " 'por',\n",
              " 'partes',\n",
              " 'duras',\n",
              " 'en',\n",
              " 'forma',\n",
              " 'de',\n",
              " 'arco',\n",
              " 'sobre',\n",
              " 'cuya',\n",
              " 'protuberancia',\n",
              " 'apenas',\n",
              " 'podía',\n",
              " 'mantenerse',\n",
              " 'el',\n",
              " 'cobertor',\n",
              " 'a',\n",
              " 'punto',\n",
              " 'ya',\n",
              " 'de',\n",
              " 'resbalar',\n",
              " 'al',\n",
              " 'suelo']"
            ]
          },
          "metadata": {},
          "execution_count": 6
        }
      ]
    },
    {
      "cell_type": "markdown",
      "metadata": {
        "id": "ZrlyqkoiaymK"
      },
      "source": [
        "1.1 - Transformar las oraciones en secuencias (tokens) de palabras"
      ]
    },
    {
      "cell_type": "code",
      "metadata": {
        "id": "XH_L14Wjaowe"
      },
      "source": [
        "# Recorrer todas las filas y transformar las oraciones\n",
        "# en secuencias de palabras\n",
        "sentence_tokens = []\n",
        "for _, row in df[:None].iterrows():\n",
        "    sentence_tokens.append(text_to_word_sequence(row[0]))"
      ],
      "execution_count": 7,
      "outputs": []
    },
    {
      "cell_type": "code",
      "metadata": {
        "id": "KASzU4CdaxbZ",
        "colab": {
          "base_uri": "https://localhost:8080/"
        },
        "outputId": "221f9577-575f-4cc2-a79b-ec5ae937524a"
      },
      "source": [
        "# Demos un vistazo\n",
        "sentence_tokens[:2]"
      ],
      "execution_count": 8,
      "outputs": [
        {
          "output_type": "execute_result",
          "data": {
            "text/plain": [
              "[['cuando',\n",
              "  'gregorio',\n",
              "  'samsa',\n",
              "  'se',\n",
              "  'despertó',\n",
              "  'una',\n",
              "  'mañana',\n",
              "  'después',\n",
              "  'de',\n",
              "  'un',\n",
              "  'sueño',\n",
              "  'intranquilo',\n",
              "  'se',\n",
              "  'encontró',\n",
              "  'sobre',\n",
              "  'su',\n",
              "  'cama',\n",
              "  'convertido',\n",
              "  'en',\n",
              "  'un',\n",
              "  'monstruoso',\n",
              "  'insecto',\n",
              "  'estaba',\n",
              "  'tumbado',\n",
              "  'sobre',\n",
              "  'su',\n",
              "  'espalda',\n",
              "  'dura',\n",
              "  'y',\n",
              "  'en',\n",
              "  'forma',\n",
              "  'de',\n",
              "  'caparazón',\n",
              "  'y',\n",
              "  'al',\n",
              "  'levantar',\n",
              "  'un',\n",
              "  'poco',\n",
              "  'la',\n",
              "  'cabeza',\n",
              "  'veía',\n",
              "  'un',\n",
              "  'vientre',\n",
              "  'abombado',\n",
              "  'parduzco',\n",
              "  'dividido',\n",
              "  'por',\n",
              "  'partes',\n",
              "  'duras',\n",
              "  'en',\n",
              "  'forma',\n",
              "  'de',\n",
              "  'arco',\n",
              "  'sobre',\n",
              "  'cuya',\n",
              "  'protuberancia',\n",
              "  'apenas',\n",
              "  'podía',\n",
              "  'mantenerse',\n",
              "  'el',\n",
              "  'cobertor',\n",
              "  'a',\n",
              "  'punto',\n",
              "  'ya',\n",
              "  'de',\n",
              "  'resbalar',\n",
              "  'al',\n",
              "  'suelo'],\n",
              " ['sus',\n",
              "  'muchas',\n",
              "  'patas',\n",
              "  'ridículamente',\n",
              "  'pequeñas',\n",
              "  'en',\n",
              "  'comparación',\n",
              "  'con',\n",
              "  'el',\n",
              "  'resto',\n",
              "  'de',\n",
              "  'su',\n",
              "  'tamaño',\n",
              "  'le',\n",
              "  'vibraban',\n",
              "  'desamparadas',\n",
              "  'ante',\n",
              "  'los',\n",
              "  'ojos',\n",
              "  '«¿qué',\n",
              "  'me',\n",
              "  'ha',\n",
              "  'ocurrido',\n",
              "  '»',\n",
              "  'pensó',\n",
              "  'no',\n",
              "  'era',\n",
              "  'un',\n",
              "  'sueño',\n",
              "  'su',\n",
              "  'habitación',\n",
              "  'una',\n",
              "  'auténtica',\n",
              "  'habitación',\n",
              "  'humana',\n",
              "  'si',\n",
              "  'bien',\n",
              "  'algo',\n",
              "  'pequeña',\n",
              "  'permanecía',\n",
              "  'tranquila',\n",
              "  'entre',\n",
              "  'las',\n",
              "  'cuatro',\n",
              "  'paredes',\n",
              "  'harto',\n",
              "  'conocidas']]"
            ]
          },
          "metadata": {},
          "execution_count": 8
        }
      ]
    },
    {
      "cell_type": "code",
      "metadata": {
        "id": "A659lswTbIIB"
      },
      "source": [
        "# Código para hacer el desfazaje de las palabras\n",
        "# según el train_len\n",
        "text_sequences = []\n",
        "\n",
        "for i in range(train_len, len(tokens)):\n",
        "  seq = tokens[i-train_len:i]\n",
        "  text_sequences.append(seq)"
      ],
      "execution_count": 9,
      "outputs": []
    },
    {
      "cell_type": "code",
      "metadata": {
        "id": "01JEoPPnbgRF",
        "colab": {
          "base_uri": "https://localhost:8080/"
        },
        "outputId": "850b42c3-b267-44c2-8af7-9660fe4b6a0a"
      },
      "source": [
        "# Demos un vistazo a nuestros vectores para entrenar el modelo\n",
        "text_sequences"
      ],
      "execution_count": 10,
      "outputs": [
        {
          "output_type": "execute_result",
          "data": {
            "text/plain": [
              "[['cuando', 'gregorio', 'samsa', 'se'],\n",
              " ['gregorio', 'samsa', 'se', 'despertó'],\n",
              " ['samsa', 'se', 'despertó', 'una'],\n",
              " ['se', 'despertó', 'una', 'mañana'],\n",
              " ['despertó', 'una', 'mañana', 'después'],\n",
              " ['una', 'mañana', 'después', 'de'],\n",
              " ['mañana', 'después', 'de', 'un'],\n",
              " ['después', 'de', 'un', 'sueño'],\n",
              " ['de', 'un', 'sueño', 'intranquilo'],\n",
              " ['un', 'sueño', 'intranquilo', 'se'],\n",
              " ['sueño', 'intranquilo', 'se', 'encontró'],\n",
              " ['intranquilo', 'se', 'encontró', 'sobre'],\n",
              " ['se', 'encontró', 'sobre', 'su'],\n",
              " ['encontró', 'sobre', 'su', 'cama'],\n",
              " ['sobre', 'su', 'cama', 'convertido'],\n",
              " ['su', 'cama', 'convertido', 'en'],\n",
              " ['cama', 'convertido', 'en', 'un'],\n",
              " ['convertido', 'en', 'un', 'monstruoso'],\n",
              " ['en', 'un', 'monstruoso', 'insecto'],\n",
              " ['un', 'monstruoso', 'insecto', 'estaba'],\n",
              " ['monstruoso', 'insecto', 'estaba', 'tumbado'],\n",
              " ['insecto', 'estaba', 'tumbado', 'sobre'],\n",
              " ['estaba', 'tumbado', 'sobre', 'su'],\n",
              " ['tumbado', 'sobre', 'su', 'espalda'],\n",
              " ['sobre', 'su', 'espalda', 'dura'],\n",
              " ['su', 'espalda', 'dura', 'y'],\n",
              " ['espalda', 'dura', 'y', 'en'],\n",
              " ['dura', 'y', 'en', 'forma'],\n",
              " ['y', 'en', 'forma', 'de'],\n",
              " ['en', 'forma', 'de', 'caparazón'],\n",
              " ['forma', 'de', 'caparazón', 'y'],\n",
              " ['de', 'caparazón', 'y', 'al'],\n",
              " ['caparazón', 'y', 'al', 'levantar'],\n",
              " ['y', 'al', 'levantar', 'un'],\n",
              " ['al', 'levantar', 'un', 'poco'],\n",
              " ['levantar', 'un', 'poco', 'la'],\n",
              " ['un', 'poco', 'la', 'cabeza'],\n",
              " ['poco', 'la', 'cabeza', 'veía'],\n",
              " ['la', 'cabeza', 'veía', 'un'],\n",
              " ['cabeza', 'veía', 'un', 'vientre'],\n",
              " ['veía', 'un', 'vientre', 'abombado'],\n",
              " ['un', 'vientre', 'abombado', 'parduzco'],\n",
              " ['vientre', 'abombado', 'parduzco', 'dividido'],\n",
              " ['abombado', 'parduzco', 'dividido', 'por'],\n",
              " ['parduzco', 'dividido', 'por', 'partes'],\n",
              " ['dividido', 'por', 'partes', 'duras'],\n",
              " ['por', 'partes', 'duras', 'en'],\n",
              " ['partes', 'duras', 'en', 'forma'],\n",
              " ['duras', 'en', 'forma', 'de'],\n",
              " ['en', 'forma', 'de', 'arco'],\n",
              " ['forma', 'de', 'arco', 'sobre'],\n",
              " ['de', 'arco', 'sobre', 'cuya'],\n",
              " ['arco', 'sobre', 'cuya', 'protuberancia'],\n",
              " ['sobre', 'cuya', 'protuberancia', 'apenas'],\n",
              " ['cuya', 'protuberancia', 'apenas', 'podía'],\n",
              " ['protuberancia', 'apenas', 'podía', 'mantenerse'],\n",
              " ['apenas', 'podía', 'mantenerse', 'el'],\n",
              " ['podía', 'mantenerse', 'el', 'cobertor'],\n",
              " ['mantenerse', 'el', 'cobertor', 'a'],\n",
              " ['el', 'cobertor', 'a', 'punto'],\n",
              " ['cobertor', 'a', 'punto', 'ya'],\n",
              " ['a', 'punto', 'ya', 'de'],\n",
              " ['punto', 'ya', 'de', 'resbalar'],\n",
              " ['ya', 'de', 'resbalar', 'al']]"
            ]
          },
          "metadata": {},
          "execution_count": 10
        }
      ]
    },
    {
      "cell_type": "markdown",
      "metadata": {
        "id": "4B0gHnKVa4W_"
      },
      "source": [
        "1.2 - Crear los vectores de palabras (word2vec)\n",
        "\n",
        "Ahora necesitamos pasarlos a números para que lo entienda la red y separar input de output.\n",
        "- El Input seran integers (word2vec)\n",
        "- Mientras que el output será one hot encodeado (labels) del tamaño del vocabulario"
      ]
    },
    {
      "cell_type": "code",
      "metadata": {
        "id": "fkPNvXeQcS0U"
      },
      "source": [
        "tok = Tokenizer() \n",
        "\n",
        "# El tokeinzer \"aprende\" las palabras que se usaran\n",
        "# Se construye (fit) una vez por proyecto, se aplica N veces (tal cual un encoder)\n",
        "tok.fit_on_texts(text_sequences) \n",
        "\n",
        "# Convertimos las palabras a números\n",
        "# entran palabras -> salen números\n",
        "sequences = tok.texts_to_sequences(text_sequences)"
      ],
      "execution_count": 11,
      "outputs": []
    },
    {
      "cell_type": "code",
      "metadata": {
        "id": "4SIc44IocyQb",
        "colab": {
          "base_uri": "https://localhost:8080/"
        },
        "outputId": "0dd1aa2f-3153-4acf-bc68-d7a7af3b951e"
      },
      "source": [
        "# Ahora sequences tiene los números \"ID\", largo 4\n",
        "sequences"
      ],
      "execution_count": 12,
      "outputs": [
        {
          "output_type": "execute_result",
          "data": {
            "text/plain": [
              "[[52, 50, 49, 5],\n",
              " [50, 49, 5, 10],\n",
              " [49, 5, 10, 11],\n",
              " [5, 10, 11, 12],\n",
              " [10, 11, 12, 13],\n",
              " [11, 12, 13, 2],\n",
              " [12, 13, 2, 1],\n",
              " [13, 2, 1, 14],\n",
              " [2, 1, 14, 15],\n",
              " [1, 14, 15, 5],\n",
              " [14, 15, 5, 16],\n",
              " [15, 5, 16, 3],\n",
              " [5, 16, 3, 6],\n",
              " [16, 3, 6, 17],\n",
              " [3, 6, 17, 18],\n",
              " [6, 17, 18, 4],\n",
              " [17, 18, 4, 1],\n",
              " [18, 4, 1, 19],\n",
              " [4, 1, 19, 20],\n",
              " [1, 19, 20, 21],\n",
              " [19, 20, 21, 22],\n",
              " [20, 21, 22, 3],\n",
              " [21, 22, 3, 6],\n",
              " [22, 3, 6, 23],\n",
              " [3, 6, 23, 24],\n",
              " [6, 23, 24, 7],\n",
              " [23, 24, 7, 4],\n",
              " [24, 7, 4, 8],\n",
              " [7, 4, 8, 2],\n",
              " [4, 8, 2, 25],\n",
              " [8, 2, 25, 7],\n",
              " [2, 25, 7, 9],\n",
              " [25, 7, 9, 26],\n",
              " [7, 9, 26, 1],\n",
              " [9, 26, 1, 27],\n",
              " [26, 1, 27, 28],\n",
              " [1, 27, 28, 29],\n",
              " [27, 28, 29, 30],\n",
              " [28, 29, 30, 1],\n",
              " [29, 30, 1, 31],\n",
              " [30, 1, 31, 32],\n",
              " [1, 31, 32, 33],\n",
              " [31, 32, 33, 34],\n",
              " [32, 33, 34, 35],\n",
              " [33, 34, 35, 36],\n",
              " [34, 35, 36, 37],\n",
              " [35, 36, 37, 4],\n",
              " [36, 37, 4, 8],\n",
              " [37, 4, 8, 2],\n",
              " [4, 8, 2, 38],\n",
              " [8, 2, 38, 3],\n",
              " [2, 38, 3, 39],\n",
              " [38, 3, 39, 40],\n",
              " [3, 39, 40, 41],\n",
              " [39, 40, 41, 42],\n",
              " [40, 41, 42, 43],\n",
              " [41, 42, 43, 44],\n",
              " [42, 43, 44, 45],\n",
              " [43, 44, 45, 46],\n",
              " [44, 45, 46, 47],\n",
              " [45, 46, 47, 48],\n",
              " [46, 47, 48, 2],\n",
              " [47, 48, 2, 51],\n",
              " [48, 2, 51, 9]]"
            ]
          },
          "metadata": {},
          "execution_count": 12
        }
      ]
    },
    {
      "cell_type": "code",
      "metadata": {
        "id": "3ro81yCQc1oX",
        "colab": {
          "base_uri": "https://localhost:8080/"
        },
        "outputId": "fb1404e1-5171-496c-97b1-8f023467b8bf"
      },
      "source": [
        "# Cantidad de casos (doc) de entrada\n",
        "print(tok.document_count)"
      ],
      "execution_count": 13,
      "outputs": [
        {
          "output_type": "stream",
          "name": "stdout",
          "text": [
            "64\n"
          ]
        }
      ]
    },
    {
      "cell_type": "code",
      "metadata": {
        "id": "nzAWNfroc4u1",
        "colab": {
          "base_uri": "https://localhost:8080/"
        },
        "outputId": "5a23850e-3201-47a9-f227-c7c25817caf7"
      },
      "source": [
        "# Cantidad de veces que aparece cada palabra\n",
        "print(len(tok.word_counts))"
      ],
      "execution_count": 14,
      "outputs": [
        {
          "output_type": "stream",
          "name": "stdout",
          "text": [
            "52\n"
          ]
        }
      ]
    },
    {
      "cell_type": "code",
      "metadata": {
        "id": "spTBxmFQc6h8",
        "colab": {
          "base_uri": "https://localhost:8080/"
        },
        "outputId": "2af5f72c-95f9-4046-ba4d-2fb34d7ee8c9"
      },
      "source": [
        "# El índice para cada palabra\n",
        "# El sistema las ordena de las más populares a las menos populares\n",
        "print(tok.word_index)"
      ],
      "execution_count": 15,
      "outputs": [
        {
          "output_type": "stream",
          "name": "stdout",
          "text": [
            "{'un': 1, 'de': 2, 'sobre': 3, 'en': 4, 'se': 5, 'su': 6, 'y': 7, 'forma': 8, 'al': 9, 'despertó': 10, 'una': 11, 'mañana': 12, 'después': 13, 'sueño': 14, 'intranquilo': 15, 'encontró': 16, 'cama': 17, 'convertido': 18, 'monstruoso': 19, 'insecto': 20, 'estaba': 21, 'tumbado': 22, 'espalda': 23, 'dura': 24, 'caparazón': 25, 'levantar': 26, 'poco': 27, 'la': 28, 'cabeza': 29, 'veía': 30, 'vientre': 31, 'abombado': 32, 'parduzco': 33, 'dividido': 34, 'por': 35, 'partes': 36, 'duras': 37, 'arco': 38, 'cuya': 39, 'protuberancia': 40, 'apenas': 41, 'podía': 42, 'mantenerse': 43, 'el': 44, 'cobertor': 45, 'a': 46, 'punto': 47, 'ya': 48, 'samsa': 49, 'gregorio': 50, 'resbalar': 51, 'cuando': 52}\n"
          ]
        }
      ]
    },
    {
      "cell_type": "code",
      "metadata": {
        "id": "nUDkjy80c77h",
        "colab": {
          "base_uri": "https://localhost:8080/"
        },
        "outputId": "8483e34d-eb00-437c-a64f-ba1bf93afd3e"
      },
      "source": [
        "# Cantidad de veces quea aparece cada palabra en cada \"documento\"\n",
        "# (1 documento = 1 caso de entrada)\n",
        "print(tok.word_docs)"
      ],
      "execution_count": 16,
      "outputs": [
        {
          "output_type": "stream",
          "name": "stdout",
          "text": [
            "defaultdict(<class 'int'>, {'cuando': 1, 'se': 8, 'gregorio': 2, 'samsa': 3, 'despertó': 4, 'una': 4, 'mañana': 4, 'después': 4, 'de': 15, 'un': 16, 'sueño': 4, 'intranquilo': 4, 'encontró': 4, 'sobre': 12, 'su': 8, 'cama': 4, 'convertido': 4, 'en': 12, 'monstruoso': 4, 'insecto': 4, 'estaba': 4, 'tumbado': 4, 'espalda': 4, 'dura': 4, 'y': 8, 'forma': 8, 'caparazón': 4, 'al': 5, 'levantar': 4, 'poco': 4, 'la': 4, 'cabeza': 4, 'veía': 4, 'vientre': 4, 'abombado': 4, 'parduzco': 4, 'dividido': 4, 'por': 4, 'partes': 4, 'duras': 4, 'arco': 4, 'cuya': 4, 'protuberancia': 4, 'apenas': 4, 'podía': 4, 'mantenerse': 4, 'el': 4, 'cobertor': 4, 'a': 4, 'punto': 4, 'ya': 4, 'resbalar': 2})\n"
          ]
        }
      ]
    },
    {
      "cell_type": "markdown",
      "metadata": {
        "id": "ohS5Tao1d2KB"
      },
      "source": [
        "### 2 - Preprocesamiento completo\n",
        "Debemos realizar los mismos pasos que en el ejemplo anterior, pero antes de eso debemos transformar ese dataset de filas de oraciones en un texto completo continuo para poder extraer el vocabulario."
      ]
    },
    {
      "cell_type": "code",
      "metadata": {
        "id": "63Z2-Se2t27r",
        "colab": {
          "base_uri": "https://localhost:8080/"
        },
        "outputId": "1b85d22a-20ae-483a-dbae-c7f7955baa6e"
      },
      "source": [
        "# Vistazo a las primeras filas\n",
        "df.loc[:15,0]"
      ],
      "execution_count": 17,
      "outputs": [
        {
          "output_type": "execute_result",
          "data": {
            "text/plain": [
              "0     Cuando Gregorio Samsa se despertó una mañana d...\n",
              "1     Sus muchas patas, ridículamente pequeñas en co...\n",
              "2     Por encima de la mesa, sobre la que se encontr...\n",
              "3     La mirada de Gregorio se dirigió después hacia...\n",
              "4     Aunque se lanzase con mucha fuerza hacia el la...\n",
              "5     «Esto de levantarse pronto», pensó, «le hace a...\n",
              "6     Eso podría intentar yo con mi jefe, en ese mom...\n",
              "7     Bueno, la esperanza todavía no está perdida de...\n",
              "8     Eran las seis y media y las manecillas seguían...\n",
              "9     Así pues, intentó en primer lugar sacar de la ...\n",
              "10    Pero como, jadeando después de semejante esfue...\n",
              "11    Pero al mismo tiempo no olvidaba recordar de v...\n",
              "12    Si se dejaba caer de ella de esta forma, la ca...\n",
              "13    Lo más difícil, a su modo de ver, era tener cu...\n",
              "14    Pero había que intentarlo. Cuando Gregorio ya ...\n",
              "15    Bueno, aparte de que las puertas estaban cerra...\n",
              "Name: 0, dtype: object"
            ]
          },
          "metadata": {},
          "execution_count": 17
        }
      ]
    },
    {
      "cell_type": "code",
      "metadata": {
        "id": "kILsSoxTuHEr",
        "colab": {
          "base_uri": "https://localhost:8080/",
          "height": 122
        },
        "outputId": "b17e9a5e-fe34-4bc9-cb69-4c8169d3ed31"
      },
      "source": [
        "# Concatenamos todos los rows en un solo valor\n",
        "corpus = df.apply(lambda row: ' '.join(row.values.astype(str)), axis=0)[0]\n",
        "corpus"
      ],
      "execution_count": 18,
      "outputs": [
        {
          "output_type": "execute_result",
          "data": {
            "text/plain": [
              "\"Cuando Gregorio Samsa se despertó una mañana después de un sueño intranquilo, se encontró sobre su cama convertido en un monstruoso insecto. Estaba tumbado sobre su espalda dura, y en forma de caparazón y, al levantar un poco la cabeza, veía un vientre abombado, parduzco, dividido por partes duras en forma de arco, sobre cuya protuberancia apenas podía mantenerse el cobertor, a punto ya de resbalar al suelo. Sus muchas patas, ridículamente pequeñas en comparación con el resto de su tamaño, le vibraban desamparadas ante los ojos. «¿Qué me ha ocurrido?», pensó. No era un sueño. Su habitación, una auténtica habitación humana, si bien algo pequeña, permanecía tranquila entre las cuatro paredes harto conocidas. Por encima de la mesa, sobre la que se encontraba extendido un muestrario de paños desempaquetados – Samsa era viajante de comercio –, estaba colgado aquel cuadro, que hacía poco había recortado de una revista y había colocado en un bonito marco dorado. Representaba a una dama ataviada con un sombrero y una boa” de piel, que estaba allí, sentada muy erguida y levantaba hacia el observador un pesado manguito de piel, en el cual había desaparecido su antebrazo. La mirada de Gregorio se dirigió después hacia la ventana, y el tiempo lluvioso se oían caer gotas de lluvia sobre la chapa del alfeizar de la ventana – le ponía muy melancólico. « ¿Qué pasaría – pensó – si durmiese un poco más y olvidase todas las chifladuras?» Pero esto era algo absolutamente imposible, porque estaba acostumbrado a dormir del lado derecho, pero en su estado actual no podía ponerse de ese lado. Aunque se lanzase con mucha fuerza hacia el lado derecho, una y otra vez se volvía a balancear sobre la espalda. Lo intentó cien veces, cerraba los ojos para no tener que ver las patas que pataleaban, y sólo cejaba en su empeño cuando comenzaba a notar en el costado un dolor leve y sordo que antes nunca había sentido. «Dios mío!», pensó. «¡Qué profesión tan dura he elegido! Un día sí y otro también de viaje. Los esfuerzos profesionales son mucho mayores que en el mismo almacén de la ciudad, y además se me ha endosado este ajetreo de viajar, el estar al tanto de los empalmes de tren, la comida mala y a deshora, una relación humana constantemente cambiante, nunca duradera, que jamás llega a ser cordial. ¡Que se vaya todo al diablo!» Sintió sobre el vientre un leve picor, con la espalda se deslizó lentamente más cerca de la cabecera de la cama para poder levantar mejor la cabeza; se encontró con que la parte que le picaba estaba totalmente cubierta por unos pequeños puntos blancos, que no sabía a qué se debían, y quiso palpar esa parte con una pata, pero inmediatamente la retiró, porque el roce le producía escalofríos. Se deslizó de nuevo a su posición inicial. «Esto de levantarse pronto», pensó, «le hace a uno desvariar. El hombre tiene que dormir. Otros viajantes viven como pachás”. Si yo, por ejemplo, a lo largo de la mañana vuelvo a la pensión para pasar a limpio los pedidos que he conseguido, estos señores todavía están sentados tomando el desayuno. Eso podría intentar yo con mi jefe, en ese momento iría a parar a la calle. Quién sabe, por lo demás, si no sería lo mejor para mí. Si no tuviera que dominarme por mis padres, ya me habría despedido hace tiempo, me habría presentado ante el jefe y le habría dicho mi opinión con toda mi alma. ¡Se habría caído de la mesa! Sí que es una extraña costumbre la de sentarse sobre la mesa y, desde esa altura, hablar hacia abajo con el empleado que, además, por culpa de la sordera del jefe, tiene que acercarse mucho. Bueno, la esperanza todavía no está perdida del todo; si alguna vez tengo el dinero suficiente para pagar las deudas que mis padres tienen con él – puedo tardar todavía entre cinco y seis años – lo hago con toda seguridad. Entonces habrá llegado el gran momento, ahora, por lo pronto, tengo que levantarme porque el tren sale a las cinco», y miró hacia el despertador que hacía tictac sobre el armario. «¡Dios del cielo!», pensó. Eran las seis y media y las manecillas seguían tranquilamente hacia delante, ya había pasado incluso la media, eran ya casi las menos cuarto. ¿Es que no habría sonado el despertador?» Desde la cama se veía que estaba correctamente puesto a las cuatro, seguro que también había sonado. Sí, pero... ¿Era posible seguir durmiendo tan tranquilo con ese ruido que hacía temblar los muebles? Bueno, tampoco había dormido tranquilo, pero quizá tanto más profundamente. ¿Qué iba a hacer ahora? El siguiente tren salía a las siete, para cogerlo tendría que haberse dado una prisa loca, el muestrario todavía no estaba empaquetado, y él mismo no se encontraba especialmente espabilado y ágil; e incluso si consiguiese coger el tren, no se podía evitar una reprimenda del jefe, porque el mozo de los recados habría esperado en el tren de las cinco y ya hacía tiempo que habría dado parte de su descuido. Era un esclavo del jefe, sin agallas ni juicio. ¿Qué pasaría si dijese que estaba enfermo? Pero esto sería sumamente desagradable y sospechoso, porque Gregorio no había estado enfermo ni una sola vez durante los cinco años de servicio. Seguramente aparecería el jefe con el médico del seguro, haría reproches a sus padres por tener un hijo tan vago y se salvaría de todas las objeciones remitiéndose al médico del seguro, para el que sólo existen hombres totalmente sanos, pero con aversión al trabajo. ¿Y es que en este caso no tendría un poco de razón? Gregorio, a excepción de una modorra realmente superflua después del largo sueño, se encontraba bastante bien e incluso tenía mucha hambre. ¡Mientras reflexionaba sobre todo esto con gran rapidez, sin poderse decidir a abandonar la cama – en este mismo instante el despertador daba las siete menos cuarto –, llamaron cautelosamente a la puerta que estaba a la cabecera de su cama. Gregorio – dijeron (era la madre) –, son las siete menos cuarto. ¿No ibas a salir de viaje? ¡Qué dulce voz! Gregorio se asustó, al contestar, escuchó una voz que, evidentemente, era la suya, pero en la cual, como des de lo profundo, se mezclaba un doloroso e incontenible piar, que en el primer momento dejaba salir las palabras con claridad para, al prolongarse el sonido, destrozarlas de tal forma que no se sabía si se había oído bien. Gregorio querría haber contestado detalladamente y explicarlo todo, pero en estas circunstancias se limitó a decir: – Sí, sí, gracias madre, ya me levanto. Probablemente a causa de la puerta de madera no se notaba desde fuera el cambio en la voz de Gregorio, porque la madre se tranquilizó con esta respuesta y se marchó de allí. Pero merced a la breve conversación, los otros miembros de la familia se habían dado cuenta de que Gregorio, en contra de todo lo esperado, estaba todavía en casa, y ya el padre llamaba suavemente, pero con el puño, a una de las puertas laterales. – iGregorio, Gregorio! – gritó –. ¿Qué ocurre? – Tras unos instantes insistió de nuevo con voz más grave –.¡Gregorio, Gregorio! Desde la otra puerta lateral se lamentaba en voz baja la hermana. – Gregorio, ¿no te encuentras bien?, ¿necesitas algo? Gregorio contestó hacia ambos lados: – Ya estoy preparado – y, con una pronunciación lo más cuidadosa posible, y haciendo largas pausas entre las palabras, se esforzó por despojar a su voz de todo lo que pudiese llamar la atención. El padre volvió a su desayuno, pero la hermana susurró: Gregorio, abre, te lo suplico – pero Gregorio no tenía ni la menor intención de abrir, más bien elogió la precaución de cerrar las puertas que había adquirido durante sus viajes, y esto incluso en casa. Al principio tenía la intención de levantarse tranquilamente y, sin ser molestado, vestirse y, sobre todo, desayunar, y después pensar en todo lo demás, porque en la cama, eso ya lo veía, no llegaría con sus cavilaciones a una conclusión sensata. Recordó que ya en varias ocasiones había sentido en la cama algún leve dolor, quizá producido por estar mal tumbado, dolor que al levantarse había resultado ser sólo fruto de su imaginación, y tenía curiosidad por ver cómo se iban desvaneciendo paulatinamente sus fantasías de hoy. No dudaba en absoluto de que el cambio de voz no era otra cosa que el síntoma de un buen resfriado, la enfermedad profesional de los viajantes. Tirar el cobertor era muy sencillo, sólo necesitaba inflarse un poco y caería por sí solo, pero el resto sería difícil, especial mente porque él era muy ancho. Hubiera necesitado brazos y manos para incorporarse, pero en su lugar tenía muchas patitas que, sin interrupción, se hallaban en el más dispar de los movimientos y que, además, no podía dominar. Si quería doblar alguna de ellas, entonces era la primera la que se estiraba, y si por fin lograba realizar con esta pata lo que quería, entonces todas las demás se movían, como liberadas, con una agitación grande y dolorosa. «No hay que permanecer en la cama inútilmente», se decía Gregorio. Quería salir de la cama en primer lugar con la parte inferior de su cuerpo, pero esta parte inferior que, por cierto, no había visto todavía y que no podía imaginar exactamente, demostró ser difícil de mover; el movimiento se producía muy despacio, y cuando, finalmente, casi furioso, se lanzó hacia adelante con toda su fuerza sin pensar en las consecuencias, había calculado mal la dirección, se golpeó fuertemente con la pata trasera de la cama y el dolor punzante que sintió le enseñó que precisamente la parte inferior de su cuerpo era quizá en estos momentos la más sensible. Así pues, intentó en primer lugar sacar de la cama la parte superior del cuerpo y volvió la cabeza con cuidado hacia el borde de la cama. Lo logró con facilidad y, a pesar de su anchura y su peso, el cuerpo siguió finalmente con lentitud el giro de la cabeza. Pero cuando, por fin, tenía la cabeza colgando en el aire fuera de la cama, le entró miedo de continuar avanzando de este modo porque, si se dejaba caer en esta posición, tenía que ocurrir realmente un milagro para que la cabeza no resultase herida, y precisamente ahora no podía de ningún modo perder la cabeza, prefería quedarse en la cama. Pero como, jadeando después de semejante esfuerzo, seguía allí tumbado igual que antes, y veía sus patitas de nuevo luchando entre sí, quizá con más fuerza aún, y no encontraba posibilidad de poner sosiego y orden a este atropello, se decía otra vez que de ningún modo podía permanecer en la cama y que lo más sensato era sacrificarlo todo, si es que con ello existía la más mínima esperanza de liberarse de ella. Pero al mismo tiempo no olvidaba recordar de vez en cuando que reflexionar serena, muy serenamente, es mejor que tomar decisiones desesperadas. En tales momentos dirigía sus ojos lo más agudamente posible hacia la ventana, pero, por desgracia, poco optimismo y ánimo se podían sacar del espectáculo de la niebla matinal, que ocultaba incluso el otro lado de la estrecha calle. «Las siete ya», se dijo cuando sonó de nuevo el despertador, «las siete ya y todavía semejante niebla», y durante un instante permaneció tumbado, tranquilo, respirando débilmente, como si esperase del absoluto silencio el regreso del estado real y cotidiano. Pero después se dijo: «Antes de que den las siete y cuarto tengo que haber salido de la cama del todo, como sea. Por lo demás, para entonces habrá venido alguien del almacén a preguntar por mí, porque el almacén se abre antes de las siete.» Y entonces, de forma totalmente regular, comenzó a balancear su cuerpo, cuan largo era, hacia fuera de la cama. Si se dejaba caer de ella de esta forma, la cabeza, que pretendía levantar con fuerza en la caída, permanecería probablemente ilesa. La espalda parecía ser fuerte, seguramente no le pasaría nada al caer sobre la alfombra. Lo más difícil, a su modo de ver, era tener cuidado con el ruido que se produciría, y que posiblemente provocaría al otro lado de todas las puertas, si no temor, al menos preocupación. Pero había que intentarlo. Cuando Gregorio ya sobresalía a medias de la cama – el nuevo método era más un juego que un esfuerzo, sólo tenía que balancearse a empujones – se le ocurrió lo fácil que sería si alguien viniese en su ayuda. Dos personas fuertes – pensaba en su padre y en la criada – hubiesen sido más que suficientes; sólo tendrían que introducir sus brazos por debajo de su abombada espalda, descascararle así de la cama, agacharse con el peso, y después solamente tendrían que haber soportado que diese con cuidado una vuelta impetuosa en el suelo, sobre el cual, seguramente, las patitas adquirirían su razón de ser. Bueno, aparte de que las puertas estaban cerradas, ¿debía de verdad pedir ayuda? A pesar de la necesidad, no pudo reprimir una sonrisa al concebir tales pensamientos. Ya había llegado el punto en el que, al balancearse con más fuerza, apenas podía guardar el equilibrio y pronto tendría que decidirse definitivamente, porque dentro de cinco minutos serían las siete y cuarto, en ese momento sonó el timbre de la puerta de la calle. «Seguro que es alguien del almacén», se dijo, y casi se quedó petrificado mientras sus patitas bailaban aún más deprisa. Durante un momento todo permaneció en silencio. «No abren», se dijo Gregorio, confundido por alguna absurda esperanza. Pero entonces, como siempre, la criada se dirigió, con naturalidad y con paso firme, hacia la puerta y abrió. Gregorio sólo necesitó escuchar el primer saludo del visitante y ya sabía quién era, el apoderado en persona. ¿Por qué había sido condenado Gregorio a prestar sus servicios en una empresa en la que al más mínimo descuido se concebía inmediatamente la mayor sospecha? ¿Es que todos los empleados, sin excepción, eran unos bribones? ¿Es que no había entre ellos un hombre leal y adicto a quien, simplemente porque no hubiese aprovechado para el almacén un par de horas de la mañana, se lo comiesen los remordimientos y francamente no estuviese en condiciones de abandonar la cama? ¿Es que no era de verdad suficiente mandar a preguntar a un aprendiz – si es que este «pregunteo» era necesario? ¿Tenía que venir el apoderado en persona y había con ello que mostrar a toda una familia inocente que la investigación de este sospechoso asunto solamente podía ser confiada al juicio del apoderado? Y, más como consecuencia de la irritación a la que le condujeron estos pensamientos que como consecuencia de una auténtica decisión, se lanzó de la cama con toda su fuerza. Se produjo un golpe fuerte, pero no fue un auténtico ruido. La caída fue amortigua da un poco por la alfombra y además la espalda era más elástica de lo que Gregorio había pensado; a ello se debió el sonido sordo y poco aparatoso. Solamente no había mantenido la cabeza con el cuidado necesario y se la había golpeado, la giró y la restregó contra la alfombra de rabia y dolor. – Ahí dentro se ha caído algo – dijo el apoderado en la habitación contigua de la izquierda. Gregorio intentó imaginarse si quizá alguna vez no podría ocurrirle al apoderado algo parecido a lo que le ocurría hoy a él; había al menos que admitir la posibilidad. Pero, como cruda respuesta a esta pregunta, el apoderado dio ahora un par de pasos firmes en la habitación contigua e hizo crujir sus botas de charol. Desde la habitación de la derecha, la hermana, para advertir a Gregorio, susurró: Gregorio, el apoderado está aquí. « Ya lo sé», se dijo Gregorio para sus adentras, pero no se atrevió a alzar la voz tan alto que la hermana pudiera haberlo oído. – Gregorio Dijo entonces el padre desde la habitación de la derecha –, el señor apoderado ha venido y desea saber por qué no has salido de viaje en el primer tren. No sabemos qué debemos decirle, además desea también hablar personalmente contigo, así es que, por favor, abre la puerta. El señor ya tendrá la bondad de perdonar el desorden en la habitación. – Buenos días, señor Samsa – interrumpió el apoderado amablemente. – No se encuentra bien – dijo la madre al apoderado mientras el padre hablaba ante la puerta –, no se encuentra bien, créame usted, señor apoderado. ¡Cómo si no iba Gregorio a perder un tren! El chico no tiene en la cabeza nada más que el negocio. A mí casi me disgusta que nunca salga por la tarde; ahora ha estado ocho días en la ciudad, pero pasó todas las tardes en casa. Allí está, sentado con nosotros a la mesa y lee tranquilamente el periódico o estudia horarios de trenes. Para él es ya una distracción hacer trabajos de marquetería. Por ejemplo, en dos o tres tardes ha tallado un pequeño marco, se asombrará usted de lo bonito que es, está colgado ahí dentro, en la habitación; en cuanto abra Gregorio lo verá usted enseguida. Por cierto, que me alegro de que esté usted aquí, señor apoderado, nosotros solos no habríamos conseguido que Gregorio abriese la puerta; es muy testarudo y seguro que no se encuentra bien a pesar de que lo ha negado esta mañana. – Voy enseguida – dijo Gregorio, lentamente y con precaución, y no se movió para no perderse una palabra de la conversación. – De otro modo, señora, tampoco puedo explicármelo yo dijo el apoderado –, espero que no se trate de nada serio, si bien tengo que decir, por otra parte, que nosotros, los comerciantes, por suerte o por desgracia, según se mire, tenemos sencillamente que sobreponernos a una ligera indisposición por consideración a los negocios. – Vamos, ¿puede pasar el apoderado a tu habitación? – preguntó impaciente el padre. – No – dijo Gregorio. En la habitación de la izquierda se hizo un penoso silencio, en la habitación de la derecha comenzó a sollozar la hermana. ¿Por qué no se iba la hermana con los otros? Seguramente acababa de levantarse de la cama y todavía no había empezado a vestirse; y ¿por qué lloraba? ¿Porque él no se levantaba y dejaba entrar al apoderado?, ¿porque estaba en peligro de perder el trabajo y porque entonces el jefe perseguiría otra vez a sus padres con las viejas deudas? Estas eran, de momento, preocupaciones innecesarias. Gregorio todavía estaba aquí y no pensaba de ningún modo abandonar a su familia. De momento yacía en la alfombra y nadie que hubiese tenido conocimiento de su estado hubiese exigido seriamente de él que dejase entrar al apoderado. Pero por esta pequeña descortesía, para la que más tarde se encontraría con facilidad una disculpa apropiada, no podía Gregorio ser despedido inmediatamente. Y a Gregorio le parecía que sería mucho más sensato dejarle tranquilo en lugar de molestarle con lloros e intentos de persuasión. Pero la verdad es que era la incertidumbre la que apuraba a los otros y hacía perdonar su comportamiento. – Señor Samsa – exclamó entonces el apoderado levantando la voz –.¿Qué ocurre? Se atrinchera usted en su habitación, contesta solamente con sí o no, preocupa usted grave e inútilmente a sus padres y, dicho sea de paso, falta usted a sus deberes de una forma verdaderamente inaudita. Hablo aquí en nombre de sus padres y de su jefe, y le exijo seriamente una explicación clara e inmediata. Estoy asombrado, estoy asombra do. Yo le tenía a usted por un hombre formal y sensato y ahora de repente parece que quiere usted empezar a hacer alarde de extravagancias extrañas. El jefe me insinuó esta mañana una posible explicación a su demora, se refería al cobro que se le ha confiado desde hace poco tiempo. Yo realmente di casi mi palabra de honor de que esta explicación no podía ser cierta. Pero en este momento veo su incomprensible obstinación y pierdo del todo el deseo de dar la cara en lo más mínimo por usted, y su posición no es, en absoluto, la más segura. En principio tenía la intención de decirle todo esto a solas, pero ya que me hace usted perder mi tiempo inútilmente no veo la razón de que no se enteren también sus señores padres. Su rendimiento en los últimos tiempos ha sido muy poco satisfactorio, cierto que no es la época del año apropiada para hacer grandes negocios, eso lo reconocemos, pero una época del año para no hacer negocios no existe, señor Samsa, no debe existir. – Pero señor apoderado – gritó Gregorio fuera de sí, y en su irritación olvidó todo lo demás –, abro inmediatamente la puerta. Una ligera indisposición, un mareo, me han impedido levantarme. Todavía estoy en la cama, pero ahora ya estoy otra vez despejado. Ahora mismo me levanto de la cama. ¡Sólo un momentito de paciencia! Todavía no me encuentro tan bien como creía, pero ya estoy mejor. ¡Cómo puede atacar a una persona una cosa así! Ayer por la tarde me encontraba bastante bien, mis padres bien lo saben o, mejor dicho, ya ayer por la tarde tuve una pequeña corazonada, tendría que habérseme notado. ¡Por qué no lo avisé en el almacén! Pero lo cierto es que siempre se piensa que se superará la enfermedad sin tener que quedarse. ¡Señor apoderado, tenga consideración con mis padres! No hay motivo alguno para todos los reproches que me hace usted; nunca se me dijo una palabra de todo eso; quizá no haya leído los últimos pedidos que he enviado. Por cierto, que en el tren de las ocho salgo de viaje, las pocas horas de sosiego me han dado fuerza. No se entretenga usted, señor apoderado; yo mismo estaré enseguida en el almacén, tenga usted la bondad de decirlo y de saludar de mi parte al jefe. Y mientras Gregorio farfullaba atropelladamente todo esto, y apenas sabía lo que decía, se había acercado un poco al armario, seguramente como consecuencia del ejercicio ya practicado en la cama, e intentaba ahora levantarse apoyado en él. Quería de verdad abrir la puerta, deseaba sinceramente dejarse ver y hablar con el apoderado; estaba deseoso de saber lo que los otros, que tanto deseaban verle, dirían ante su presencia. Si se asustaban, Gregorio no tendría ya responsabilidad alguna y podría estar tranquilo, pero si lo aceptaban todo con tranquilidad entonces tampoco tenía motivo para excitarse y, de hecho, podría, si se daba prisa, estar a las ocho en la estación. Al principio se resbaló varias veces del liso armario, pero finalmente se dio con fuerza un último impulso y permaneció erguido; ya no prestaba atención alguna a los dolores de vientre, aunque eran muy agudos. Entonces se dejó caer contra el respaldo de una silla cercana, a cuyos bordes se agarró fuertemente con sus patitas. Con esto había conseguido el dominio sobre sí, y enmudeció porque ahora podía escuchar al apoderado. ¿Han entendido ustedes una sola palabra? – Preguntó el apoderado a los padres –.¿O es que nos toma por tontos? – ¡Por el amor de Dios! – Exclamó la madre entre sollozos –, quizá esté gravemente enfermo y nosotros le atormentamos. ¡Grete! ¡Arete! – gritó después. ¿Qué, madre? – dijo la hermana desde el otro lado. Se comunicaban a través de la habitación de Gregorio –. Tienes que ir inmediatamente al médico, Gregorio está enfermo. Rápido, a buscar al médico. ¿Acabas de oír hablar a Gregorio? – Es una voz de animal – dijo el apoderado en un tono de voz extremadamente bajo comparado con los gritos de la madre. – ¡Anna! iAnna! – gritó el padre en dirección a la cocina, a través de la antesala, y dando palmadas –.¡Ve a buscar inmediatamente un cerrajero! Y ya corrían las dos muchachas haciendo ruido con sus faldas por la antesala ¿cómo se habría vestido la hermana tan deprisa? – y abrieron la puerta de par en par. No se oyó cerrar la puerta, seguramente la habían dejado abierta como suele ocurrir en las casas en las que ha ocurrido una gran desgracia. Pero Gregorio ya estaba mucho más tranquilo. Así es que ya no se entendían sus palabras a pesar de que a él le habían parecido lo suficientemente claras, más claras que antes, sin duda como consecuencia de que el oído se iba acostumbrando. Pero en todo caso ya se creía en el hecho de que algo andaba mal respecto a Gregorio, y se estaba dispuesto a prestarle ayuda. La decisión y seguridad con que fueron tomadas las primeras disposiciones le sentaron bien. De nuevo se consideró incluido en el círculo humano y esperaba de ambos, del médico y del cerrajero, sin distinguirlos del todo entre sí, excelentes y sorprendentes resultados. Con el fin de tener una voz lo más clara posible en las decisivas conversaciones que se avecinaban, tosió un poco esforzándose, sin embargo, por hacerlo con mucha moderación, porque posiblemente incluso ese ruido sonaba de una forma distinta a la voz humana, hecho que no confiaba poder distinguir él mismo. Mientras tanto en la habitación contigua reinaba el silencio. Quizá los padres estaban sentados a la mesa con el apoderado y cuchicheaban, quizá todos estaban arrimados a la puerta y escuchaban. Gregorio se acercó lentamente hacia la puerta con la ayuda de la silla, allí la soltó, se arrojó contra la puerta, se mantuvo erguido sobre ella – las callosidades de sus patitas estaban provistas de una substancia pegajosa – y descansó allí, durante un momento, del esfuerzo realizado. A continuación comenzó a girar con la boca la llave, que estaba dentro de la cerradura. Por desgracia, no parecía tener dientes propiamente dichos ¿con qué iba a agarrar la llave? –, pero, por el contrario, las mandíbulas eran, desde luego, muy poderosas, con su ayuda puso la llave, efectivamente, en movimiento, y no se daba cuenta de que, sin duda, se estaba causando algún daño, porque un líquido parduzco le salía de la boca, chorreaba por la llave y goteaba hasta el suelo. – Escuchen ustedes – dijo el apoderado en la habitación contigua –, está dando la vuelta a la llave. Esto significó un gran estímulo para Gregorio; pero todos debían haberle animado, incluso el padre y la madre. «iVamos Gregorio! – debían haber aclamado –. ¡Duro con ello, duro con la cerradura!» Y ante la idea de que todos seguían con expectación sus esfuerzos, se aferró ciegamente a la llave con todas las fuerzas que fue capaz de reunir. A medida que avanzaba el giro de la llave, Gregorio se movía en torno a la cerradura, ya sólo se mantenía de pie con la boca, y, según era necesario, se colgaba de la llave o la apretaba de nuevo hacia dentro con todo el peso de su cuerpo. El sonido agudo de la cerradura, que se abrió por fin, despertó del todo a Gregorio. Respirando profundamente dijo para sus adentros: «No he necesitado al cerrajero», y apoyó la cabeza sobre el picaporte para abrir la puerta del todo. Como tuvo que abrir la puerta de esta forma, ésta estaba ya bastante abierta y todavía no se le veía. En primer lugar tenía que darse lentamente la vuelta sobre sí mismo, alrededor de la hoja de la puerta, y ello con mucho cuidado si no quería caer torpemente de espaldas justo ante el umbral de la habitación. Todavía estaba absorto en llevar a cabo aquel difícil movimiento y no tenía tiempo de prestar atención a otra cosa, cuando escuchó al apoderado lanzar en voz alta un «¡Oh!» que sonó como un silbido del viento, y en ese momento vio también cómo aquél, que era el más cercano a la puerta, se tapaba con la mano la boca abierta y retrocedía lentamente como si le empujase una fuerza invisible que actuaba regularmente. La madre – a pesar de la presencia del apoderado, estaba allí con los cabellos desenredados y levantados hacia arriba de haber pasado la noche – miró en primer lugar al padre con las manos juntas, dio a continuación dos pasos hacia Gregorio y, con el rostro completamente oculto en su pecho, cayó al suelo en medio de sus faldas, que quedaron extendidas a su alrededor. El padre cerró el puño con expresión amenazadora, como si quisiera empujar de nuevo a Gregorio a su habitación, miró inseguro a su alrededor por el cuarto de estar, después se tapó los ojos con las manos y lloró de tal forma que su robusto pecho se estremecía por el llanto. Gregorio no entró, pues, en la habitación, sino que se apoyó en la parte intermedia de la hoja de la puerta que permanecía cerrada, de modo que sólo podía verse la mitad de su cuerpo y sobre él la cabeza, inclinada a un lado, con la cual miraba hacia los demás. Entre tanto el día había aclarado; al otro lado de la calle se distinguía claramente una parte del edificio de enfrente, negruzco e interminable era un hospital'º , con sus ventanas regulares que rompían duramente la fachada. Todavía caía la lluvia, pero sólo a grandes gotas, que se distinguían una por una, y que eran lanzadas hacia abajo aisladamente sobre la tierra. Las piezas de la vajilla del desayuno se extendían en gran cantidad sobre la mesa porque para el padre el desayuno era la comida principal del día, que prolongaba durante horas con la lectura de diversos periódicos. Justamente en la pared de enfrente había una fotografía de Gregorio, de la época de su servicio militar, que le representaba con uniforme de teniente, y cómo, con la mano sobre la espada, sonriendo despreocupadamente, exigía respeto para su actitud y su uniforme. La puerta del vestíbulo estaba abierta y, como la puerta del piso también estaba abierta, se podía ver el rellano de la escalera y el comienzo de la misma, que conducía hacia abajo. Bueno- dijo Gregorio, y era completamente consciente de que era el único que había conservado la tranquilidad, me vestiré inmediatamente, empaquetaré el muestrario y saldré de viaje. ¿Queréis dejarme marchar? Bueno, señor apoderado, ya ve usted que no soy obstinado y me gusta trabajar, viajar es fatigoso, pero no podría vivir sin viajar. ¿Adónde va usted, señor apoderado? ¿Al almacén? ¿Sí? ¿Lo contará usted todo tal como es en realidad? En un momento dado puede uno ser incapaz de trabajar, pero después llega el momento preciso de acordarse de los servicios prestados y de pensar que después, una vez superado el obstáculo, uno trabajará, con toda seguridad, con más celo y concentración. Yo le debo mucho al jefe, bien lo sabe usted. Por otra parte, tengo a mi cuidado a mis padres y a mi hermana. Estoy en un aprieto, pero saldré de él. Pero no me lo haga usted más difícil de lo que ya es. ¡Póngase de mi parte en el almacén! Ya sé que no se quiere bien al viajante. Se piensa que gana un montón de dinero y se da la gran vida. Es cierto que no hay una razón especial para meditar a fondo sobre este prejuicio, pero usted, señor apoderado, usted tiene una visión de conjunto de las circunstancias mejor que la que tiene el resto del personal; sí, en confianza, incluso una visión de conjunto mejor que la del mismo jefe, que, en su condición de empresario, cambia fácilmente de opinión en perjuicio del empleado. También sabe usted muy bien que el viajante, que casi todo el año está fuera del almacén, puede convertirse fácilmente en víctima de murmuraciones, casualidades y quejas infundadas, contra las que le resulta absolutamente imposible defenderse, porque la mayoría de las veces no se entera de ellas y más tarde, cuando, agotado, ha terminado un viaje, siente sobre su propia carne, una vez en el hogar, las funestas consecuencias cuyas causas no puede comprender. Señor apoderado, no se marche usted sin haberme dicho una palabra que me demuestre que, al menos en una pequeña parte, me da usted la razón. Pero el apoderado ya se había dado la vuelta a las primeras palabras de Gregorio, y por encima del hombro, que se movía convulsivamente, miraba hacia Gregorio poniendo los labios en forma de morro, y mientras Gregorio hablaba no estuvo quieto ni un momento, sino que, sin perderle de vista, se iba deslizando hacia la puerta, pero muy lentamente, como si existiese una prohibición secreta de abandonar la habitación. Ya se encontraba en el vestíbulo y, a juzgar por el movimiento repentino con que sacó el pie por última vez del cuarto de estar, podría haberse creído que acababa de quemarse la suela. Ya en el vestíbulo, extendió la mano derecha lejos de sí y en dirección a la escalera, como si allí le esperase realmente una salvación sobrenatural. Gregorio comprendió que, de ningún modo, debía dejar marchar al apoderado en este estado de ánimo, si es que no quería ver extremadamente amenazado su trabajo en el almacén. Los padres no entendían todo esto demasiado bien: durante todos estos largos años habían llegado al convencimiento de que Gregorio estaba colocado en este almacén para el resto de su vida, y además, con las preocupaciones actuales, tenían tanto que hacer, que habían perdido toda previsión. Pero Gregorio poseía esa previsión. El apoderado tenía que ser retenido, tranquilizado, persuadido y, finalmente, atraído. ¡El futuro de Gregorio y de su familia dependía de ello! ¡Si hubiese estado aquí la hermana! Ella era lista; ya había llorado cuando Gregorio toda vía estaba tranquilamente sobre su espalda, y seguro que el apoderado, ese aficionado a las mujeres, se hubiese dejado llevar por ella; ella habría cerrado la puerta del piso y en el vestí bulo le hubiese disuadido de su miedo. Pero lo cierto es que la hermana no estaba aquí y Gregorio tenía que actuar. Y sin pensar que no conocía todavía su actual capacidad de movimiento, y que sus palabras posiblemente, seguramente incluso, no habían sido entendidas, abandonó la hoja de la puerta y se deslizó a través del hueco abierto. Pretendía dirigirse hacia el apodera do que, de una forma grotesca, se agarraba ya con ambas manos a la barandilla del rellano; pero, buscando algo en que apoyarse, se cayó inmediatamente sobre sus múltiples patitas, dando un pequeño grito. Apenas había sucedido esto, sintió por primera vez en esta mañana un bienestar físico: las patitas tenían suelo firme por debajo, obedecían a la perfección, como advirtió con alegría; incluso intentaban transportarle hacia donde él quería; y ya creía Gregorio que el alivio definitivo de todos sus males se encontraba a su alcance; pero en el mismo momento en que, balanceándose por el movimiento reprimido, no lejos de su madre, permanecía en el suelo justo enfrente de ella, ésta, que parecía completamente sumida en sus propios pensamientos, dio un salto hacia arriba, con los brazos extendidos, con los dedos muy separados entre sí, y exclamó: – ¡Socorro, por el amor de Dios, socorro! Mantenía la cabeza inclinada, como si quisiera ver mejor a Gregorio, pero, en contradicción con ello, retrocedió atropelladamente; había olvidado que detrás de ella estaba la mesa puesta; cuando hubo llegado a ella, se sentó encima precipitadamente, como fuera de sí, y no pareció notar que, junto a ella, el café de la cafetera volcada, caía a chorros sobre la alfombra. – iMadre, madre! – dijo Gregorio en voz baja, y miró hacia ella. Por un momento había olvidado completamente al apoderado; por el contrario, no pudo evitar, a la vista del café que se derramaba, abrir y cerrar varias veces sus mandíbulas al vacío. Al verlo la madre gritó nuevamente, huyó de la mesa y cayó en los brazos del padre, que corría a su encuentro. Pero Gregorio no tenía ahora tiempo para sus padres. El apoderado se encontraba ya en la escalera; con la barbilla sobre la barandilla miró de nuevo por última vez. Gregorio tomó impulso para alcanzarle con la mayor seguridad posible. El apoderado debió adivinar algo, porque saltó de una vez varios escalones y desapareció; pero lanzó aún un «¡Uh!», que se oyó en toda la escalera. Lamentablemente esta huida del apoderado pareció desconcertar del todo al padre, que hasta ahora había estado relativamente sereno, pues en lugar de perseguir él mismo al apoderado, o, al menos, no obstaculizar a Gregorio en su persecución, agarró con la mano derecha el bastón del apoderado, que aquél había dejado sobre la silla junto con el sombrero y el gabán; tomó con la mano izquierda un gran periódico que había sobre la mesa y, dando patadas en el suelo, comenzó a hacer retroceder a Gregorio a su habitación blandiendo el bastón y el periódico. De nada sirvieron los ruegos de Gregorio, tampoco fueron entendidos, y por mucho que girase humildemente la cabeza, el padre pataleaba aún con más fuerza. Al otro lado, la madre había abierto de par en par una ventana, a pesar del tiempo frío, e inclinada hacia fuera se cubría el rostro con las manos. Entre la calle y la escalera se estableció una fuerte corriente de aire, las cortinas de las ventanas volaban, se agitaban los periódicos de encima de la mesa, las hojas sueltas revoloteaban por el suelo. El padre le acosaba implacablemente y daba silbidos como un loco. Pero Gregorio todavía no tenía mucha práctica en andar hacia atrás, andaba realmente muy despacio. Si Gregorio se hubiese podido dar la vuelta, enseguida hubiese estado en su habitación, pero tenía miedo de impacientar al padre con su lentitud al darse la vuelta, y a cada instante le amenazaba el golpe mortal del bastón en la espalda o la cabeza. Finalmente, no le quedó a Gregorio otra solución, pues advirtió con angustia que andando hacia atrás ni siquiera era capaz de mantener la dirección, y así, mirando con temor constantemente a su padre de reojo, comenzó a darse la vuelta con la mayor rapidez posible, pero, en realidad, con una gran lentitud. Quizá advirtió el padre su buena voluntad, porque no sólo no le obstaculizó en su empeño, sino que, con la punta de su bastón, le dirigía de vez en cuando, desde lejos, en su movimiento giratorio. ¡Si no hubiese sido por ese insoportable silbar del padre! Por su culpa Gregorio perdía la cabeza por completo. Ya casi se había dado la vuelta del todo cuando, siempre oyendo ese silbido, incluso se equivocó y retrocedió un poco en su vuelta. Pero cuando por fin, feliz, tenía ya la cabeza ante la puerta, resultó que su cuerpo era demasiado ancho para pasar por ella sin más. Naturalmente, al padre, en su actual estado de ánimo, ni siquiera se le ocurrió ni por lo más remoto abrir la otra hoja de la puerta para ofrecer a Gregorio espacio suficiente. Su idea fija consistía solamente en que Gregorio tenía que entrar en su habitación lo más rápidamente posible; tampoco hubiera permitido jamás los complicados preparativos que necesitaba Gregorio para incorporarse y, de este modo, atravesar la puerta. Es más, empujaba hacia adelante a Gregorio con mayor ruido aún, como si no existiese obstáculo alguno. Ya no sonaba tras de Gregorio como si fuese la voz de un solo padre; ahora ya no había que andarse con bromas, y Gregorio se empotró en la puerta – pasase lo que pasase. Uno de los costados se levantó, ahora estaba atravesado en el hueco de la puerta, su costado estaba herido por completo, en la puerta blanca quedaron marcadas unas manchas desagradables, pronto se quedó atascado y solo no hubiera podido moverse, las patitas de un costado estaban colgadas en el aire, y temblaban, las del otro lado permanecían aplastadas dolorosamente contra el suelo. Entonces el padre le dio por detrás un fuerte empujón que, en esta situación, le produjo un auténtico alivio, y Gregorio penetró profundamente en su habitación sangrando con intensidad. La puerta fue cerrada con el bastón y a continuación se hizo, por fin, el silencio. Hasta la caída de la tarde no se despertó Gregorio de su profundo sueño similar a una pérdida de conocimiento. Seguramente no se hubiese despertado mucho más tarde, aun sin ser molestado, porque se sentía suficientemente repuesto y descansado; sin embargo, le parecía como si le hubiesen despertado unos pasos fugaces y el ruido de la puerta que daba al vestíbulo al ser cerrada con cuidado. El resplandor de las farolas eléctricas de la calle se reflejaba pálidamente aquí y allí, en el techo de la habitación y en las partes altas de los muebles, pero abajo, donde se encontraba Gregorio, estaba oscuro. Tanteando todavía torpemente con sus antenas, que ahora aprendía a valorar, se deslizó lentamente hacia la puerta para ver lo que había ocurrido allí. Su costado izquierdo parecía una única y larga cicatriz que le daba desagradables tirones y le obligaba realmente a cojear con sus dos filas de patas. Por cierto, que una de las patitas había resultado gravemente herida durante los incidentes de la mañana – casi parecía un milagro que sólo una hubiese resultado herida –, y se arrastraba sin vida. Sólo cuando ya había llegado a la puerta advirtió lo que le había atraído hacia ella, había sido el olor a algo comestible, porque allí había una escudilla llena de leche dulce en la que nadaban trocitos de pan. Estuvo a punto de llorar de alegría porque ahora tenía aún más hambre que por la mañana, e inmediatamente introdujo la cabeza dentro de la leche casi hasta por encima de los ojos. Pero pronto volvió a sacarla con desilusión, no sólo comer le resultaba difícil debido a su delicado costado izquierdo – sólo podía comer si todo su cuerpo cooperaba jadeando –, sino que, además, la leche, que siempre había sido su bebida favorita, y que seguramente por eso se la había traído la hermana, ya no le gustaba, es más, se retiró casi con repugnancia de la escudilla y retrocedió a rastras hacia el centro de la habitación. En el cuarto de estar, por lo que veía Gregorio a través de la rendija de la puerta, estaba encendido el gas, pero mientras que, como era habitual a estas horas del día, el padre solía leer en voz alta a la madre, y a veces también a la hermana, el periódico vespertino, ahora no se oía ruido alguno. Bueno, quizá esta costumbre de leer en voz alta, tal como le contaba y le escribía siempre su hermana, se había perdido del todo en los últimos tiempos. Pero todo a su alrededor permanecía en silencio, a pesar de que, sin duda, el piso no estaba vacío. «¡Qué vida tan apacible lleva la familia!», se dijo Gregorio, y, mientras miraba fijamente la oscuridad que reinaba ante él, se sintió muy orgulloso de haber podido proporcionar a sus padres y a su hermana la vida que llevaban en una vivienda tan hermosa. Pero ¿qué ocurriría si toda la tranquilidad, todo el bienestar, toda la satisfacción, llegase ahora a un terrible final? Para no perderse en tales pensamientos, prefirió Gregorio ponerse en movimiento y arrastrarse de acá para allá por la habitación. En una ocasión, durante el largo anochecer, se abrió una pequeña rendija una vez en una puerta lateral y otra vez en la otra, y ambas se volvieron a cerrar rápidamente; probablemente alguien tenía necesidad de entrar, pero, al mismo tiempo, sentía demasiada vacilación. Entonces Gregorio se paró justamente delante de la puerta del cuarto de estar, decidido a hacer entrar de alguna manera al indeciso visitante, o al menos, para saber de quién se trataba; pero la puerta ya no se abrió más y Gregorio esperó en vano. Por la mañana temprano, cuando todas las puertas estaban bajo llave, todos querían entrar en su habitación, ahora que había abierto una puerta, y las demás habían sido abiertas sin duda durante el día, no venía nadie y, además, ahora las llaves estaban metidas en las cerraduras desde fuera. Muy tarde, ya de noche, se apagó la luz en el cuarto de estar y entonces fue fácil comprobar que los padres y la hermana habían permanecido despiertos todo ese tiempo, porque tal y como se podía oír perfectamente, se retiraban de puntillas los tres juntos en este momento. Así pues, seguramente hasta la mañana siguiente no entraría nadie más en la habitación de Gregorio; disponía de mucho tiempo para pensar, sin que nadie le molestase, sobre cómo debía organizar de nuevo su vida. Pero la habitación de techos altos y que daba la impresión de estar vacía, en la cual estaba obligado a permanecer tumbado en el suelo, le asustaba sin que pudiera descubrir cuál era la causa, puesto que era la habitación que ocupaba desde hacía cinco años, y con un giro medio inconciente y no sin una cierta vergüenza, se apresuró a meterse bajo el canapé, en donde, a pesar de que su caparazón era algo estrujado y a pesar de que ya no podía levantar la cabeza, se sintió pronto muy cómodo y solamente lamentó que su cuerpo fuese demasiado ancho para poder desaparecer por completo debajo del canapé. Allí permaneció durante toda la noche, que pasó, en parte inmerso en un semisueño, del que una y otra vez le despertaba el hambre con un sobresalto, y, en parte, entre preocupaciones y confusas esperanzas, que le llevaban a la consecuencia de que, de momento, debía comportarse con calma y, con la ayuda de una gran paciencia y de una gran consideración por parte de la familia, tendría que hacer soportables las molestias que Gregorio, en su estado actual, no podía evitar producirles. Ya muy de mañana, era todavía casi de noche, tuvo Gregorio la oportunidad de poner a prueba las decisiones que acababa de tomar, porque la hermana, casi vestida del todo, abrió la puerta desde el vestíbulo y miró con expectación hacia dentro. No le encontró enseguida, pero cuando le descubrió debajo del canapé – ¡Dios mío, tenía que estar en alguna parte, no podía haber volado! – se asustó tanto que, sin poder dominarse, volvió a cerrar la puerta desde fuera. Pero como si se arrepintiese de su comportamiento, inmediatamente la abrió de nuevo y entró de puntillas, como si se tratase de un enfermo grave o de un extraño. Gregorio había adelantado la cabeza casi hasta el borde del canapé y la observaba. ¿Se daría cuenta de que se había dejado la leche, y no por falta de hambre, y le traería otra comida más adecuada? Si no caía en la cuenta por sí misma, Gregorio preferiría morir de hambre antes que llamarle la atención sobre esto, a pesar de que sentía unos enormes deseos de salir de debajo del canapé, arrojarse a los pies de la hermana y rogarle que le trajese algo bueno de comer. Pero la hermana reparó con sorpresa en la escudilla llena, a cuyo alrededor se había vertido un poco de leche, y la levantó del suelo, cierto que no lo hizo directamente con las manos, sino con un trapo, y se la llevó. Gregorio tenía mucha curiosidad por saber lo que le traería en su lugar, e hizo al respecto las más diversas conjeturas. Pero nunca hubiese podido adivinar lo que la bondad de la hermana iba realmente a hacer. Para poner a prueba su gusto, le trajo muchas cosas donde elegir, todas ellas extendidas sobre un viejo periódico. Había verduras pasadas medio podridas, huesos de la cena, rodeados de una salsa blanca que se había ya endurecido, algunas uvas pasas y almendras”, un queso que, hacía dos días, Gregorio había calificado de incomible, un trozo de pan, otro trozo de pan untado con mantequilla y otro trozo de pan untado con mantequilla y sal. Además añadió a todo esto la escudilla, que, a partir de ahora, probablemente estaba destinada a Gregorio, en la cual había echado agua. Y por delicadeza, como sabía que Gregorio nunca comería delante de ella, se retiró rápidamente e incluso echó la llave, para que Gregorio se diese cuenta de que podía ponerse todo lo cómodo que desease. Las patitas de Gregorio zumbaban cuando se acercaba el momento de comer. Por cierto, que sus heridas ya debían estar curadas del todo, ya no notaba molestia alguna, se asombró y pensó en cómo, hacía más de un mes, se había cortado un poco un dedo y esa herida, todavía anteayer, le dolía bastante. ¿Tendré ahora menos sensibilidad?, pensó, y ya chupaba con voracidad el queso, que fue lo que más fuertemente y de inmediato le atrajo de todo. Sucesivamente, a toda velocidad, y con los ojos llenos de lágrimas de alegría, devoró el queso, las verduras y la salsa; los alimentos frescos, por el contrario, no le gustaban, ni siquiera podía soportar su olor, e incluso alejó un poco las cosas que quería comer. Ya hacía tiempo que había terminado y permanecía tumbado perezosamente en el mismo sitio, cuando la hermana, como señal de que debía retirarse, giró lentamente la llave. Esto le asustó, a pesar de que ya dormitaba, y se apresuró a esconderse bajo el canapé, pero le costó una gran fuerza de voluntad permanecer debajo del canapé aún el breve tiempo en el que la hermana estuvo en la habitación, porque, a causa de la abundante comida, el vientre se había redondeado un poco y apenas podía respirar en el reducido espacio. Entre pequeños ataques de asfixia, veía con ojos un poco saltones, cómo la hermana, que nada imaginaba de esto, no solamente barría con su escoba los restos, sino también los alimentos que Gregorio ni siquiera había tocado, como si éstos ya no se pudiesen utilizar, y cómo lo tiraba todo precipitadamente a un cubo, que cerró con una tapa de madera, después de lo cual se lo llevó todo. Apenas se había dado la vuelta, cuando Gregorio salía ya de debajo del canapé, se estiraba y se inflaba. De esta forma recibía Gregorio su comida diaria una vez por la mañana, cuando los padres y la criada todavía dormían, y la segunda vez después de la comida del mediodía, porque entonces los padres dormían un ratito y la hermana mandaba a la criada a algún recado. Sin duda los padres no querían que Gregorio se muriese de hambre, pero quizá no hubieran podido soportar enterarse de sus costumbres alimenticias, más de lo que de ellas les dijese la hermana; quizá la hermana quería ahorrarles una pequeña pena porque, de hecho, ya sufrían bastante. Gregorio no pudo enterarse de las excusas con las que el médico y el cerrajero habían sido despedidos de la casa en aquella primera mañana, puesto que, como no podían entenderle, nadie, ni siquiera la hermana, pensaba que él pudiera entender a los demás, y, así, cuando la hermana estaba en su habitación, tenía que conformarse con escuchar de vez en cuando sus suspiros y sus invocaciones a los santos. Sólo más tarde, cuando ya se había acostumbrado un poco a todo – naturalmente nunca podría pensarse en que se acostumbrase del todo –, cazaba Gregorio a veces una observación hecha amablemente o que así podía interpretarse: «Hoy sí que le ha gustado», decía, cuando Gregorio había comido con abundancia, mientras que, en el caso contrario, que poco a poco se repetía con más frecuencia, solía decir casi con tristeza: «Hoy ha sobrado todo.» Mientras que Gregorio no se enteraba de novedad alguna de forma directa, escuchaba algunas cosas procedentes de las habitaciones contiguas, y allí donde escuchaba voces una sola vez, corría enseguida hacia la puerta correspondiente y se estrujaba con todo su cuerpo contra ella. Especialmente en los primeros tiempos no había ninguna conversación que de alguna manera, si bien sólo en secreto, no tratase de él. A lo largo de dos días se escucharon durante las comidas discusiones sobre cómo se debían comportar ahora; pero también entre las comidas se hablaba del mismo tema, porque siempre había en casa al menos dos miembros de la familia, ya que seguramente nadie quería quedarse solo en casa, y tampoco podían dejar de ningún modo la casa sola. Incluso ya el primer día la criada (no estaba del todo claro qué y cuánto sabía de lo ocurrido) había pedido de rodillas a la madre que la despidiese inmediatamente, y cuando, cuarto de hora después, se marchaba con lágrimas en los ojos, daba gracias por el despido como por el favor más grande que pudiese hacérsele, y sin que nadie se lo pidiese hizo un solemne juramento de no decir nada a nadie. Ahora la hermana, junto con la madre, tenía que cocinar, si bien esto no ocasionaba demasiado trabajo porque apenas se comía nada. Una y otra vez escuchaba Gregorio cómo uno animaba en vano al otro a que comiese y no recibía más contestación que: « ¡Gracias, tengo suficiente!», o algo parecido. Quizá tampoco se bebía nada. A veces la hermana preguntaba al padre si quería tomar una cerveza, y se ofrecía amablemente a ir ella misma a buscarla, y como el padre permanecía en silencio, añadía, para que él no tuviese reparos, que también podía mandar a la portera, pero entonces el padre respondía, por fin, con un poderoso «no», y ya no se hablaba más del asunto. Ya en el transcurso del primer día el padre explicó tanto a la madre como a la hermana toda la situación económica y las perspectivas. De vez en cuando se levantaba de la mesa y recogía de la pequeña caja marca Wertheim*, que había salvado de la quiebra de su negocio ocurrida hacía cinco años, algún documento o libro de anotaciones. Se oía cómo abría el complicado cerrojo y lo volvía a cerrar después de sacar lo que buscaba. Estas explicaciones del padre eran, en parte, la primera cosa grata que Gregorio oía desde su encierro. Gregorio había creído que al padre no le había quedado nada de aquel negocio, al menos el padre no le había dicho nada en sentido contrario y, por otra parte, tampoco Gregorio le había preguntado. En aquel entonces la preocupación de Gregorio había sido hacer todo lo posible para que la familia olvidase rápidamente el desastre comercial que les había sumido a todos en la más completa desesperación, y así había empezado entonces a trabajar con un ardor muy especial y, casi de la noche a la mañana, había pasado a ser de un simple dependiente a un viajante que, naturalmente, tenía otras muchas posibilidades de ganar dinero, y cuyos éxitos profesionales, en forma de comisiones, se convierten inmediatamente en dinero contante y sonante, que se podían poner sobre la mesa en casa ante la familia asombra da y feliz. Habían sido buenos tiempos y después nunca se habían repetido, al menos con ese esplendor, a pesar de que Gregorio, después, ganaba tanto dinero, que estaba en situación de cargar con todos los gastos de la familia y así lo hacía. Se habían acostumbrado a esto tanto la familia como Gregorio, se aceptaba el dinero con agradecimiento, él lo entregaba con gusto, pero ya no emanaba de ello un calor especial. Solamente la hermana había permanecido unida a Gregorio, y su intención secreta consistía en mandarla el año próximo al conservatorio sin tener en cuenta los grandes gastos que ello traería consigo y que se compensarían de alguna otra forma, porque ella, al contrario que Gregorio, sentía un gran amor por la música y tocaba el violín de una forma conmovedora. Con frecuencia, durante las breves estancias de Gregorio en la ciudad, se mencionaba el conservatorio en las conversaciones con la hermana, pero sólo como un hermoso sueño en cuya realización no podía ni pensarse, y a los padres ni siquiera les gustaba escuchar estas inocentes alusiones; pero Gregorio pensaba decididamente en ello y tenía la intención de darlo a conocer solemnemente en Nochebuena. Este tipo de pensamientos, completamente inútiles en su estado actual, eran los que se le pasaban por la cabeza mientras permanecía allí pegado a la puerta y escuchaba. A veces ya no podía escuchar más de puro cansancio y, en un descuido, se golpeaba la cabeza contra la puerta, pero inmediatamente volvía a levantarla, porque incluso el pequeño ruido que había producido con ello, había sido escuchado al lado y había hecho enmudecer a todos. ¿Qué es lo que hará? – decía el padre pasados unos momentos y dirigiéndose a todas luces hacia la puerta; después se reanudaba poco a poco la conversación que había sido interrumpida. De esta forma Gregorio se enteró muy bien – el padre solía repetir con frecuencia sus explicaciones, en parte porque él mismo ya hacía tiempo que no se ocupaba de estas cosas, y, en parte también, porque la madre no entendía todo a la primera – de que, a pesar de la desgracia, todavía quedaba una pequeña fortuna, que los intereses, aún intactos, habían hecho aumentar un poco más durante todo este tiempo. Además, él no dormía ni un momento, y se restregaba durante horas sobre el cuero. O bien no retrocedía ante el gran esfuerzo de empujar una silla hasta la ventana, trepar a continuación hasta el antepecho y, subido en la silla, apoyarse en la ventana y mirar a través de la misma, sin duda como recuerdo de lo libre que se había sentido siempre que anteriormente había estado apoyado aquí. Porque, efectivamente, de día en día, veía cada vez con menos claridad las cosas que ni siquiera estaban muy alejadas: ya no podía ver el hospital de enfrente, cuya visión constante había antes maldecido, y si no hubiese sabido muy bien que vivía en la tranquila pero central Charlottenstrasse, podría haber creído que veía desde su ventana un desierto en el que el cielo gris y la gris tierra se unían sin poder distinguirse uno de otra. Sólo dos veces había sido necesario que su atenta hermana viese que la silla estaba bajo la ventana para que, a partir de entonces, después de haber recogido la habitación, la colocase siempre bajo aquélla, e incluso dejase abierta la contraventana interior. Si Gregorio hubiese podido hablar con la hermana y darle las gracias por todo lo que tenía que hacer por él, hubiese soportado mejor sus servicios, pero de esta forma sufría con ellos. Ciertamente, la hermana intentaba hacer más llevadero lo desagradable de la situación, y, naturalmente, cuanto más tiempo pasaba, tanto más fácil le resultaba conseguirlo, pero también Gregorio adquirió con el tiempo una visión de conjunto más exacta. Ya el solo hecho de que la hermana entrase le parecía terrible. Apenas había entrado, sin tomarse el tiempo necesario para cerrar la puerta, y eso que siempre ponía mucha atención en ahorrar a todos el espectáculo que ofrecía la habitación de Gregorio, corría derecha hacia la ventana y la abría de par en par, con manos presurosas, como si se asfixiase y, aunque hiciese mucho frío, permanecía durante algunos momentos ante ella y respiraba profundamente. Estas carreras y ruidos asustaban a Gregorio dos veces al día; durante todo ese tiempo temblaba bajo el canapé y sabía muy bien que ella le hubiese evitado con gusto todo esto, si es que le hubiese sido posible permanecer con la ventana cerrada en la habitación en la que se encontraba Gregorio. Una vez, hacía aproximadamente un mes de la transformación de Gregorio, y el aspecto de éste ya no era para la hermana motivo especial de asombro, llegó un poco antes de lo previsto y encontró a Gregorio cuando miraba por la ventana, inmóvil y realmente colocado para asustar. Para Gregorio no hubiese sido inesperado si ella no hubiese entrado, ya que él, con su posición, impedía que ella pudiese abrir de inmediato la ventana, pero ella no solamente no entró, sino que retrocedió y cerró la puerta; un extraño habría podido pensar que Gregorio la había acechado y había querido morderla. Gregorio, naturalmente, se escondió enseguida bajo el canapé, pero tuvo que esperar hasta mediodía antes de que la hermana volviese de nuevo, y además parecía mucho más intranquila que de costumbre. Gregorio sacó la conclusión de que su aspecto todavía le resultaba insoportable y continuaría pareciéndoselo, y que ella tenía que dominarse a sí misma para no salir corriendo al ver incluso la pequeña parte de su cuerpo que sobresalía del canapé. Para ahorrarle también ese espectáculo, transportó un día sobre la espalda – para ello necesitó cuatro horas – la sábana encima del canapé, y la colocó de tal forma que él quedaba tapado del todo, y la hermana, incluso si se agachaba, no podía verlo. Si, en opinión de la hermana, esa sábana no hubiese sido necesaria, podría haberla retirado, porque estaba suficientemente claro que Gregorio no se aislaba por gusto, pero dejó la sábana tal como estaba, e incluso Gregorio creyó adivinar una mirada de gratitud cuando, con cuidado, levantó la cabeza un poco para ver cómo acogía la hermana la nueva disposición. Durante los primeros catorce días, los padres no consiguieron decidirse a entrar en su habitación, y Gregorio escuchaba con frecuencia cómo ahora reconocían el trabajo de la hermana, a pesar de que anteriormente se habían enfadado muchas veces con ella, porque les parecía una chica un poco inútil. Pero ahora, a veces, ambos, el padre y la madre, esperaban ante la habitación de Gregorio mientras la hermana la recogía y, apenas había salido, tenía que contar con todo detalle qué aspecto tenía la habitación, lo que había comido Gregorio, cómo se había comportado esta vez y si, quizá, se advertía una pequeña mejoría. Por cierto, que la madre quiso entrar a ver a Gregorio relativamente pronto, pero el padre y la hermana se lo impidieron, al principio con argumentos racionales, que Gregorio escuchaba con mucha atención, y con los que estaba muy de acuerdo, pero más tarde hubo que impedírselo por la fuerza, y si entonces gritaba. «¡Dejadme entrar a ver a Gregorio, pobre hijo mío! ¿Es que no comprendéis que tengo que entrar a verle?» Entonces Gregorio pensaba que quizá sería bueno que la madre entrase, naturalmente no todos los días, pero sí una vez a la semana; ella comprendía todo mucho mejor que la hermana, que, a pesar de todo su valor, no era más que una niña, y, en última instancia, quizá sólo se había hecho cargo de una tarea tan difícil por irreflexión infantil. El deseo de Gregorio de ver a la madre pronto se convirtió en realidad. Durante el día Gregorio no quería mostrarse por la ventana, por consideración a sus padres, pero tampoco podía arrastrarse demasiado por los pocos metros cuadrados del suelo; ya soportaba con dificultad estar tumbado tranquilamente durante la noche, pronto ya ni siquiera la comida le producía alegría alguna y así, para distraerse, adoptó la costumbre de arrastrarse en todas direcciones por las paredes y el techo. Le gustaba especialmente permanecer colgado del techo; era algo muy distinto a estar tumbado en el suelo; se respiraba con más libertad; un ligero balanceo atravesaba el cuerpo; y sumido en la casi feliz distracción en la que se encontraba allí arriba, podía ocurrir que, para su sorpresa, se dejase caer y se golpease contra el suelo. Pero ahora, naturalmente, dominaba su cuerpo de una forma muy distinta a como lo había hecho antes y no se hacía daño, incluso después de semejante caída. La hermana se dio cuenta inmediatamente de la nueva diversión que Gregorio había descubierto – dejaba tras de sí al arrastrarse por todas partes huellas de su sustancia pegajosa – y entonces se le metió en la cabeza proporcionar a Gregorio la posibilidad de arrastrarse a gran escala y sacar de allí los muebles que lo impedían, es decir, sobre todo el armario y el escritorio, ella no era capaz de hacerlo todo sola; tampoco se atrevía a pedir ayuda al padre; la criada no la hubiese ayudado seguramente, porque esa chica, de unos dieciséis años, resistía ciertamente con valor desde que se despidió la cocinera anterior, pero había pedido el favor de poder mantener la cocina constantemente cerrada y abrirla solamente a una señal determinada. Así pues, no le quedó a la hermana más remedio que valerse de la madre, una vez que estaba el padre ausente. Con exclamaciones de excitada alegría se acercó la madre, pero enmudeció ante la puerta de la habitación de Gregorio. Primero la hermana se aseguró de que todo en la habitación estaba en orden, después dejó entrar a la madre. Gregorio se había apresurado a colocar la sábana aún más bajo y con más pliegues, de modo que, de verdad, tenía el aspecto de una sábana lanzada casualmente sobre el canapé. Gregorio se abstuvo esta vez de espiar por debajo de la sábana; renunció a ver esta vez a la madre y se contentaba sólo conque hubiese venido. -Vamos, acércate, no se le ve -dijo la hermana, y, sin duda, llevaba a la madre de la mano. Gregorio oyó entonces cómo las dos débiles mujeres movían de su sitio el pesado y viejo armario, y cómo la hermana siempre se cargaba la mayor parte del trabajo, sin escuchar las advertencias de la madre que temía que se esforzase demasiado. Duró mucho tiempo. Aproximadamente después de un cuarto de hora de trabajo dijo la madre que deberían dejar aquí el armario, porque, en primer lugar, era demasiado pesado y no acabarían antes de que regresase el padre, y con el armario en medio de la habitación le bloqueaban a Gregorio cualquier camino y, en segundo lugar, no era del todo seguro que se le hiciese a Gregorio un favor con retirar los muebles. A ella le parecía precisamente lo contrario, la vista de las paredes desnudas le oprimía el corazón, y por qué no iba a sentir Gregorio lo mismo, puesto que ya hacía tiempo que estaba acostumbrado a los muebles de la habitación, y por eso se sentiría abandonado en la habitación vacía. -Y es que acaso no... -finalizó la madre en voz baja, aunque ella hablaba siempre casi susurrando, como si quisiera evitar que Gregorio, cuyo escondite exacto ella ignoraba, escuchase siquiera el sonido de su voz, porque ella estaba convencida de que él no entendía las palabras. -¿Y es que acaso no parece que retirando los muebles le mostramos que perdemos toda esperanza de mejoría y lo abandonamos a su suerte sin consideración alguna? Yo creo que lo mejor sería que intentásemos conservar la habitación en el mismo estado en que se encontraba antes, para que Gregorio, cuando regrese de nuevo con nosotros, encuentre todo tal como estaba y pueda olvidar más fácilmente este paréntesis de tiempo. Al escuchar estas palabras de la madre, Gregorio reconoció que la falta de toda conversación inmediata con un ser humano, junto a la vida monótona en el seno de la familia, tenía que haber confundido sus facultades mentales a lo largo de estos dos meses, porque de otro modo no podía explicarse que hubiese podido desear seriamente que se vaciase su habitación. ¿Deseaba realmente permitir que transformasen la cálida habitación amueblada confortablemente, con muebles heredados de su familia, en una cueva en la que, efectivamente, podría arrastrarse en todas direcciones sin obstáculo alguno, teniendo, sin embargo, como contrapartida, que olvidarse al mismo tiempo, rápidamente y por completo, de su pasado humano? Ya se encontraba a punto de olvidar y solamente le había animado la voz de su madre, que no había oído desde hacía tiempo. Nada debía retirarse, todo debía quedar como estaba, no podía prescindir en su estado de la bienhechora influencia de los muebles, y si los muebles le impedían arrastrarse sin sentido de un lado para otro, no se trataba de un perjuicio, sino de una gran ventaja. Pero la hermana era, lamentablemente, de otra opinión; no sin cierto derecho, se había acostumbrado a aparecer frente a los padres como experta al discutir sobre asuntos concernientes a Gregorio, y de esta forma el consejo de la madre era para la hermana motivo suficiente para retirar no sólo el armario y el escritorio, como había pensado en un principio, sino todos los muebles a excepción del imprescindible canapé. Naturalmente, no sólo se trataba de una terquedad pueril y de la confianza en sí misma que en los últimos tiempos, de forma tan inesperada y difícil, había conseguido, lo que la impulsaba a esta exigencia; ella había observado, efectivamente, que Gregorio necesitaba mucho sitio para arrastrarse y que, en cambio, no utilizaba en absoluto los muebles, al menos por lo que se veía. Pero quizá jugaba también un papel importante el carácter exaltado de una chica de su edad, que busca su satisfacción en cada oportunidad, y por el que Greta ahora se dejaba tentar con la intención de hacer más que ahora, porque en una habitación en la que sólo Gregorio era dueño y señor de las paredes vacías, no se atrevería a entrar ninguna otra persona más que Grete. Así pues, no se dejó disuadir de sus propósitos por la madre, que también, de pura inquietud, parecía sentirse insegura en esta habitación; pronto enmudeció y ayudó a la hermana con todas sus fuerzas a sacar el armario. Bueno, en caso de necesidad, Gregorio podía prescindir del armario, pero el escritorio tenía que quedarse; y apenas habían abandonado las mujeres la habitación con el armario, en el cual se apoyaban gimiendo, cuando Gregorio sacó la cabeza de debajo del canapé para ver cómo podía tomar cartas en el asunto lo más prudente y discretamente posible. Pero, por desgracia, fue precisamente la madre quien regresó primero, mientras Grete, en la habitación contigua, sujetaba el armario rodeándolo con los brazos y lo empujaba sola de acá para allá, naturalmente, sin moverlo un ápice de su sitio. Pero la madre no estaba acostumbrada a ver a Gregorio, podría haberse puesto enferma por su culpa, y así Gregorio, andando hacia atrás, se alejó asustado hasta el otro extremo del canapé, pero no pudo evitar que la sábana se moviese un poco por la parte de delante. Esto fue suficiente para llamar la atención de la madre. Ésta se detuvo, permaneció allí un momento en silencio y luego volvió con Grete. A pesar de que Gregorio se repetía una y otra vez que no ocurría nada fuera de lo común, sino que sólo se cambiaban de sitio algunos muebles, sin embargo, como pronto habría de confesarse a sí mismo, este ir y venir de las mujeres, sus breves gritos, el arrastrar de los muebles sobre el suelo, le producían la impresión de un gran barullo, que crecía procedente de todas las direcciones y, por mucho que encogía la cabeza y las patas sobre sí mismo y apretaba el cuerpo contra el suelo, tuvo que confesarse irremisiblemente que no soportaría todo esto mucho tiempo. Ellas le vaciaban su habitación, le quitaban todo aquello a lo que tenía cariño, el armario en el que guardaba la sierra y otras herramientas ya lo habían sacado; ahora ya aflojaban el escritorio, que estaba fijo al suelo, en el cual había hecho sus deberes cuando era estudiante de comercio, alumno del instituto e incluso alumno de la escuela primaria – ante esto no le quedaba ni un momento para comprobar las buenas intenciones que tenían las dos mujeres, y cuya existencia, por cierto, casi había olvidado, porque de puro agotamiento trabajaban en silencio y solamente se oían las sordas pisadas de sus pies. Y así salió de repente – las mujeres estaban en ese momento en la habitación contigua, apoyadas en el escritorio para tomar aliento –, cambió cuatro veces la dirección de su marcha, no sabía a ciencia cierta qué era lo que debía salvar primero, cuando vio en la pared ya vacía, llamándole la atención, el cuadro de la mujer envuelta en pieles, se arrastró apresuradamente hacia arriba y se apretó contra el cuadro, cuyo cristal le sujetaba y le aliviaba el ardor de su vientre. Al menos este cuadro, que Gregorio tapaba ahora por completo, seguro que no se lo llevaba nadie. Volvió la cabeza hacia la puerta del cuarto de estar para observar a las mujeres cuando volviesen. No se habían permitido una larga tregua y ya volvían; Grete había rodeado a su madre con el brazo y casi la llevaba en volandas. ¿Qué nos llevamos ahora? – dijo Grete, y miró a su alrededor. Entonces sus miradas se cruzaron con las de Gregorio, que estaba en la pared. Seguramente sólo a causa de la presencia de la madre conservó su serenidad, inclinó su rostro hacia la madre, para impedir que ella mirase a su alrededor, y dijo temblando y aturdida: – Ven, ¿nos volvemos un momento al cuarto de estar? Gregorio veía claramente la intención de Grete, quería llevar a la madre a un lugar seguro y luego echarle de la pared. Bueno, ¡que lo intentase! Él permanecería sobre su cuadro y no renunciaría a él. Prefería saltarle a Grete a la cara. Pero justamente las palabras de Grete inquietaron a la madre, se echó a un lado, vio la gigantesca mancha pardusca sobre el papel pintado de flores y, antes de darse realmente cuenta de que aquello que veía era Gregorio, gritó con voz ronca y estridente: – ¡Ay Dios mío, ay Dios mío! – y con los brazos extendidos cayó sobre el canapé, como si renunciase a todo, y se quedó allí inmóvil. –¡Cuidado Gregorio! – gritó la hermana levantando el puño y con una mirada penetrante. Desde la transformación eran estas las primeras palabras que le dirigía directamente. Corrió a la habitación contigua para buscar alguna esencia con la que pudiese despertar a su madre de su inconsciencia; Gregorio también quería ayudar – había tiempo más que suficiente para salvar el cuadro –, pero estaba pegado al cristal y tuvo que desprenderse con fuerza, luego corrió también a la habitación de al lado como si pudiera dar a la hermana algún consejo, como en otros tiempos, pero tuvo que quedarse detrás de ella sin hacer nada; mientras que Grete revolvía entre diversos frascos, se asustó al darse la vuelta, un frasco se cayó al suelo y se rompió y un trozo de cristal hirió a Gregorio en la cara; una medicina corrosiva se derramó sobre él. Sin detenerse más tiempo, Grete cogió todos los frascos que podía llevar y corrió con ellos hacia donde estaba la madre; cerró la puerta con el pie. Gregorio estaba ahora aislado de la madre, que quizá estaba a punto de morir por su culpa; no debía abrir la habitación, no quería echar a la hermana que tenía que permanecer con la madre; ahora no tenía otra cosa que hacer que esperar; y, afligido por los remordimientos y la preocupación, comenzó a arrastrarse, se arrastró por todas partes: paredes, muebles y techos, y finalmente, en su desesperación, cuando ya la habitación empezaba a dar vueltas a su alrededor, se desplomó en medio de la gran mesa. Pasó un momento, Gregorio yacía allí extenuado, a su alrededor todo estaba tranquilo, quizá esto era una buena señal. Entonces sonó el timbre. La chica estaba, naturalmente, encerrada en su cocina y Grete tenía que ir a abrir. El padre había llegado. ¿Qué ha ocurrido? – fueron sus primeras palabras. El aspecto de Grete lo revelaba todo. Grete contestó con voz ahogada, sin duda apretaba su rostro contra el pecho del padre: – La madre se quedó inconsciente, pero ya está mejor. Gregorio se ha escapado. – Ya me lo esperaba – dijo el padre –, os lo he dicho una y otra vez, pero vosotras, las mujeres, nunca hacéis caso. Gregorio se dio cuenta de que el padre había interpretado mal la escueta información de Grete y sospechaba que Gregorio había hecho uso de algún acto violento. Por eso ahora tenía que intentar apaciguar al padre, porque para darle explicaciones no tenía ni el tiempo ni la posibilidad. Así pues, Gregorio se precipitó hacia la puerta de su habitación y se apretó contra ella para que el padre, ya desde el momento en que entrase en el vestíbulo, viese que Gregorio tenía la más sana intención de regresar inmediatamente a su habitación, y que no era necesario hacerle retroceder, sino que sólo hacía falta abrir la puerta e inmediatamente desaparecería. Pero el padre no estaba en situación de advertir tales sutilezas. – ¡Ah! – gritó al entrar, en un tono como si al mismo tiempo estuviese furioso y contento. Gregorio retiró la cabeza de la puerta y la levantó hacia el padre. Nunca se hubiese imaginado así al padre, tal y como estaba allí; bien es verdad que en los últimos tiempos, puesta su atención en arrastrarse por todas partes, había perdido la ocasión de preocuparse como antes de los asuntos que ocurrían en el resto de la casa, y tenía realmente que haber estado preparado para encontrar las circunstancias cambiadas. Aun así, aun así. ¿Era este todavía el padre? El mismo hombre que yacía sepultado en la cama, cuando, en otros tiempos, Gregorio salía en viaje de negocios? ¿El mismo hombre que, la tarde en que volvía, le recibía en bata sentado en su sillón, y que no estaba en condiciones de levantarse, sino que, como señal de alegría, sólo levantaba los brazos hacia él? ¿El mismo hombre que, durante los poco frecuentes paseos en común, un par de domingos al año o en las festividades más importantes, se abría paso hacia delante entre Gregorio y la madre, que ya de por sí andaban despacio, aún más despacio que ellos, envuelto en su viejo abrigo, siempre apoyando con cuidado el bastón, y que, cuando quería decir algo, casi siempre se quedaba parado y congregaba a sus acompañantes a su alrededor? Pero ahora estaba muy derecho, vestido con un rígido uniforme azul con botones, como los que llevan los ordenanzas de los bancos; por encima del cuello alto y tieso de la chaqueta sobresalía su gran papada; por debajo de las pobladas cejas se abría paso la mirada, despierta y atenta, de unos ojos negros. El cabello blanco, en otro tiempo desgreñado, estaba ahora ordenado en un peinado a raya brillante y exacto. Arrojó su gorra, en la que había bordado un monograma dorado, probablemente el de un banco, sobre el canapé a través de la habitación formando un arco, y se dirigió hacia Gregorio con el rostro enconado, las puntas de la larga chaqueta del uniforme echadas hacia atrás, y las manos en los bolsillos del pantalón. Probablemente ni él mismo sabía lo que iba a hacer, sin embargo levantaba los pies a una altura desusada y Gregorio se asombró del tamaño enorme de las suelas de sus botas. Pero Gregorio no permanecía parado, ya sabía desde el primer día de su nueva vida que el padre, con respecto a él, sólo consideraba oportuna la mayor rigidez. Y así corría delante del padre, se paraba si el padre se paraba, y se apresuraba a seguir hacia delante con sólo que el padre se moviese. Así recorrieron varias veces la habitación sin que ocurriese nada decisivo y sin que ello hubiese tenido el aspecto de una persecución, como consecuencia de la lentitud de su recorrido. Por eso Gregorio permaneció de momento sobre el suelo, especialmente porque temía que el padre considerase una especial maldad por su parte la huida a las paredes o al techo. Por otra parte, Gregorio tuvo que confesarse a sí mismo que no soportaría por mucho tiempo estas carreras, porque mientras el padre daba un paso, él tenía que realizar un sinnúmero de movimientos. Ya comenzaba a sentir ahogos, bien es verdad que tampoco anteriormente había tenido unos pulmones dignos de confianza. Mientras se tambaleaba con la intención de reunir todas sus fuerzas para la carrera, apenas tenía los ojos abiertos; en su embotamiento no pensaba en otra posibilidad de salvación que la de correr; y ya casi había olvidado que las paredes estaban a su disposición, bien es verdad que éstas estaban obstruidas por muebles llenos de esquinas y picos. En ese momento algo, lanzado sin fuerza, cayó junto a él, y echó a rodar por delante de él. Era una manzana; inmediatamente siguió otra; Gregorio se quedó inmóvil del susto; seguir corriendo era inútil, porque el padre había decidido bombardearle. Con la fruta procedente del frutero que estaba sobre el aparador se había llenado los bolsillos y lanzaba manzana tras manzana sin apuntar con exactitud, de momento. Estas pequeñas manzanas rojas rodaban por el sueño como electrificadas y chocaban unas con otras. Una manzana lanzada sin fuerza rozó la espalda de Gregorio, pero resbaló sin causarle daños. Sin embargo, otra que la siguió inmediatamente, se incrustó en la espalda de Gregorio; éste quería continuar arrastrándose, como si el increíble y sorprendente dolor pudiese aliviarse al cambiar de sitio; pero estaba como clavado y se estiraba, totalmente desconcertado. Sólo al mirar por última vez alcanzó a ver cómo la puerta de su habitación se abría de par en par y por delante de la hermana, que chillaba, salía corriendo la madre en enaguas, puesto que la hermana la había desnudado para proporcionarle aire mientras permanecía inconsciente; vio también cómo, a continuación, la madre corría hacia el padre y, en el camino, perdía una tras otra sus enaguas desatadas, y cómo, tropezando con ellas, caía sobre el padre, y abrazándole, unida estrechamente a él – ya empezaba a fallarle la vista a Gregorio –, le suplicaba, cruzando las manos por detrás de su nuca, que perdonase la vida de Gregorio. La grave herida de Gregorio, cuyos dolores soportó más de un mes – la manzana permaneció empotrada en la carne como recuerdo visible, ya que nadie se atrevía a retirarla –, pareció recordar, incluso al padre, que Gregorio, a pesar de su triste y repugnante forma actual, era un miembro de la familia, a quien no podía tratarse como un enemigo, sino frente al cual el deber familiar era aguantarse la repugnancia y resignarse, nada más que resignarse. Y si Gregorio ahora, por culpa de su herida, probablemente había perdido agilidad para siempre, y por lo pronto necesitaba para cruzar su habitación como un viejo inválido largos minutos – no se podía ni pensar en arrastrarse por las alturas -, sin embargo, en compensación por este empeoramiento de su estado, recibió, en su opinión, una reparación más que suficiente: hacia el anochecer se abría la puerta del cuarto de estar, la cual solía observar fijamente ya desde dos horas antes, de forma que, tumbado en la oscuridad de su habitación, sin ser visto desde el comedor, podía ver a toda la familia en la mesa iluminada y podía escuchar sus conversaciones, en cierto modo con el consentimiento general, es decir, de una forma completamente distinta a como había sido hasta ahora. Naturalmente, ya no se trataba de las animadas conversaciones de antaño, en las que Gregorio, desde la habitación de su hotel, siempre había pensado con cierta nostalgia cuando, cansado, tenía que meterse en la cama húmeda. La mayoría de las veces transcurría el tiempo en silencio. El padre no tardaba en dormirse en la silla después de la cena, y la madre y la hermana se recomendaban mutuamente silencio; la madre, inclinada muy por debajo de la luz, cosía ropa fina para un comercio de moda; la hermana, que había aceptado un trabajo como dependienta, estudiaba por la noche estenografía y francés, para conseguir, quizá más tarde, un puesto mejor. A veces el padre se despertaba y, como si no supiera que había dormido, decía a la madre: «¡Cuánto coses hoy también!», e inmediatamente volvía a dormirse mientras la madre y la hermana se sonreían mutuamente. Por una especie de obstinación, el padre se negaba a quitarse el uniforme mientras estaba en casa; y mientras la bata colgaba inútilmente de la percha, dormitaba el padre en su asiento, completamente vestido, como si siempre estuviese preparado para el servicio e incluso en casa esperase también la voz de su superior. Como consecuencia, el uniforme, que no era nuevo ya en un principio, empezó a ensuciarse a pesar del cuidado de la madre y de la hermana. Gregorio se pasaba con frecuencia tardes enteras mirando esta brillante ropa, completamente manchada, con sus botones dorados siempre limpios con la que el anciano dormía muy incómodo y, sin embargo, tranquilo. En cuanto el reloj daba las diez, la madre intentaba despertar al padre en voz baja y convencerle para que se fuese a la cama, porque éste no era un sueño auténtico y el padre tenía necesidad de él, porque tenía que empezar a trabajar a las seis de la mañana. Pero con la obstinación que se había apoderado de él desde que se había convertido en ordenanza, insistía en quedarse más tiempo a la mesa, a pesar de que, normalmente, se quedaba dormido y, además, sólo con grandes esfuerzos podía convencérsele de que cambiase la silla por la cama. Ya podían la madre y la hermana insistir con pequeñas amonestaciones, durante un cuarto de hora daba cabezadas lentamente, mantenía los ojos cerrados y no se levantaba. La madre le tiraba del brazo, diciéndole al oído palabras cariñosas, la hermana abandonaba su trabajo para ayudar a la madre, pero esto no tenía efecto sobre el padre. Se hundía más profundamente en su silla. Sólo cuando las mujeres le cogían por debajo de los hombros, abría los ojos, miraba alternativamente a la madre y a la hermana, y solía decir: «¡Qué vida ésta! ¡Esta es la tranquilidad de mis últimos días!», y apoyado sobre las dos mujeres se levantaba pesadamente, como si él mismo fuese su más pesada carga, se dejaba llevar por ellas hasta la puerta, allí les hacía una señal de que no las necesitaba, y continuaba solo, mientras que la madre y la hermana dejaban apresuradamente su costura y su pluma para correr tras el padre y continuar ayudándole. ¿Quién en esta familia, agotada por el trabajo y rendida de cansancio, iba a tener más tiempo del necesario para ocuparse de Gregorio? El presupuesto familiar se reducía cada vez más, la criada acabó por ser despedida. Una asistenta gigantesca y huesuda, con el pelo blanco y desgreñado, venía por la mañana y por la noche y hacía el trabajo más pesado; todo lo demás lo hacía la madre, además de su mucha costura. Ocurrió incluso el caso de que varias joyas de la familia, que la madre y la hermana habían lucido entusiasmadas en reuniones y fiestas, hubieron de ser vendidas, según se enteró Gregorio por la noche por la conversación acerca del precio conseguido. Pero el mayor motivo de queja era que no se podía dejar este piso, que resultaba demasiado grande en las circunstancias presentes, ya que no sabían cómo se podía trasladar a Gregorio. Pero Gregorio comprendía que no era sólo la consideración hacia él lo que impedía un traslado, porque se le hubiera podido transportar fácilmente en un cajón apropiado con un par de agujeros para el aire; lo que, en primer lugar, impedía a la familia un cambio de piso era, aún más, la desesperación total y la idea de que habían sido azotados por una desgracia como no había igual en todo su círculo de parientes y amigos. Todo lo que el mundo exige de la gente pobre lo cumplían ellos hasta la saciedad: el padre iba a buscar el desayuno para el pequeño empleado de banco, la madre se sacrificaba por la ropa de gente extraña, la hermana, a la orden de los clientes, corría de un lado para otro detrás del mostrador, pero las fuerzas de la familia ya no daban para más. La herida de la espalda comenzaba otra vez a dolerle a Gregorio como recién hecha cuando la madre y la hermana, después de haber llevado al padre a la cama, regresaban, dejaban a un lado el trabajo, se acercaban una a otra, sentándose muy juntas. Entonces la madre, señalando hacia la habitación de Gregorio, decía: «Cierra la puerta, Grete», y cuando Gregorio se encontraba de nuevo en la oscuridad, afuera las mujeres confundían sus lágrimas o simplemente miraban fijamente a la mesa sin llorar. Gregorio pasaba las noches y los días casi sin dormir. A veces pensaba que la próxima vez que se abriese la puerta él se haría cargo de los asuntos de la familia como antes; en su mente aparecieron de nuevo, después de mucho tiempo, el jefe y el encargado; los dependientes y los aprendices; el mozo de los recados, tan corto de luces; dos, tres amigos de otros almacenes; una camarera de un hotel de provincias; un recuerdo amado y fugaz: una cajera de una tienda de sombreros a quien había hecho la corte seriamente, pero con demasiada lentitud; todos ellos aparecían mezclados con gente extraña o ya olvidada, pero en lugar de ayudarle a él y a su familia, todos ellos eran inaccesibles, y Gregorio se sentía aliviado cuando desaparecían. Pero después ya no estaba de humor para preocuparse por su familia, solamente sentía rabia por el mal cuidado de que era objeto y, a pesar de que no podía imaginarse algo que le hiciese sentir apetito, hacía planes sobre cómo podría llegar a la despensa para tomar de allí lo que quisiese, incluso aunque no tuviese hambre alguna. Sin pensar más en qué es lo que podría gustar a Gregorio, la hermana, por la mañana y al mediodía, antes de marcharse a la tienda, empujaba apresuradamente con el pie cualquier comida en la habitación de Gregorio, para después recogerla por la noche con el palo de la escoba, tanto si la comida había sido probada, como si – y éste era el caso más frecuente – ni siquiera había sido tocada. Recoger la habitación, cosa que ahora hacía siempre por la noche, no podía hacerse más deprisa. Franjas de suciedad se extendían por las paredes, por todas partes había ovillos de polvo y suciedad. Al principio, cuando llegaba la hermana, Gregorio se colocaba en el rincón más significativamente sucio para, en cierto modo, hacerle reproches mediante esta posición. Pero seguramente hubiese podido permanecer allí semanas enteras sin que la hermana hubiese mejorado su actitud por ello; ella veía la suciedad lo mismo que él, pero se había decidido a dejarla allí. Al mismo tiempo, con una susceptibilidad completamente nueva en ella y que, en general, se había apoderado de toda la familia, ponía especial atención en el hecho de que se reservase solamente a ella el cuidado de la habitación de Gregorio. En una ocasión la madre había sometido la habitación de Gregorio a una gran limpieza, que había logrado solamente después de utilizar varios cubos de agua – la humedad, sin embargo, también molestaba a Gregorio, que yacía extendido, amargado e inmóvil sobre el canapé –, pero el castigo de la madre no se hizo esperar, porque apenas había notado la hermana por la tarde el cambio en la habitación de Gregorio, cuando, herida en lo más profundo de sus sentimientos, corrió al cuarto de estar y, a pesar de que la madre suplicaba con las manos levantadas, rompió en un mar de lágrimas, que los padres – el padre se despertó sobresaltado en su silla –, al principio, observaban asombrados y sin poder hacer nada, hasta que, también ellos, comenzaron a sentirse conmovidos; el padre, a su derecha, reprochaba a la madre que no hubiese dejado al cuidado de la hermana la limpieza de la habitación de Gregorio, a su izquierda, decía a gritos a la hermana que nunca más volvería a limpiar la habitación de Gregorio; mientras que la madre intentaba llevar al dormitorio al padre, que no podía más de irritación, la hermana, sacudida por los sollozos, golpeaba la mesa con sus pequeños puños, y Gregorio silbaba de pura rabia porque a nadie se le ocurría cerrar la puerta para ahorrarle este espectáculo y este ruido. Pero incluso si la hermana, agotada por su trabajo, estaba ya harta de cuidar de Gregorio como antes, tampoco la madre tenía que sustituirla y no era necesario que Gregorio hubiese sido abandonado, porque para eso estaba la asistenta. Esa vieja viuda, que en su larga vida debía haber superado lo peor con ayuda de su fuerte constitución, no sentía repugnancia alguna por Gregorio. Sin sentir verdadera curiosidad, una vez había abierto por casualidad la puerta de la habitación de Gregorio y, al verle, se quedó parada, asombrada, con los brazos cruzados, mientras éste, sorprendido y a pesar de que nadie la perseguía, comenzó a correr de un lado a otro. Desde entonces no perdía la oportunidad de abrir un poco la puerta por la mañana y por la tarde para echar un vistazo a la habitación de Gregorio. Al principio le llamaba hacia ella con palabras que, probablemente, consideraba amables, como: «¡Ven aquí, viejo escarabajo pelotero!» o «imitad el viejo escarabajo pelotero!». Gregorio no contestaba nada a tales llamadas, sino que permanecía inmóvil en su sitio, como si la puerta no hubiese sido abierta. ¡Si se le hubiese ordenado a esa asistenta que limpiase diariamente la habitación en lugar de dejar que le molestase inútilmente a su antojo! Una vez, por la mañana temprano – una intensa lluvia golpeaba los cristales, quizá como signo de la primavera, que ya se acercaba –, cuando la asistenta empezó otra vez con sus improperios, Gregory se enfureció tanto que se dio la vuelta hacia ella como para atacarla, pero de forma lenta y débil. Sin embargo, la asistenta, en vez de asustarse, alzó simplemente una silla, que se encontraba cerca de la puerta, y, tal como permanecía allí, con la boca completamente abierta, estaba clara su intención de cerrar la boca sólo cuando la silla que tenía en la mano acabase en la espalda de Gregorio. ¿Con que no seguimos adelante? – preguntó, al ver que Gregorio se daba de nuevo la vuelta, y volvió a colocar la silla tranquilamente en el rincón. Gregorio ya no comía casi nada. Sólo si pasaba por casualidad al lado de la comida tomaba un bocado para jugar con él en la boca, lo mantenía allí horas y horas y, la mayoría de las veces, acababa por escupirlo. Al principio pensó que lo que le impedía comer era la tristeza por el estado de su habitación, pero precisamente con los cambios de la habitación se reconcilió muy pronto. Se habían acostumbrado a meter en esta habitación cosas que no podían colocar en otro sitio, y ahora había muchas cosas de éstas, porque una de las habitaciones de la casa había sido alquilada a tres huéspedes. Estos señores tan severos – los tres tenían barba, según pudo comprobar Gregorio por una rendija de la puerta – ponían especial atención en el orden, no sólo ya de su habitación, sino de toda la casa, puesto que se habían instalado aquí, y especialmente en el orden de la cocina. No soportaban trastos inútiles ni mucho menos sucios. Además, habían traído una gran parte de sus propios muebles. Por ese motivo sobraban muchas cosas que no se podían vender ni tampoco se querían tirar. Todas estas cosas acababan en la habitación de Gregorio. Lo mismo ocurrió con el cubo de la ceniza y el cubo de la basura de la cocina. La asistenta, que siempre tenía mucha prisa, arrojaba simplemente en la habitación de Gregorio todo lo que, de momento, no servía; por suerte, Gregorio sólo veía, la mayoría de las veces, el objeto correspondiente y la mano que lo sujetaba. La asistenta tenía, quizá, la intención de recoger de nuevo las cosas cuando hubiese tiempo y oportunidad, o quizá tirarlas todas de una vez, pero lo cierto es que todas se quedaban tiradas en el mismo lugar en que habían caído al arrojarlas, a no ser que Gregorio se moviese por entre los trastos y los pusiese en movimiento, al principio, obligado a ello porque no había sitio libre para arrastrarse, pero más tarde con creciente satisfacción, a pesar de que después de tales paseos acababa mortalmente agotado y triste, y durante horas permanecía inmóvil. Como los huéspedes a veces tomaban la cena en el cuarto de estar, la puerta permanecía algunas noches cerrada, pero Gregorio renunciaba gustoso a abrirla, incluso algunas noches en las que había estado abierta no se había aprovechado de ello, sino que, sin que la familia lo notase, se había tumbado en el rincón más oscuro de la habitación. Pero en una ocasión la asistenta había dejado un poco abierta la puerta que daba al cuarto de estar y se quedó abierta incluso cuando los huéspedes llegaron y se dio la luz. Se sentaban a la mesa en los mismos sitios en que antes habían comido el padre, la madre y Gregorio, desdoblaban las servilletas y tomaban en la mano cuchillo y tenedor. Al momento aparecía por la puerta la madre con una fuente de carne, y poco después lo hacía la hermana con una fuente llena de patatas. La comida humeaba. Los huéspedes se inclinaban sobre las fuentes que había ante ellos como si quisiesen examinarlas antes de comer, y, efectivamente, el señor que estaba sentado en medio y que parecía ser el que más autoridad tenía de los tres, cortaba un trozo de carne en la misma fuente con el fin de comprobar si estaba lo suficientemente tierna, o quizá; la madre y la hermana, que habían observado todo con impaciencia, comenzaban a sonreír respirando profundamente. La familia comía en la cocina. A pesar de ello, el padre, antes de entrar en ésta, entraba en la habitación y con una sola reverencia y la gorra en la mano, daba una vuelta a la mesa. Los huéspedes se levantaban y murmuraban algo para el cuello de su camisa. Cuando ya estaban solos, comían casi en absoluto silencio. A Gregorio le parecía extraño el hecho de que, de todos los variados ruidos de la comida, una y otra vez se escuchasen los dientes al masticar, como si con ello quisieran mostrarle a Gregorio que para comer se necesitan los dientes y que, aún con las más hermosas mandíbulas, sin dientes no se podía conseguir nada. – Pero si yo tengo apetito – se decía Gregorio; preocupa do –, pero no me apetecen estas cosas. ¡Cómo comen los huéspedes y yo me muero! Precisamente aquella noche Gregorio no se acordaba de haberlo oído en todo el tiempo – se escuchó el violín. Los huéspedes ya habían terminado de cenar, el de en medio había sacado un periódico, le había dado una hoja a cada uno de los otros dos, y los tres fumaban y leían echados hacia atrás. Cuando el violín comenzó a sonar escucharon con atención, se levantaron y, de puntillas, fueron hacia la puerta del vestíbulo, en la que permanecieron quietos de pie, apretados unos junto a otros. Desde la cocina se les debió oír, porque el padre gritó: ¿Les molesta a los señores la música? Inmediatamente puede dejar de tocarse. – Al contrario – dijo el señor de en medio –. ¿No desearía la señorita entrar con nosotros y tocar aquí en la habitación, donde es mucho más cómodo y agradable? – Naturalmente – exclamó el padre, como si el violinista fuese él mismo. Los señores regresaron a la habitación y esperaron. Pronto llegó el padre con el atril, la madre con la partitura y la hermana con el violín. La hermana preparó con tranquilidad todo lo necesario para tocar. Los padres, que nunca antes habían alquilado habitaciones, y por ello exageraban la amabilidad con los huéspedes, no se atrevían a sentarse en sus propias sillas; el padre se apoyó en la puerta, con la mano derecha colocada entre dos botones de la librea abrochada; a la madre le fue ofrecida una silla por uno de los señores y, como la dejó en el lugar en el que, por casualidad, la había colocado el señor, permanecía sentada en un rincón apartado. La hermana empezó a tocar; el padre y la madre, cada uno desde su lugar, seguían con atención los movimientos de sus manos; Gregorio, atraído por la música, había avanzado un poco hacia delante y ya tenía la cabeza en el cuarto de estar. Ya apenas se extrañaba de que en los últimos tiempos no tenía consideración con los demás; antes estaba orgulloso de tener esa consideración y, precisamente ahora, hubiese tenido mayor motivo para esconderse, porque, como consecuencia del polvo que reinaba en su habitación, y que volaba por todas partes al menor movimiento, él mismo estaba también lleno de polvo. Sobre su espalda y sus costados arrastraba consigo por todas partes hilos, pelos, restos de comida... Su indiferencia hacia todo era demasiado grande como para tumbarse sobre su espalda y restregarse contra la alfombra, tal como hacía antes varias veces al día. Y, a pesar de este estado, no sentía vergüenza alguna de avanzar por el suelo impecable del comedor. Por otra parte, nadie le prestaba atención. La familia estaba completamente absorta en la música del violín; por el contrario, los huéspedes, que al principio, con las manos en los bolsillos, se habían colocado demasiado cerca detrás del atril de la hermana, de forma que podrían haber leído la partitura, lo cual sin duda tenía que estorbar a la hermana, hablando a media voz, con las cabezas inclinadas, se retiraron pronto hacia la ventana, donde permanecieron observados por el padre con preocupación. Realmente daba a todas luces la impresión de que habían sido decepcionados en su suposición de escuchar una pieza bella o divertida al violín, de que estaban hartos de la función y sólo permitían que se les molestase por amabilidad. Especialmente la forma en que echaban a lo alto el humo de los cigarrillos por la boca y por la nariz denotaba gran nerviosismo. Y, sin embargo, la hermana tocaba tan bien... Su rostro estaba inclinarlo hacia un lado, atenta y tristemente seguían sus ojos las notas del pentagrama. Gregorio avanzó un poco más y mantenía la cabeza pegada al suelo para, quizá, poder encontrar sus miradas. ¿Es que era ya una bestia a la que le emocionaba la música? Le parecía como si se le mostrase el camino hacia el desconocido y anhelado alimento. Estaba decidido a acercarse hasta la hermana, tirarle de la falda y darle así a entender que ella podía entrar con su violín en su habitación porque nadie podía recompensar su música como él quería hacerlo. No quería dejarla salir nunca de su habitación, al menos mientras él viviese; su horrible forma le sería útil por primera vez; quería estar a la vez en todas las puertas de su habitación y tirarse a los que le atacasen; pero la hermana no debía quedar se con él por la fuerza, sino por su propia voluntad; debería sentarse junto a él sobre el canapé, inclinar el oído hacia él, y él deseaba confiarle que había tenido la firme intención de enviarla al conservatorio y que, si la desgracia no se hubiese cruzado en su camino la Navidad pasada – probablemente la Navidad ya había pasado – se lo hubiese dicho a todos sin preocuparse de réplica alguna. Después de esta confesión, la hermana estallaría en lágrimas de emoción y Gregorio se levantaría hasta su hombro y le daría un beso en el cuello, que, desde que iba a la tienda, llevaba siempre al aire sin cintas ni adornos. – señor Samsa! – gritó el señor de en medio al padre, y señaló, sin decir una palabra más, con el índice hacia Gregorio, que avanzaba lentamente. El violín enmudeció, en un principio el huésped de en medio sonrió a sus amigos moviendo la cabeza y, a continuación, miró hacia Gregorio. El padre, en lugar de echar a Gregorio, consideró más necesario, ante todo, tranquilizar a los huéspedes, a pesar de que ellos no estaban nerviosos en absoluto y Gregorio parecía distraerles más que el violín. Se precipitó hacia ellos e intentó, con los brazos abiertos, empujarles a su habitación y, al mismo tiempo, evitar con su cuerpo que pudiesen ver a Gregorio. Ciertamente se enfadaron un poco, no se sabía ya si por el comportamiento del padre, o porque ahora se empezaban a dar cuenta de que, sin saberlo, habían tenido un vecino como Gregorio. Exigían al padre explicaciones, levantaban los brazos, se tiraban intranquilos de la barba y, muy lentamente, retrocedían hacia su habitación. Entre tanto, la hermana había superado el desconcierto en que había caído después de interrumpir su música de una forma tan repentina, había reaccionado de pronto, después de que durante unos momentos había sostenido en las manos caídas con indolencia el violín y el arco, y había seguido mirando la partitura como si todavía tocase, había colocado el instrumento en el regazo de la madre, que todavía seguía sentada en su silla con dificultades para respirar y agitando violentamente los pulmones, y había corrido hacia la habitación de al lado, a la que los huéspedes se acercaban cada vez más deprisa ante la insistencia del padre. Se veía cómo, gracias a las diestras manos de la hermana, las mantas y almohadas de las camas volaban hacia lo alto y se ordenaban. Antes de que los señores hubiesen llegado a la habitación, había terminado de hacer las camas y se había escabullido hacia afuera. El padre parecía estar hasta tal punto dominado por su obstinación, que olvidó todo el respeto que, ciertamente, debía a sus huéspedes. Sólo les empujaba y les empujaba hasta que, ante la puerta de la habitación, el señor de en medio dio una patada atronadora contra el suelo y así detuvo al padre. – Participo a ustedes – dijo, levantó la mano y buscaba con sus miradas también a la madre y a la hermana – que, teniendo en cuenta las repugnantes circunstancias que reinan en esta casa y en esta familia – en este punto escupió decididamente sobre el suelo –, en este preciso instante dejo la habitación. Por los días que he vivido aquí no pagaré, naturalmente, lo más mínimo; por el contrario, me pensaré si no procedo contra ustedes con algunas reclamaciones muy fáciles, créanme, de justificar. Calló y miró hacia adelante como si esperase algo. En efecto, sus dos amigos intervinieron inmediatamente con las siguientes palabras: – También nosotros dejamos en este momento la habitación. A continuación agarró el picaporte y cerró la puerta de un portazo. El padre se tambaleaba tanteando con las manos en dirección a su silla y se dejó caer en ella. Parecía como si se preparase para su acostumbrada siestecita nocturna, pero la profunda inclinación de su cabeza, abatida como si nada la sostuviese, mostraba que de ninguna manera dormía. Gregorio yacía todo el tiempo en silencio en el mismo sitio en que le habían descubierto los huéspedes. La decepción por el fracaso de sus planes, pero quizá también la debilidad causada por el hambre que pasaba, le impedían moverse. Temía, con cierto fundamento, que dentro de unos momentos se desencadenase sobre él una tormenta general, y esperaba. Ni siquiera se sobresaltó con el ruido del violín que, por entre los temblorosos dedos de la madre, se cayó de su regazo y produjo un sonido retumbante. Queridos padres – dijo la hermana y, como introducción, dio un golpe sobre la mesa –, esto no puede seguir así. Si vosotros no os dais cuenta, yo sí me la doy. No quiero, ante esta bestia, pronunciar el nombre de mi hermano, y por eso solamente digo: tenemos que intentar quitárnoslo de encima. Hemos hecho todo lo humanamente posible por cuidarlo y aceptarlo; creo que nadie puede hacernos el menor reproche. – Tiene razón una y mil veces – dijo el padre para sus adentros. La madre, que aún no tenía aire suficiente, comenzó a toser sordamente sobre la mano que tenía ante la boca, con una expresión de enajenación en los ojos. La hermana corrió hacia la madre y le sujetó la frente. El padre parecía estar enfrascado en determinados pensamientos; gracias a las palabras de la hermana, se había sentado más derecho, jugueteaba con su gorra por entre los platos, que desde la cena de los huéspedes seguían en la mesa, y miraba de vez en cuando a Gregorio, que permanecía en silencio. – Tenemos que intentar quitárnoslo de encima – dijo entonces la hermana, dirigiéndose sólo al padre, porque la madre, con su tos, no oía nada –. Os va a matar a los dos, ya lo veo venir. Cuando hay que trabajar tan duramente como lo hacemos nosotros no se puede, además, soportar en casa este tormento sin fin. Yo tampoco puedo más – y rompió a llorar de una forma tan violenta, que sus lágrimas caían sobre el rostro de la madre, del cual las secaba mecánicamente con las manos. – Pero hija – dijo el padre compasivo y con sorprendente comprensión –. ¡Qué podemos hacer! Pero la hermana sólo se encogió de hombros como signo de la perplejidad que, mientras lloraba, se había apoderado de ella, en contraste con su seguridad anterior. – Si él nos entendiese... – dijo el padre en tono medio interrogante. La hermana, en su llanto, movió violentamente la mano como señal de que no se podía ni pensar en ello. – Si él nos entendiese... – repitió el padre, y cerrando los ojos hizo suya la convicción de la hermana acerca de la imposibilidad de ello –, entonces sería posible llegar a un acuerdo con él, pero así... – Tiene que irse – exclamó la hermana –, es la única posibilidad, padre. Sólo tienes que desechar la idea de que se trata de Gregorio. El haberlo creído durante tanto tiempo ha sido nuestra auténtica desgracia, pero ¿cómo es posible que sea Gregorio? Si fuese Gregorio hubiese comprendido hace tiempo que una convivencia entre personas y semejante animal no es posible, y se hubiese marchado por su propia voluntad: ya no tendríamos un hermano, pero podríamos continuar viviendo y conservaríamos su recuerdo con honor. Pero así esa bestia nos persigue, echa a los huéspedes, quiere, evidentemente, adueñarse de toda la casa y dejar que pasemos la noche en la calle. ¡Mira, padre – gritó de repente –, ya empieza otra vez! Y con un miedo completamente incomprensible para Gregorio, la hermana abandonó incluso a la madre, se arrojó literalmente de su silla, como si prefiriese sacrificar a la madre antes de permanecer cerca de Gregorio, y se precipitó detrás del padre que, principalmente irritado por su comportamiento, se puso también en pie y levantó los brazos a media altura por delante de la hermana para protegerla. Pero Gregorio no pretendía, ni por lo más remoto, asustar a nadie, ni mucho menos a la hermana. Solamente había empezado a darse la vuelta para volver a su habitación y esto llamaba la atención, ya que, como consecuencia de su estado enfermizo, para dar tan difíciles vueltas, tenía que ayudarse con la cabeza, que levantaba una y otra vez y que golpeaba contra el suelo. Se detuvo y miró a su alrededor; su buena intención pareció ser entendida; sólo había sido un susto momentáneo, ahora todos le miraban tristes y en silencio. La madre yacía en su silla con las piernas extendidas y apretadas una contra otra, los ojos casi se le cerraban de puro agotamiento. El padre y la hermana estaban sentados uno junto a otro, y la hermana había colocado su brazo alrededor del cuello del padre. «Quizá pueda darme la vuelta ahora», pensó Gregorio, y empezó de nuevo su actividad. No podía contener los resuellos por el esfuerzo y de vez en cuando tenía que descansar. Por lo demás, nadie le apremiaba, se le dejaba hacer lo que quisiera. Cuando hubo dado la vuelta del todo comenzó enseguida a retroceder todo recto... Se asombró de la gran distancia que le separaba de su habitación y no comprendía cómo, con su debilidad, hacía un momento había recorrido el mismo camino sin notarlo. Concentrándose constantemente en avanzar con rapidez, apenas se dio cuenta de que ni una palabra, ni una exclamación de su familia le molestaba. Cuando ya estaba en la puerta volvió la cabeza, no por completo, porque notaba que el cuello se le ponía rígido, pero sí vio aún que tras de él nada había cambiado, sólo la hermana se había levantado. Su última mirada acarició a la madre que, por fin, se había quedado profundamente dormida. Apenas entró en su habitación se cerró la puerta y echaron la llave. Gregorio se asustó tanto del repentino ruido producido detrás de él, que las patitas se le doblaron. Era la hermana quien se había apresurado tanto. Había permanecido en pie allí y había esperado, con ligereza había saltado hacia adelante, Gregorio ni siquiera la había oído venir, y gritó un «¡Por fin!» a los padres mientras echaba la llave. « ¿Y ahora?», se preguntó Gregory, y miró a su alrededor en la oscuridad. Pronto descubrió que ya no se podía mover. No se extrañó por ello, más bien le parecía antinatural que, hasta ahora, hubiera podido moverse con estas patitas. Por lo demás, se sentía relativamente a gusto. Bien es verdad que le dolía todo el cuerpo, pero le parecía como si los dolores se hiciesen más y más débiles y, al final, desapareciesen por completo. Apenas sentía ya la manzana podrida de su espalda y la infección que producía a su alrededor, cubiertas ambas por un suave polvo. Pensaba en su familia con cariño y emoción, su opinión de que tenía que desaparecer era, si cabe, aún más decidida que la de su hermana. En este estado de apacible y letárgica meditación permaneció hasta que el reloj de la torre dio las tres de la madrugada. Vivió todavía el comienzo del amanecer detrás de los cristales. A continuación, contra su voluntad, su cabeza se desplomó sobre el suelo y sus orificios nasales exhalaron el último suspiro. Cuando, por la mañana temprano, llegó la asistenta – de pura fuerza y prisa daba tales portazos que, aunque repetidas veces se le había pedido que procurase evitarlo, desde el momento de su llegada era ya imposible concebir el sueño en todo el piso –, en su acostumbrada y breve visita a Gregorio nada le llamó al principio la atención. Pensaba que estaba allí tumbado tan inmóvil a propósito y se hacía el ofendido, le creía capaz de tener todo el entendimiento posible. Como tenía por casualidad la larga escoba en la mano, intentó con ella hacer cosquillas a Gregorio desde la puerta. Al no conseguir nada con ello, se enfadó y pinchó a Gregorio ligeramente, y sólo cuando, sin que él opusiese resistencia, le había movido de su sitio, le prestó atención. Cuando se dio cuenta de las verdaderas circunstancias abrió mucho los ojos, silbó para sus adentros, pero no se entretuvo mucho tiempo, sino que abrió de par en par las puertas del dormitorio y exclamó en voz alta hacia la oscuridad: – ¡Fíjense, la ha diñado, ahí está, la ha diñado del todo! El matrimonio Samsa estaba sentado en la cama e intentaba sobreponerse del susto de la asistenta antes de llegar a comprender su aviso. Pero después, el señor y la señora Samsa, cada uno por su lado, se bajaron rápidamente de la cama, el señor Samsa se echó la colcha por los hombros, la señora Samsa apareció en camisón, así entraron en la habitación de Gregorio. Entre tanto, también se había abierto la puerta del cuarto de estar, en donde dormía Grete desde la llegada de los huésped des; estaba completamente vestida, como si no hubiese dormido, su rostro pálido parecía probarlo. ¿Muerto? – dijo la señora Samsa, y levantó los ojos con gesto interrogante hacia la asistenta a pesar de que ella misma podía comprobarlo, e incluso podía darse cuenta de ello sin necesidad de comprobarlo. – Digo, ¡ya lo creo! – dijo la asistenta y, como prueba, empujó el cadáver de Gregorio con la escoba un buen trecho hacia un lado. La señora Samsa hizo un movimiento como si quisiera detener la escoba, pero no lo hizo. – Bueno – dijo el señor Samsa –, ahora podemos dar gracias a Dios – se santiguó y las tres mujeres siguieron su ejemplo. Grete, que no apartaba los ojos del cadáver, dijo: – Mirad qué flaco estaba, ya hacía mucho tiempo que no comía nada, las comidas salían tal como entraban. Efectivamente, el cuerpo de Gregorio estaba completamente plano y seco, sólo se daban realmente cuenta de ello ahora que ya no le levantaban sus patitas, y ninguna otra cosa distraía la mirada. – Grete, ven un momento a nuestra habitación – dijo la señora Samsa con una sonrisa melancólica, y Grete fue al dormitorio detrás de los padres, no sin volver la mirada hacia el cadáver. La asistenta cerró la puerta y abrió del todo la ventana. A pesar de lo temprano de la mañana, ya había una cierta tibieza mezclada con el aire fresco. Ya era finales de marzo. Los tres huéspedes salieron de su habitación y miraron asombrados a su alrededor en busca de su desayuno; se habían olvidado de ellos: ¿Dónde está el desayuno? – preguntó de mal humor el señor de en medio a la asistenta, pero ésta se colocó el dedo en la boca e hizo a los señores, apresurada y silenciosamente, señales con la mano para que fuesen a la habitación de Gregorio. Así pues, fueron y permanecieron en pie, con las manos en los bolsillos de sus chaquetas algo gastadas, alrededor del cadáver, en la habitación de Gregorio. Ya totalmente iluminada. Entonces se abrió la puerta del dormitorio y el señor Samsa apareció vestido con su librea, de un brazo su mujer y del otro su hija. Todos estaban un poco llorosos; a veces Grete apoyaba su rostro en el brazo del padre. – Salgan ustedes de mi casa inmediatamente – dijo el señor Samsa, y señaló la puerta sin soltar a las mujeres. ¿Qué quiere usted decir? -dijo el señor de en medio algo aturdido, y sonrió con cierta hipocresía. Los otros dos tenían las manos en la espalda y se las frotaban constantemente una contra otra, como si esperasen con alegría una gran pelea que tenía que resultarles favorable. – Quiero decir exactamente lo que digo – contestó el señor Samsa; se dirigió en bloque con sus acompañantes hacia el huésped. Al principio éste se quedó allí en silencio y miró hacia el suelo, como si las cosas se dispusiesen en un nuevo orden en su cabeza. – Pues entonces nos vamos – dijo después, y levantó los ojos hacia el señor Samsa como si, en un repentino ataque de humildad, le pidiese incluso permiso para tomar esta decisión. El señor Samsa solamente asintió brevemente varias veces con los ojos muy abiertos. A continuación el huésped se dirigió, en efecto a grandes pasos hacia el vestíbulo; sus dos amigos llevaban ya un rato escuchando con las manos completamente tranquilas y ahora daban verdaderos brincos tras de él, como si tuviesen miedo de que el señor Samsa entrase antes que ellos en el vestíbulo e impidiese el contacto con su guía. Ya en el vestíbulo, los tres cogieron sus sombreros del perchero, sacaron sus bastones de la bastonera, hicieron una reverencia en silencio y salieron de la casa. Con una desconfianza completamente infundada, como se demostraría después, el señor Samsa salió con las dos mujeres al rellano; apoyados sobre la barandilla veían cómo los tres, lenta pero constantemente, bajaban la larga escalera, en cada piso desaparecían tras un determinado recodo y volvían a aparecer a los pocos instantes. Cuanto más abajo estaban tanto más interés perdía la familia Samsa por ellos, y cuando un oficial carnicero, con la carga en la cabeza en una posición orgullosa, se les acercó de frente y luego, cruzándose con ellos, siguió subiendo, el señor Samsa abandonó la barandilla con las dos mujeres y todos regresaron aliviados a su casa. Decidieron utilizar aquel día para descansar e ir de paseo; no solamente se habían ganado esta pausa en el trabajo, sino que, incluso, la necesitaban a toda costa. Así pues, se sentaron a la mesa y escribieron tres justificantes: el señor Samsa a su dirección, la señora Samsa al señor que le daba trabajo, y Grete al dueño de la tienda. Mientras escribían entró la asistenta para decir que ya se marchaba porque había terminado su trabajo de por la mañana. Los tres que escribían solamente asintieron al principio sin levantar la vista; cuando la asistenta no daba señales de retirarse levantaron la vista enfadados. ¿Qué pasa? – preguntó el señor Samsa. La asistenta permanecía de pie junto a la puerta, como si quisiera participar a la familia un gran éxito, pero sólo lo haría cuando se la interrogase con todo detalle. La pequeña pluma de avestruz colocada casi derecha sobre su sombrero, que, desde que estaba a su servicio, incomodaba al señor Samsa, se balanceaba suavemente en todas las direcciones. ¿Qué es lo que quiere usted? – preguntó la señora Samsa, que era, de todos, la que más respetaba la asistenta. – Bueno contestó la asistenta, y no podía seguir hablando de puro sonreír amablemente –, no tienen que preocuparse de cómo deshacerse de la cosa esa de al lado. Ya está todo arreglado. La señora Samsa y Grete se inclinaron de nuevo sobre sus cartas, como si quisieran continuar escribiendo; el señor Samsa, que se dio cuenta de que la asistenta quería empezar a contarlo todo con todo detalle, lo rechazó decididamente con la mano extendida. Como no podía contar nada, recordó la gran prisa que tenía, gritó visiblemente ofendida: « ¡Adiós a todos!», se dio la vuelta con rabia y abandonó la casa con un portazo tremendo. – Esta noche el despido dijo el señor Samsa, pero no recibió una respuesta ni de su mujer ni de su hija, porque la asistenta parecía haber turbado la tranquilidad apenas recién conseguida. Se levantaron, fueron hacia la ventana y permanecieron allí abrazadas. El señor Samsa se dio la vuelta en su silla hacia ellas y las observó en silencio un momento, luego las llamó: – Vamos, venid. Olvidad de una vez las cosas pasadas y tened un poco de consideración conmigo. Las mujeres le obedecieron enseguida, corrieron hacia él, le acariciaron y terminaron rápidamente sus cartas. Después, los tres abandonaron el piso juntos, cosa que no habían hecho desde hacía meses, y se marcharon al campo, fuera de la ciudad, en el tranvía. El vehículo en el que estaban sentados solos estaba totalmente iluminado por el cálido sol. Recostados cómodamente en sus asientos, hablaron de las perspectivas para el futuro y llegaron a la conclusión de que, vistas las cosas más de cerca, no eran malas en absoluto, porque los tres trabajos, a este respecto todavía no se habían preguntado realmente unos a otros, eran sumamente buenos y, especialmente, muy prometedores para el futuro. Pero la gran mejoría inmediata de la situación tenía que producirse, naturalmente, con más facilidad con un cambio de piso; ahora querían cambiarse a un piso más pequeño y más barato, pero mejor ubicado y, sobre todo, más práctico que el actual, que había sido escogido por Gregorio. Mientras hablaban así, al señor y a la señora Samsa se les ocurrió casi al mismo tiempo, al ver a su hija cada vez más animada, que en los últimos tiempos, a pesar de las calamidades que habían hecho palidecer sus mejillas, se había convertido en una joven lozana y hermosa. Tornándose cada vez más silenciosos y entendiéndose casi inconscientemente con las miradas, pensaban que ya llegaba el momento de buscarle un buen marido, y para ellos fue como una confirmación de sus nuevos sueños y buenas intenciones cuando, al final de su viaje, fue la hija quien se levantó primero y estiró su cuerpo joven.\""
            ],
            "application/vnd.google.colaboratory.intrinsic+json": {
              "type": "string"
            }
          },
          "metadata": {},
          "execution_count": 18
        }
      ]
    },
    {
      "cell_type": "code",
      "metadata": {
        "id": "_KlsYd7_uOez",
        "colab": {
          "base_uri": "https://localhost:8080/"
        },
        "outputId": "ea45f6f4-7192-4076-b31a-04dbf42b8fa1"
      },
      "source": [
        "# Transformar el corpus a tokens\n",
        "tokens=text_to_word_sequence(corpus)\n",
        "# Vistazo general de los primeros tokens\n",
        "tokens[:20]"
      ],
      "execution_count": 19,
      "outputs": [
        {
          "output_type": "execute_result",
          "data": {
            "text/plain": [
              "['cuando',\n",
              " 'gregorio',\n",
              " 'samsa',\n",
              " 'se',\n",
              " 'despertó',\n",
              " 'una',\n",
              " 'mañana',\n",
              " 'después',\n",
              " 'de',\n",
              " 'un',\n",
              " 'sueño',\n",
              " 'intranquilo',\n",
              " 'se',\n",
              " 'encontró',\n",
              " 'sobre',\n",
              " 'su',\n",
              " 'cama',\n",
              " 'convertido',\n",
              " 'en',\n",
              " 'un']"
            ]
          },
          "metadata": {},
          "execution_count": 19
        }
      ]
    },
    {
      "cell_type": "code",
      "metadata": {
        "id": "GlqpZSJOJ1xQ",
        "colab": {
          "base_uri": "https://localhost:8080/"
        },
        "outputId": "74a62303-01b6-46ce-92f5-a767475e5c5b"
      },
      "source": [
        "print(\"Cantidad de tokens en el corpus:\", len(tokens))"
      ],
      "execution_count": 20,
      "outputs": [
        {
          "output_type": "stream",
          "name": "stdout",
          "text": [
            "Cantidad de tokens en el corpus: 20675\n"
          ]
        }
      ]
    },
    {
      "cell_type": "code",
      "metadata": {
        "id": "RhQevOynuYk2"
      },
      "source": [
        "# Código para hacer el desfazaje de las palabras\n",
        "# según el train_len\n",
        "text_sequences = []\n",
        "for i in range(train_len, len(tokens)):\n",
        "  seq = tokens[i-train_len:i]\n",
        "  text_sequences.append(seq)"
      ],
      "execution_count": 21,
      "outputs": []
    },
    {
      "cell_type": "code",
      "metadata": {
        "id": "FU3FuqHSuhzq",
        "colab": {
          "base_uri": "https://localhost:8080/"
        },
        "outputId": "6a322167-4e4e-4f6e-8b16-d586d5381504"
      },
      "source": [
        "# Demos un vistazo a nuestros vectores para entrenar el modelo\n",
        "text_sequences[:20]"
      ],
      "execution_count": 22,
      "outputs": [
        {
          "output_type": "execute_result",
          "data": {
            "text/plain": [
              "[['cuando', 'gregorio', 'samsa', 'se'],\n",
              " ['gregorio', 'samsa', 'se', 'despertó'],\n",
              " ['samsa', 'se', 'despertó', 'una'],\n",
              " ['se', 'despertó', 'una', 'mañana'],\n",
              " ['despertó', 'una', 'mañana', 'después'],\n",
              " ['una', 'mañana', 'después', 'de'],\n",
              " ['mañana', 'después', 'de', 'un'],\n",
              " ['después', 'de', 'un', 'sueño'],\n",
              " ['de', 'un', 'sueño', 'intranquilo'],\n",
              " ['un', 'sueño', 'intranquilo', 'se'],\n",
              " ['sueño', 'intranquilo', 'se', 'encontró'],\n",
              " ['intranquilo', 'se', 'encontró', 'sobre'],\n",
              " ['se', 'encontró', 'sobre', 'su'],\n",
              " ['encontró', 'sobre', 'su', 'cama'],\n",
              " ['sobre', 'su', 'cama', 'convertido'],\n",
              " ['su', 'cama', 'convertido', 'en'],\n",
              " ['cama', 'convertido', 'en', 'un'],\n",
              " ['convertido', 'en', 'un', 'monstruoso'],\n",
              " ['en', 'un', 'monstruoso', 'insecto'],\n",
              " ['un', 'monstruoso', 'insecto', 'estaba']]"
            ]
          },
          "metadata": {},
          "execution_count": 22
        }
      ]
    },
    {
      "cell_type": "code",
      "metadata": {
        "id": "064N2jtLvHRg",
        "colab": {
          "base_uri": "https://localhost:8080/"
        },
        "outputId": "b8754931-54af-409c-c3ca-d97da1dab12e"
      },
      "source": [
        "# Proceso de tokenizacion\n",
        "tok = Tokenizer() \n",
        "tok.fit_on_texts(text_sequences) \n",
        "\n",
        "# Convertimos las palabras a números\n",
        "# entran palabras -> salen números\n",
        "sequences = tok.texts_to_sequences(text_sequences)\n",
        "\n",
        "# Damos un vistazo\n",
        "sequences[:20]"
      ],
      "execution_count": 23,
      "outputs": [
        {
          "output_type": "execute_result",
          "data": {
            "text/plain": [
              "[[44, 12, 68, 8],\n",
              " [12, 68, 8, 530],\n",
              " [68, 8, 530, 18],\n",
              " [8, 530, 18, 110],\n",
              " [530, 18, 110, 58],\n",
              " [18, 110, 58, 2],\n",
              " [110, 58, 2, 14],\n",
              " [58, 2, 14, 296],\n",
              " [2, 14, 296, 1451],\n",
              " [14, 296, 1451, 8],\n",
              " [296, 1451, 8, 531],\n",
              " [1451, 8, 531, 41],\n",
              " [8, 531, 41, 11],\n",
              " [531, 41, 11, 69],\n",
              " [41, 11, 69, 668],\n",
              " [11, 69, 668, 6],\n",
              " [69, 668, 6, 14],\n",
              " [668, 6, 14, 1452],\n",
              " [6, 14, 1452, 1453],\n",
              " [14, 1452, 1453, 37]]"
            ]
          },
          "metadata": {},
          "execution_count": 23
        }
      ]
    },
    {
      "cell_type": "code",
      "metadata": {
        "id": "vwsvmvDKKXSP",
        "colab": {
          "base_uri": "https://localhost:8080/"
        },
        "outputId": "21d6e460-4ac2-4c84-c3ed-7c0a4289d9f8"
      },
      "source": [
        "print(\"Cantidad de rows del dataset:\", len(sequences))"
      ],
      "execution_count": 24,
      "outputs": [
        {
          "output_type": "stream",
          "name": "stdout",
          "text": [
            "Cantidad de rows del dataset: 20671\n"
          ]
        }
      ]
    },
    {
      "cell_type": "markdown",
      "metadata": {
        "id": "QMVP4bj0vL2e"
      },
      "source": [
        "### 3 - Input y target"
      ]
    },
    {
      "cell_type": "code",
      "metadata": {
        "id": "mx2xwdz3KloJ",
        "colab": {
          "base_uri": "https://localhost:8080/"
        },
        "outputId": "62dbcc55-e76e-4819-d8db-02008fe6c10e"
      },
      "source": [
        "# Con numpy es muy fácil realizar el slicing de vectores\n",
        "ex = np.array([[1,2,3,4],[5,6,7,8]])\n",
        "ex"
      ],
      "execution_count": 25,
      "outputs": [
        {
          "output_type": "execute_result",
          "data": {
            "text/plain": [
              "array([[1, 2, 3, 4],\n",
              "       [5, 6, 7, 8]])"
            ]
          },
          "metadata": {},
          "execution_count": 25
        }
      ]
    },
    {
      "cell_type": "code",
      "metadata": {
        "id": "BEod7qghvTVt",
        "colab": {
          "base_uri": "https://localhost:8080/"
        },
        "outputId": "55b5605a-6ca0-4512-9d0a-e88318ac2536"
      },
      "source": [
        "# Con numpy es muy fácil realizar el slicing de vectores\n",
        "print(\"Dimension:\", ex.shape)\n",
        "print(\"Todos los elementos:\", ex)\n",
        "print(\"Todos los elementos menos el último:\", ex[:, :-1])"
      ],
      "execution_count": 26,
      "outputs": [
        {
          "output_type": "stream",
          "name": "stdout",
          "text": [
            "Dimension: (2, 4)\n",
            "Todos los elementos: [[1 2 3 4]\n",
            " [5 6 7 8]]\n",
            "Todos los elementos menos el último: [[1 2 3]\n",
            " [5 6 7]]\n"
          ]
        }
      ]
    },
    {
      "cell_type": "code",
      "metadata": {
        "id": "i95xWqtCvp8T",
        "colab": {
          "base_uri": "https://localhost:8080/"
        },
        "outputId": "6caeb225-0962-46de-8f2d-4911f6a6ad84"
      },
      "source": [
        "input = ex[:,:-1] # todos los rows, menos la ultima col\n",
        "target = ex[:, -1] # última col de cada row\n",
        "\n",
        "print(\"Input:\", input)\n",
        "print(\"Target:\", target)"
      ],
      "execution_count": 27,
      "outputs": [
        {
          "output_type": "stream",
          "name": "stdout",
          "text": [
            "Input: [[1 2 3]\n",
            " [5 6 7]]\n",
            "Target: [4 8]\n"
          ]
        }
      ]
    },
    {
      "cell_type": "code",
      "metadata": {
        "id": "e1vJTG65v4Qn",
        "colab": {
          "base_uri": "https://localhost:8080/"
        },
        "outputId": "9c57054d-9fa6-4ae9-8cd2-f468c43302ae"
      },
      "source": [
        "arr_sequences = np.array(sequences)\n",
        "x_data = arr_sequences[:,:-1]\n",
        "y_data_int = arr_sequences[:,-1] # aún falta el oneHotEncoder\n",
        "\n",
        "print(x_data.shape)\n",
        "print(y_data_int.shape)"
      ],
      "execution_count": 28,
      "outputs": [
        {
          "output_type": "stream",
          "name": "stdout",
          "text": [
            "(20671, 3)\n",
            "(20671,)\n"
          ]
        }
      ]
    },
    {
      "cell_type": "code",
      "metadata": {
        "id": "ln6kVWVlwBBs",
        "colab": {
          "base_uri": "https://localhost:8080/"
        },
        "outputId": "601b7364-2ca7-4e9e-90a9-c15b8bcd34a9"
      },
      "source": [
        "# Palabras del vocabulario\n",
        "tok.index_word"
      ],
      "execution_count": 29,
      "outputs": [
        {
          "output_type": "execute_result",
          "data": {
            "text/plain": [
              "{1: 'la',\n",
              " 2: 'de',\n",
              " 3: 'que',\n",
              " 4: 'y',\n",
              " 5: 'el',\n",
              " 6: 'en',\n",
              " 7: 'a',\n",
              " 8: 'se',\n",
              " 9: 'con',\n",
              " 10: 'no',\n",
              " 11: 'su',\n",
              " 12: 'gregorio',\n",
              " 13: 'por',\n",
              " 14: 'un',\n",
              " 15: '–',\n",
              " 16: 'había',\n",
              " 17: 'los',\n",
              " 18: 'una',\n",
              " 19: 'las',\n",
              " 20: 'pero',\n",
              " 21: 'al',\n",
              " 22: 'lo',\n",
              " 23: 'le',\n",
              " 24: 'del',\n",
              " 25: 'ya',\n",
              " 26: 'más',\n",
              " 27: 'como',\n",
              " 28: 'para',\n",
              " 29: 'hermana',\n",
              " 30: 'habitación',\n",
              " 31: 'padre',\n",
              " 32: 'si',\n",
              " 33: 'todo',\n",
              " 34: 'madre',\n",
              " 35: 'sus',\n",
              " 36: 'hacia',\n",
              " 37: 'estaba',\n",
              " 38: 'puerta',\n",
              " 39: 'sin',\n",
              " 40: 'era',\n",
              " 41: 'sobre',\n",
              " 42: 'tenía',\n",
              " 43: 'porque',\n",
              " 44: 'cuando',\n",
              " 45: 'él',\n",
              " 46: 'podía',\n",
              " 47: 'vez',\n",
              " 48: 'ahora',\n",
              " 49: 'sólo',\n",
              " 50: 'tiempo',\n",
              " 51: 'apoderado',\n",
              " 52: 'ella',\n",
              " 53: 'es',\n",
              " 54: 'señor',\n",
              " 55: 'dijo',\n",
              " 56: 'otra',\n",
              " 57: 'hubiese',\n",
              " 58: 'después',\n",
              " 59: 'poco',\n",
              " 60: 'cabeza',\n",
              " 61: 'mismo',\n",
              " 62: 'momento',\n",
              " 63: 'habían',\n",
              " 64: 'muy',\n",
              " 65: 'desde',\n",
              " 66: 'esta',\n",
              " 67: 'ni',\n",
              " 68: 'samsa',\n",
              " 69: 'cama',\n",
              " 70: 'incluso',\n",
              " 71: 'forma',\n",
              " 72: 'entonces',\n",
              " 73: 'familia',\n",
              " 74: 'así',\n",
              " 75: 'allí',\n",
              " 76: 'este',\n",
              " 77: 'bien',\n",
              " 78: 'también',\n",
              " 79: 'parte',\n",
              " 80: 'pesar',\n",
              " 81: 'hacía',\n",
              " 82: 'sí',\n",
              " 83: 'padres',\n",
              " 84: 'casi',\n",
              " 85: 'sido',\n",
              " 86: 'antes',\n",
              " 87: 'todavía',\n",
              " 88: 'quizá',\n",
              " 89: 'e',\n",
              " 90: 'voz',\n",
              " 91: 'mientras',\n",
              " 92: 'suelo',\n",
              " 93: 'me',\n",
              " 94: 'todas',\n",
              " 95: 'gran',\n",
              " 96: 'nada',\n",
              " 97: 'usted',\n",
              " 98: 'veces',\n",
              " 99: 'estar',\n",
              " 100: 'durante',\n",
              " 101: 'cómo',\n",
              " 102: 'ello',\n",
              " 103: 'esto',\n",
              " 104: 'mucho',\n",
              " 105: 'dos',\n",
              " 106: 'todos',\n",
              " 107: 'lado',\n",
              " 108: 'parecía',\n",
              " 109: 'o',\n",
              " 110: 'mañana',\n",
              " 111: 'entre',\n",
              " 112: 'mesa',\n",
              " 113: 'estado',\n",
              " 114: 'ver',\n",
              " 115: 'inmediatamente',\n",
              " 116: 'hacer',\n",
              " 117: 'ojos',\n",
              " 118: '»',\n",
              " 119: 'ser',\n",
              " 120: 'nuevo',\n",
              " 121: 'toda',\n",
              " 122: 'cuarto',\n",
              " 123: 'quería',\n",
              " 124: 'grete',\n",
              " 125: 'asistenta',\n",
              " 126: 'ante',\n",
              " 127: 'algo',\n",
              " 128: 'otro',\n",
              " 129: 'contra',\n",
              " 130: 'casa',\n",
              " 131: 'solamente',\n",
              " 132: 'siempre',\n",
              " 133: 'hasta',\n",
              " 134: 'canapé',\n",
              " 135: 'tanto',\n",
              " 136: 'alguna',\n",
              " 137: 'manos',\n",
              " 138: 'vuelta',\n",
              " 139: 'silla',\n",
              " 140: 'sino',\n",
              " 141: 'cuerpo',\n",
              " 142: 'ha',\n",
              " 143: 'tan',\n",
              " 144: 'menos',\n",
              " 145: 'daba',\n",
              " 146: 'lugar',\n",
              " 147: 'silencio',\n",
              " 148: 'estaban',\n",
              " 149: 'espalda',\n",
              " 150: 'apenas',\n",
              " 151: 'permanecía',\n",
              " 152: 'fuerza',\n",
              " 153: 'cuenta',\n",
              " 154: 'atención',\n",
              " 155: 'cierto',\n",
              " 156: 'dio',\n",
              " 157: 'nadie',\n",
              " 158: 'hecho',\n",
              " 159: 'mano',\n",
              " 160: 'ventana',\n",
              " 161: 'ese',\n",
              " 162: 'pronto',\n",
              " 163: 'posible',\n",
              " 164: 'muebles',\n",
              " 165: 'trabajo',\n",
              " 166: 'principio',\n",
              " 167: 'ellos',\n",
              " 168: 'tres',\n",
              " 169: 'entrar',\n",
              " 170: 'alrededor',\n",
              " 171: 'completamente',\n",
              " 172: 'mujeres',\n",
              " 173: 'huéspedes',\n",
              " 174: 'veía',\n",
              " 175: 'encontraba',\n",
              " 176: 'día',\n",
              " 177: 'además',\n",
              " 178: 'haber',\n",
              " 179: 'aún',\n",
              " 180: 'tarde',\n",
              " 181: 'mejor',\n",
              " 182: 'qué',\n",
              " 183: 'tampoco',\n",
              " 184: 'seguramente',\n",
              " 185: 'realmente',\n",
              " 186: 'palabras',\n",
              " 187: 'estas',\n",
              " 188: 'patitas',\n",
              " 189: 'modo',\n",
              " 190: 'par',\n",
              " 191: 'noche',\n",
              " 192: 'medio',\n",
              " 193: 'naturalmente',\n",
              " 194: 'cosas',\n",
              " 195: 'cual',\n",
              " 196: '¿qué',\n",
              " 197: 'nunca',\n",
              " 198: 'comida',\n",
              " 199: 'unos',\n",
              " 200: 'podría',\n",
              " 201: 'jefe',\n",
              " 202: 'armario',\n",
              " 203: 'eran',\n",
              " 204: 'tal',\n",
              " 205: 'gritó',\n",
              " 206: 'intención',\n",
              " 207: 'cuidado',\n",
              " 208: 'aquí',\n",
              " 209: 'llave',\n",
              " 210: 'otros',\n",
              " 211: 'yo',\n",
              " 212: 'demás',\n",
              " 213: 'bueno',\n",
              " 214: 'miró',\n",
              " 215: 'ruido',\n",
              " 216: 'iba',\n",
              " 217: 'primer',\n",
              " 218: 'decir',\n",
              " 219: 'debajo',\n",
              " 220: 'fue',\n",
              " 221: 'siquiera',\n",
              " 222: 'arrastrarse',\n",
              " 223: 'tumbado',\n",
              " 224: 'pequeña',\n",
              " 225: 'almacén',\n",
              " 226: 'lentamente',\n",
              " 227: 'sabía',\n",
              " 228: 'esa',\n",
              " 229: 'uno',\n",
              " 230: 'eso',\n",
              " 231: 'mi',\n",
              " 232: 'habría',\n",
              " 233: 'está',\n",
              " 234: 'delante',\n",
              " 235: 'fuera',\n",
              " 236: 'abrir',\n",
              " 237: 'brazos',\n",
              " 238: 'fin',\n",
              " 239: 'movimiento',\n",
              " 240: 'pues',\n",
              " 241: 'hizo',\n",
              " 242: 'abierta',\n",
              " 243: 'embargo',\n",
              " 244: 'vida',\n",
              " 245: 'debía',\n",
              " 246: 'podido',\n",
              " 247: 'cada',\n",
              " 248: 'sitio',\n",
              " 249: 'les',\n",
              " 250: 'violín',\n",
              " 251: 'tener',\n",
              " 252: 'dado',\n",
              " 253: 'comenzó',\n",
              " 254: 'quedó',\n",
              " 255: 'abrió',\n",
              " 256: 'horas',\n",
              " 257: 'necesario',\n",
              " 258: 'señora',\n",
              " 259: 'tiempos',\n",
              " 260: 'boca',\n",
              " 261: 'contrario',\n",
              " 262: 'vestíbulo',\n",
              " 263: 'piso',\n",
              " 264: 'demasiado',\n",
              " 265: 'detrás',\n",
              " 266: 'sentía',\n",
              " 267: 'pensó',\n",
              " 268: 'encima',\n",
              " 269: 'mucha',\n",
              " 270: 'sería',\n",
              " 271: 'suficiente',\n",
              " 272: 'probablemente',\n",
              " 273: 'tras',\n",
              " 274: 'cerrar',\n",
              " 275: 'pensar',\n",
              " 276: 'cosa',\n",
              " 277: 'permanecer',\n",
              " 278: 'decía',\n",
              " 279: 'desgracia',\n",
              " 280: 'pensaba',\n",
              " 281: 'verdad',\n",
              " 282: 'escuchar',\n",
              " 283: 'consecuencia',\n",
              " 284: 'derecha',\n",
              " 285: 'días',\n",
              " 286: 'enseguida',\n",
              " 287: 'consideración',\n",
              " 288: 'bajo',\n",
              " 289: 'duda',\n",
              " 290: 'continuación',\n",
              " 291: 'pie',\n",
              " 292: 'rostro',\n",
              " 293: 'donde',\n",
              " 294: 'junto',\n",
              " 295: 'levantó',\n",
              " 296: 'sueño',\n",
              " 297: 'partes',\n",
              " 298: 'paredes',\n",
              " 299: 'levantaba',\n",
              " 300: 'caer',\n",
              " 301: 'viaje',\n",
              " 302: 'tren',\n",
              " 303: 'poder',\n",
              " 304: 'señores',\n",
              " 305: 'tengo',\n",
              " 306: 'puesto',\n",
              " 307: 'seguro',\n",
              " 308: 'tranquilo',\n",
              " 309: 'siete',\n",
              " 310: 'hambre',\n",
              " 311: 'dejaba',\n",
              " 312: 'oído',\n",
              " 313: 'volvió',\n",
              " 314: 'difícil',\n",
              " 315: 'especial',\n",
              " 316: 'ellas',\n",
              " 317: 'aire',\n",
              " 318: 'herida',\n",
              " 319: 'permaneció',\n",
              " 320: 'ayuda',\n",
              " 321: 'dentro',\n",
              " 322: 'mayor',\n",
              " 323: 'nosotros',\n",
              " 324: 'últimos',\n",
              " 325: 'puede',\n",
              " 326: 'misma',\n",
              " 327: 'comer',\n",
              " 328: 'punto',\n",
              " 329: 'muchas',\n",
              " 330: 'colocado',\n",
              " 331: 'mirada',\n",
              " 332: 'actual',\n",
              " 333: 'tiene',\n",
              " 334: 'desayuno',\n",
              " 335: 'calle',\n",
              " 336: 'dicho',\n",
              " 337: 'llegado',\n",
              " 338: 'profundamente',\n",
              " 339: 'especialmente',\n",
              " 340: 'sola',\n",
              " 341: 'caso',\n",
              " 342: 'puertas',\n",
              " 343: 'estoy',\n",
              " 344: 'varias',\n",
              " 345: 'absoluto',\n",
              " 346: 'dirección',\n",
              " 347: 'precisamente',\n",
              " 348: 'tomar',\n",
              " 349: 'tales',\n",
              " 350: 'podían',\n",
              " 351: 'criada',\n",
              " 352: 'contigua',\n",
              " 353: 'palabra',\n",
              " 354: 'preguntó',\n",
              " 355: 'dar',\n",
              " 356: 'motivo',\n",
              " 357: 'cocina',\n",
              " 358: 'tuvo',\n",
              " 359: 'darse',\n",
              " 360: 'cayó',\n",
              " 361: 'cerró',\n",
              " 362: 'dejar',\n",
              " 363: 'alegría',\n",
              " 364: 'completo',\n",
              " 365: 'rápidamente',\n",
              " 366: 'abría',\n",
              " 367: 'música',\n",
              " 368: 'inmóvil',\n",
              " 369: 'sábana',\n",
              " 370: 'cuadro',\n",
              " 371: 'acostumbrado',\n",
              " 372: 'aunque',\n",
              " 373: 'dolor',\n",
              " 374: 'he',\n",
              " 375: 'constantemente',\n",
              " 376: 'totalmente',\n",
              " 377: 'posición',\n",
              " 378: 'levantarse',\n",
              " 379: 'hace',\n",
              " 380: 'hombre',\n",
              " 381: 'largo',\n",
              " 382: 'estos',\n",
              " 383: 'mis',\n",
              " 384: 'opinión',\n",
              " 385: 'dinero',\n",
              " 386: 'cinco',\n",
              " 387: 'años',\n",
              " 388: 'tranquilamente',\n",
              " 389: '¿es',\n",
              " 390: 'tendría',\n",
              " 391: 'evitar',\n",
              " 392: 'médico',\n",
              " 393: 'razón',\n",
              " 394: 'salir',\n",
              " 395: 'circunstancias',\n",
              " 396: 'gracias',\n",
              " 397: 'cambio',\n",
              " 398: 'conversación',\n",
              " 399: 'algún',\n",
              " 400: 'mal',\n",
              " 401: 'solo',\n",
              " 402: 'primera',\n",
              " 403: 'finalmente',\n",
              " 404: 'momentos',\n",
              " 405: 'entró',\n",
              " 406: 'quedarse',\n",
              " 407: 'posibilidad',\n",
              " 408: 'orden',\n",
              " 409: 'alfombra',\n",
              " 410: 'pensamientos',\n",
              " 411: 'quien',\n",
              " 412: 'periódico',\n",
              " 413: 'yacía',\n",
              " 414: 'tenido',\n",
              " 415: 'exclamó',\n",
              " 416: 'cierta',\n",
              " 417: 'tranquilidad',\n",
              " 418: 'dejó',\n",
              " 419: 'nos',\n",
              " 420: 'través',\n",
              " 421: 'dejado',\n",
              " 422: 'fueron',\n",
              " 423: 'luego',\n",
              " 424: 'efectivamente',\n",
              " 425: 'ésta',\n",
              " 426: 'llevar',\n",
              " 427: 'quisiera',\n",
              " 428: 'cerrada',\n",
              " 429: 'miraba',\n",
              " 430: 'uniforme',\n",
              " 431: 'escalera',\n",
              " 432: 'vista',\n",
              " 433: 'corría',\n",
              " 434: 'bastón',\n",
              " 435: 'fuese',\n",
              " 436: 'situación',\n",
              " 437: 'larga',\n",
              " 438: 'viejo',\n",
              " 439: 'lágrimas',\n",
              " 440: 'señal',\n",
              " 441: 'escuchaba',\n",
              " 442: 'aspecto',\n",
              " 443: 'éste',\n",
              " 444: 'manzana',\n",
              " 445: 'levantar',\n",
              " 446: 'vientre',\n",
              " 447: 'resto',\n",
              " 448: 'ocurrido',\n",
              " 449: 'aquel',\n",
              " 450: 'dirigió',\n",
              " 451: '«',\n",
              " 452: 'derecho',\n",
              " 453: 'volvía',\n",
              " 454: 'intentó',\n",
              " 455: 'costado',\n",
              " 456: 'sentido',\n",
              " 457: 'mío',\n",
              " 458: 'sintió',\n",
              " 459: 'cerca',\n",
              " 460: 'debían',\n",
              " 461: 'conseguido',\n",
              " 462: 'hablar',\n",
              " 463: 'abajo',\n",
              " 464: 'culpa',\n",
              " 465: 'seguridad',\n",
              " 466: 'seguían',\n",
              " 467: 'pasado',\n",
              " 468: 'seguir',\n",
              " 469: 'salía',\n",
              " 470: 'prisa',\n",
              " 471: 'enfermo',\n",
              " 472: 'bastante',\n",
              " 473: 'asustó',\n",
              " 474: 'sonido',\n",
              " 475: 'pudiese',\n",
              " 476: 'necesitaba',\n",
              " 477: 'hubiera',\n",
              " 478: 'adelante',\n",
              " 479: 'sacar',\n",
              " 480: 'lentitud',\n",
              " 481: 'miedo',\n",
              " 482: 'continuar',\n",
              " 483: 'ningún',\n",
              " 484: 'esfuerzo',\n",
              " 485: 'fuerte',\n",
              " 486: 'ocurrió',\n",
              " 487: 'necesidad',\n",
              " 488: 'pudo',\n",
              " 489: 'paso',\n",
              " 490: 'hablaba',\n",
              " 491: 'sentado',\n",
              " 492: 'pequeño',\n",
              " 493: 'acababa',\n",
              " 494: 'quiere',\n",
              " 495: 'año',\n",
              " 496: 'grandes',\n",
              " 497: 'intentaba',\n",
              " 498: 'ustedes',\n",
              " 499: 'dios',\n",
              " 500: 'ir',\n",
              " 501: 'mantenía',\n",
              " 502: 'hoja',\n",
              " 503: 'vio',\n",
              " 504: 'trabajar',\n",
              " 505: 'terminado',\n",
              " 506: 'última',\n",
              " 507: 'tenían',\n",
              " 508: 'abierto',\n",
              " 509: 'olvidado',\n",
              " 510: 'atrás',\n",
              " 511: 'voluntad',\n",
              " 512: 'empujaba',\n",
              " 513: 'leche',\n",
              " 514: 'solía',\n",
              " 515: 'oscuridad',\n",
              " 516: 'gusto',\n",
              " 517: 'algunas',\n",
              " 518: 'trozo',\n",
              " 519: 'escoba',\n",
              " 520: 'frecuencia',\n",
              " 521: 'quedaba',\n",
              " 522: 'pasaba',\n",
              " 523: 'escritorio',\n",
              " 524: 'camino',\n",
              " 525: 'brazo',\n",
              " 526: 'corrió',\n",
              " 527: 'cuello',\n",
              " 528: 'amigos',\n",
              " 529: 'hija',\n",
              " 530: 'despertó',\n",
              " 531: 'encontró',\n",
              " 532: 'cuya',\n",
              " 533: 'patas',\n",
              " 534: 'cuatro',\n",
              " 535: 'viajante',\n",
              " 536: 'pesado',\n",
              " 537: 'ponía',\n",
              " 538: 'ciudad',\n",
              " 539: 'deslizó',\n",
              " 540: 'retiró',\n",
              " 541: 'producía',\n",
              " 542: 'sentados',\n",
              " 543: 'intentar',\n",
              " 544: 'caído',\n",
              " 545: 'costumbre',\n",
              " 546: 'esperanza',\n",
              " 547: 'despertador',\n",
              " 548: 'media',\n",
              " 549: 'dormido',\n",
              " 550: 'servicio',\n",
              " 551: 'abandonar',\n",
              " 552: 'instante',\n",
              " 553: 'causa',\n",
              " 554: 'grave',\n",
              " 555: 'baja',\n",
              " 556: 'contestó',\n",
              " 557: 'grande',\n",
              " 558: 'hay',\n",
              " 559: 'despacio',\n",
              " 560: 'siguió',\n",
              " 561: 'perder',\n",
              " 562: 'semejante',\n",
              " 563: 'poner',\n",
              " 564: 'espectáculo',\n",
              " 565: 'sonó',\n",
              " 566: 'esperase',\n",
              " 567: 'alguien',\n",
              " 568: 'caída',\n",
              " 569: 'preocupación',\n",
              " 570: 'deprisa',\n",
              " 571: 'persona',\n",
              " 572: 'simplemente',\n",
              " 573: 'venir',\n",
              " 574: 'da',\n",
              " 575: 'rabia',\n",
              " 576: 'izquierda',\n",
              " 577: 'pasos',\n",
              " 578: 'alto',\n",
              " 579: 'pudiera',\n",
              " 580: 'saber',\n",
              " 581: 'favor',\n",
              " 582: 'amablemente',\n",
              " 583: 'cuanto',\n",
              " 584: 'según',\n",
              " 585: 'negocios',\n",
              " 586: 'vamos',\n",
              " 587: 'seriamente',\n",
              " 588: 'comportamiento',\n",
              " 589: 'inútilmente',\n",
              " 590: 'falta',\n",
              " 591: 'obstinación',\n",
              " 592: 'creía',\n",
              " 593: 'alguno',\n",
              " 594: 'enmudeció',\n",
              " 595: 'buscar',\n",
              " 596: 'dando',\n",
              " 597: 'vestido',\n",
              " 598: 'suficientemente',\n",
              " 599: 'respecto',\n",
              " 600: 'primeras',\n",
              " 601: 'conversaciones',\n",
              " 602: 'cerradura',\n",
              " 603: 'dientes',\n",
              " 604: 'idea',\n",
              " 605: 'fuerzas',\n",
              " 606: 'capaz',\n",
              " 607: 'alta',\n",
              " 608: 'arriba',\n",
              " 609: 'inclinada',\n",
              " 610: 'enfrente',\n",
              " 611: 'caía',\n",
              " 612: 'pared',\n",
              " 613: 'visión',\n",
              " 614: 'fácilmente',\n",
              " 615: 'mayoría',\n",
              " 616: 'carne',\n",
              " 617: 'creído',\n",
              " 618: 'perdido',\n",
              " 619: 'abandonó',\n",
              " 620: 'barandilla',\n",
              " 621: 'advirtió',\n",
              " 622: 'retrocedió',\n",
              " 623: 'pareció',\n",
              " 624: 'perdía',\n",
              " 625: 'techo',\n",
              " 626: 'escudilla',\n",
              " 627: 'pan',\n",
              " 628: 'resultaba',\n",
              " 629: 'oía',\n",
              " 630: 'ocasión',\n",
              " 631: 'decidido',\n",
              " 632: 'trataba',\n",
              " 633: 'temprano',\n",
              " 634: 'querían',\n",
              " 635: 'comprobar',\n",
              " 636: 'oportunidad',\n",
              " 637: 'cena',\n",
              " 638: 'echó',\n",
              " 639: 'ninguna',\n",
              " 640: 'comía',\n",
              " 641: 'explicaciones',\n",
              " 642: 'puro',\n",
              " 643: 'golpeaba',\n",
              " 644: 'dormía',\n",
              " 645: 'recuerdo',\n",
              " 646: 'ciertamente',\n",
              " 647: 'entrase',\n",
              " 648: 'impedía',\n",
              " 649: 'nueva',\n",
              " 650: 'chica',\n",
              " 651: 'direcciones',\n",
              " 652: 'primero',\n",
              " 653: 'llevaba',\n",
              " 654: 'sentir',\n",
              " 655: 'frente',\n",
              " 656: 'miradas',\n",
              " 657: 'preocuparse',\n",
              " 658: 'bolsillos',\n",
              " 659: 'empezó',\n",
              " 660: 'tienda',\n",
              " 661: 'polvo',\n",
              " 662: 'rincón',\n",
              " 663: 'dormitorio',\n",
              " 664: 'casualidad',\n",
              " 665: 'permanecieron',\n",
              " 666: 'huésped',\n",
              " 667: 'cadáver',\n",
              " 668: 'convertido',\n",
              " 669: 'arco',\n",
              " 670: 'pequeñas',\n",
              " 671: 'auténtica',\n",
              " 672: 'humana',\n",
              " 673: 'muestrario',\n",
              " 674: 'comercio',\n",
              " 675: 'colgado',\n",
              " 676: 'sombrero',\n",
              " 677: 'sentada',\n",
              " 678: 'lluvia',\n",
              " 679: 'pasaría',\n",
              " 680: 'imposible',\n",
              " 681: 'dormir',\n",
              " 682: 'ponerse',\n",
              " 683: 'comenzaba',\n",
              " 684: 'leve',\n",
              " 685: '«¡qué',\n",
              " 686: 'esfuerzos',\n",
              " 687: 'viajar',\n",
              " 688: 'pequeños',\n",
              " 689: 'pata',\n",
              " 690: 'ejemplo',\n",
              " 691: 'pasar',\n",
              " 692: 'quién',\n",
              " 693: 'sabe',\n",
              " 694: 'mí',\n",
              " 695: 'extraña',\n",
              " 696: 'sentarse',\n",
              " 697: 'altura',\n",
              " 698: 'empleado',\n",
              " 699: 'puedo',\n",
              " 700: 'seis',\n",
              " 701: 'haberse',\n",
              " 702: 'esperado',\n",
              " 703: 'descuido',\n",
              " 704: 'haría',\n",
              " 705: 'reproches',\n",
              " 706: '¿y',\n",
              " 707: 'excepción',\n",
              " 708: 'rapidez',\n",
              " 709: '¿no',\n",
              " 710: 'escuchó',\n",
              " 711: 'profundo',\n",
              " 712: 'notaba',\n",
              " 713: 'respuesta',\n",
              " 714: 'breve',\n",
              " 715: 'llamaba',\n",
              " 716: 'puño',\n",
              " 717: 'ambos',\n",
              " 718: 'preparado',\n",
              " 719: 'abre',\n",
              " 720: 'menor',\n",
              " 721: 'conclusión',\n",
              " 722: 'producido',\n",
              " 723: 'resultado',\n",
              " 724: 'curiosidad',\n",
              " 725: 'hoy',\n",
              " 726: 'buen',\n",
              " 727: 'ancho',\n",
              " 728: 'movimientos',\n",
              " 729: 'estiraba',\n",
              " 730: '«no',\n",
              " 731: 'inferior',\n",
              " 732: 'lanzó',\n",
              " 733: 'fuertemente',\n",
              " 734: 'facilidad',\n",
              " 735: 'peso',\n",
              " 736: 'giro',\n",
              " 737: 'ocurrir',\n",
              " 738: 'sensato',\n",
              " 739: 'dirigía',\n",
              " 740: 'ánimo',\n",
              " 741: 'respirando',\n",
              " 742: 'salido',\n",
              " 743: 'sea',\n",
              " 744: 'venido',\n",
              " 745: 'pretendía',\n",
              " 746: 'posiblemente',\n",
              " 747: 'sobresalía',\n",
              " 748: 'fácil',\n",
              " 749: 'hubiesen',\n",
              " 750: 'firme',\n",
              " 751: '¿por',\n",
              " 752: 'servicios',\n",
              " 753: 'mínimo',\n",
              " 754: 'estuviese',\n",
              " 755: 'asunto',\n",
              " 756: 'irritación',\n",
              " 757: 'decisión',\n",
              " 758: 'produjo',\n",
              " 759: 'golpe',\n",
              " 760: 'auténtico',\n",
              " 761: 'pensado',\n",
              " 762: 'debió',\n",
              " 763: 'ahí',\n",
              " 764: 'parecido',\n",
              " 765: 'ocurría',\n",
              " 766: 'haberlo',\n",
              " 767: 'bondad',\n",
              " 768: 'buenos',\n",
              " 769: 'encuentra',\n",
              " 770: '¡cómo',\n",
              " 771: 'negocio',\n",
              " 772: 'ocho',\n",
              " 773: 'pasó',\n",
              " 774: 'tardes',\n",
              " 775: 'solos',\n",
              " 776: 'suerte',\n",
              " 777: 'tenemos',\n",
              " 778: 'empezado',\n",
              " 779: 'preocupaciones',\n",
              " 780: 'dejase',\n",
              " 781: 'explicación',\n",
              " 782: 'clara',\n",
              " 783: 'inmediata',\n",
              " 784: 'do',\n",
              " 785: 'repente',\n",
              " 786: 'empezar',\n",
              " 787: 'veo',\n",
              " 788: 'cara',\n",
              " 789: 'época',\n",
              " 790: 'apoyado',\n",
              " 791: 'verle',\n",
              " 792: 'presencia',\n",
              " 793: 'dolores',\n",
              " 794: 'cuyos',\n",
              " 795: 'agarró',\n",
              " 796: 'amor',\n",
              " 797: 'oír',\n",
              " 798: 'tono',\n",
              " 799: 'gritos',\n",
              " 800: 'cerrajero',\n",
              " 801: 'oyó',\n",
              " 802: 'humano',\n",
              " 803: 'esperaba',\n",
              " 804: 'hacerlo',\n",
              " 805: 'distinta',\n",
              " 806: 'reinaba',\n",
              " 807: 'acercó',\n",
              " 808: 'arrojó',\n",
              " 809: 'mandíbulas',\n",
              " 810: 'apretaba',\n",
              " 811: 'adentros',\n",
              " 812: 'apoyó',\n",
              " 813: 'pecho',\n",
              " 814: 'extendidas',\n",
              " 815: 'justamente',\n",
              " 816: 'rellano',\n",
              " 817: 'realidad',\n",
              " 818: 'superado',\n",
              " 819: 'obstáculo',\n",
              " 820: 'conjunto',\n",
              " 821: 'confianza',\n",
              " 822: 'propia',\n",
              " 823: 'estuvo',\n",
              " 824: 'repentino',\n",
              " 825: 'sacó',\n",
              " 826: 'lejos',\n",
              " 827: 'atraído',\n",
              " 828: 'futuro',\n",
              " 829: '¡si',\n",
              " 830: 'ambas',\n",
              " 831: 'hubo',\n",
              " 832: 'adivinar',\n",
              " 833: 'relativamente',\n",
              " 834: 'retroceder',\n",
              " 835: 'mirando',\n",
              " 836: 'buena',\n",
              " 837: 'feliz',\n",
              " 838: 'moverse',\n",
              " 839: 'aun',\n",
              " 840: 'llena',\n",
              " 841: 'llorar',\n",
              " 842: 'gustaba',\n",
              " 843: 'repugnancia',\n",
              " 844: 'rendija',\n",
              " 845: 'fijamente',\n",
              " 846: 'llevaban',\n",
              " 847: 'satisfacción',\n",
              " 848: 'final',\n",
              " 849: 'manera',\n",
              " 850: 'luz',\n",
              " 851: 'permanecido',\n",
              " 852: 'puntillas',\n",
              " 853: 'molestase',\n",
              " 854: 'impresión',\n",
              " 855: 'vacía',\n",
              " 856: 'cómodo',\n",
              " 857: 'prueba',\n",
              " 858: 'extraño',\n",
              " 859: 'traería',\n",
              " 860: 'pies',\n",
              " 861: 'cuyo',\n",
              " 862: 'queso',\n",
              " 863: 'asombró',\n",
              " 864: 'mes',\n",
              " 865: 'soportar',\n",
              " 866: 'retirarse',\n",
              " 867: 'utilizar',\n",
              " 868: 'cubo',\n",
              " 869: 'recibía',\n",
              " 870: 'mediodía',\n",
              " 871: 'comido',\n",
              " 872: 'habitaciones',\n",
              " 873: 'comidas',\n",
              " 874: 'pedido',\n",
              " 875: 'hora',\n",
              " 876: 'desesperación',\n",
              " 877: 'otras',\n",
              " 878: 'conservatorio',\n",
              " 879: 'decididamente',\n",
              " 880: 'luces',\n",
              " 881: 'anteriormente',\n",
              " 882: 'atenta',\n",
              " 883: 'darle',\n",
              " 884: 'hiciese',\n",
              " 885: 'llegó',\n",
              " 886: 'esperar',\n",
              " 887: 'corriendo',\n",
              " 888: 'detalle',\n",
              " 889: 'mejoría',\n",
              " 890: 'comprendía',\n",
              " 891: 'impedían',\n",
              " 892: 'colocar',\n",
              " 893: 'temía',\n",
              " 894: 'abandonado',\n",
              " 895: 'creo',\n",
              " 896: 'asuntos',\n",
              " 897: 'pura',\n",
              " 898: 'cartas',\n",
              " 899: 'sujetaba',\n",
              " 900: 'acostumbrada',\n",
              " 901: 'moviese',\n",
              " 902: 'detuvo',\n",
              " 903: 'confesarse',\n",
              " 904: 'mujer',\n",
              " 905: 'apresuradamente',\n",
              " 906: 'cristal',\n",
              " 907: 'rompió',\n",
              " 908: 'echar',\n",
              " 909: 'os',\n",
              " 910: 'precipitó',\n",
              " 911: 'botones',\n",
              " 912: 'gorra',\n",
              " 913: 'abiertos',\n",
              " 914: 'correr',\n",
              " 915: 'susto',\n",
              " 916: 'general',\n",
              " 917: 'ropa',\n",
              " 918: 'conseguir',\n",
              " 919: 'efecto',\n",
              " 920: 'hombros',\n",
              " 921: 'gente',\n",
              " 922: 'daban',\n",
              " 923: 'noches',\n",
              " 924: 'llegar',\n",
              " 925: 'suciedad',\n",
              " 926: 'fuente',\n",
              " 927: 'levantaban',\n",
              " 928: 'levantaron',\n",
              " 929: 'tocar',\n",
              " 930: 'partitura',\n",
              " 931: 'bestia',\n",
              " 932: 'digo',\n",
              " 933: 'dura',\n",
              " 934: 'caparazón',\n",
              " 935: 'parduzco',\n",
              " 936: 'cobertor',\n",
              " 937: 'tamaño',\n",
              " 938: 'tranquila',\n",
              " 939: 'extendido',\n",
              " 940: 'bonito',\n",
              " 941: 'marco',\n",
              " 942: 'dorado',\n",
              " 943: 'representaba',\n",
              " 944: 'piel',\n",
              " 945: 'oían',\n",
              " 946: 'gotas',\n",
              " 947: 'olvidase',\n",
              " 948: 'absolutamente',\n",
              " 949: 'balancear',\n",
              " 950: 'empeño',\n",
              " 951: 'notar',\n",
              " 952: 'sordo',\n",
              " 953: 'profesionales',\n",
              " 954: 'son',\n",
              " 955: 'jamás',\n",
              " 956: 'llega',\n",
              " 957: '¡que',\n",
              " 958: 'cabecera',\n",
              " 959: 'quiso',\n",
              " 960: 'viajantes',\n",
              " 961: 'pedidos',\n",
              " 962: 'despedido',\n",
              " 963: 'acercarse',\n",
              " 964: 'deudas',\n",
              " 965: 'tienen',\n",
              " 966: 'habrá',\n",
              " 967: 'levantarme',\n",
              " 968: 'cielo',\n",
              " 969: 'sonado',\n",
              " 970: '¿era',\n",
              " 971: 'siguiente',\n",
              " 972: 'mozo',\n",
              " 973: 'recados',\n",
              " 974: 'juicio',\n",
              " 975: 'dijese',\n",
              " 976: 'sumamente',\n",
              " 977: 'desagradable',\n",
              " 978: 'sospechoso',\n",
              " 979: 'hijo',\n",
              " 980: '¡qué',\n",
              " 981: 'dulce',\n",
              " 982: 'evidentemente',\n",
              " 983: 'suya',\n",
              " 984: 'des',\n",
              " 985: 'claridad',\n",
              " 986: 'levanto',\n",
              " 987: 'madera',\n",
              " 988: 'miembros',\n",
              " 989: 'suavemente',\n",
              " 990: 'ocurre',\n",
              " 991: 'instantes',\n",
              " 992: 'lateral',\n",
              " 993: 'te',\n",
              " 994: 'haciendo',\n",
              " 995: 'llamar',\n",
              " 996: 'susurró',\n",
              " 997: 'precaución',\n",
              " 998: 'molestado',\n",
              " 999: 'vestirse',\n",
              " 1000: 'recordó',\n",
              " ...}"
            ]
          },
          "metadata": {},
          "execution_count": 29
        }
      ]
    },
    {
      "cell_type": "code",
      "metadata": {
        "id": "gJgVhq1zwEpf",
        "colab": {
          "base_uri": "https://localhost:8080/"
        },
        "outputId": "91204e9d-6875-42f3-c045-c427d629cd0a"
      },
      "source": [
        "# Cantidad de palabras en el vocabulario\n",
        "vocab_size = len(tok.word_counts)\n",
        "vocab_size"
      ],
      "execution_count": 30,
      "outputs": [
        {
          "output_type": "execute_result",
          "data": {
            "text/plain": [
              "3549"
            ]
          },
          "metadata": {},
          "execution_count": 30
        }
      ]
    },
    {
      "cell_type": "code",
      "metadata": {
        "id": "wKV85M2uwKJ9"
      },
      "source": [
        "# Transformar los datos a oneHotEncoding\n",
        "# y_data = to_categorical(y_data_int, num_classes=vocab_size)"
      ],
      "execution_count": 31,
      "outputs": []
    },
    {
      "cell_type": "code",
      "metadata": {
        "id": "qWjNrNx9wM1b",
        "colab": {
          "base_uri": "https://localhost:8080/"
        },
        "outputId": "1699f97b-475b-4493-f5d9-f37612f3e501"
      },
      "source": [
        "# En el caso anterior explota porque y_data_int comienza en \"1\" en vez de \"0\"\n",
        "# valor minimo:\n",
        "min(y_data_int)"
      ],
      "execution_count": 32,
      "outputs": [
        {
          "output_type": "execute_result",
          "data": {
            "text/plain": [
              "1"
            ]
          },
          "metadata": {},
          "execution_count": 32
        }
      ]
    },
    {
      "cell_type": "code",
      "metadata": {
        "id": "gIg2e2WCwXbG",
        "colab": {
          "base_uri": "https://localhost:8080/"
        },
        "outputId": "6be93133-6111-4055-d8ef-8935c4db1ef9"
      },
      "source": [
        "y_data_int_offset = y_data_int - 1\n",
        "y_data = to_categorical(y_data_int_offset, num_classes=vocab_size) \n",
        "y_data.shape"
      ],
      "execution_count": 33,
      "outputs": [
        {
          "output_type": "execute_result",
          "data": {
            "text/plain": [
              "(20671, 3549)"
            ]
          },
          "metadata": {},
          "execution_count": 33
        }
      ]
    },
    {
      "cell_type": "markdown",
      "metadata": {
        "id": "GmJWNyxQwfCE"
      },
      "source": [
        "### 4 - Entrenar el modelo"
      ]
    },
    {
      "cell_type": "code",
      "metadata": {
        "id": "0cOmNZT_weK2",
        "colab": {
          "base_uri": "https://localhost:8080/"
        },
        "outputId": "3de1d368-a28b-4b3a-d082-02a83c5e8e12"
      },
      "source": [
        "# largo de la secuencia de entrada\n",
        "input_seq_len = x_data.shape[1] \n",
        "input_seq_len"
      ],
      "execution_count": 34,
      "outputs": [
        {
          "output_type": "execute_result",
          "data": {
            "text/plain": [
              "3"
            ]
          },
          "metadata": {},
          "execution_count": 34
        }
      ]
    },
    {
      "cell_type": "code",
      "metadata": {
        "id": "qtwITjgnwlgp",
        "colab": {
          "base_uri": "https://localhost:8080/"
        },
        "outputId": "3110f20d-851b-46a0-85ea-d990aee2ac97"
      },
      "source": [
        "# Largo del vector de salida --> vocab_size\n",
        "output_size = vocab_size\n",
        "output_size"
      ],
      "execution_count": 35,
      "outputs": [
        {
          "output_type": "execute_result",
          "data": {
            "text/plain": [
              "3549"
            ]
          },
          "metadata": {},
          "execution_count": 35
        }
      ]
    },
    {
      "cell_type": "code",
      "metadata": {
        "id": "jzTZRXrrwrvi",
        "colab": {
          "base_uri": "https://localhost:8080/"
        },
        "outputId": "271048c4-3888-4d3e-e782-2a399fa9fcb5"
      },
      "source": [
        "model = Sequential()\n",
        "\n",
        "# Embedding:\n",
        "# input_seq_len = 3 --> ingreso 3 palabras\n",
        "# input_dim = vocab_size --> 1628 palabras distintas\n",
        "# output_dim = 5 --> crear embeddings de tamaño 3 (tamaño variable y ajustable)\n",
        "model.add(Embedding(input_dim=vocab_size+1, output_dim=30, input_length=input_seq_len))\n",
        "\n",
        "model.add(Bidirectional(LSTM(256, return_sequences=True)))\n",
        "model.add(Dropout(0.5))\n",
        "model.add(Bidirectional(LSTM(256, return_sequences=True)))\n",
        "model.add(Dropout(0.5))\n",
        "model.add(LSTM(512)) # La última capa LSTM no lleva return_sequences\n",
        "\n",
        "model.add(Dense(1024, activation='relu'))\n",
        "model.add(Dropout(0.5))\n",
        "model.add(Dense(1024, activation='relu'))\n",
        "# Predicción de clasificación con softmax\n",
        "# La salida vuelve al espacio de 1628 palabras posibles\n",
        "model.add(Dense(vocab_size, activation='softmax'))\n",
        "\n",
        "# Clasificación multiple categórica --> loss = categorical_crossentropy\n",
        "model.compile(loss='categorical_crossentropy', optimizer='adam', metrics=['accuracy'])\n",
        "\n",
        "model.summary()"
      ],
      "execution_count": 46,
      "outputs": [
        {
          "output_type": "stream",
          "name": "stdout",
          "text": [
            "Model: \"sequential_2\"\n",
            "_________________________________________________________________\n",
            " Layer (type)                Output Shape              Param #   \n",
            "=================================================================\n",
            " embedding_2 (Embedding)     (None, 3, 30)             106500    \n",
            "                                                                 \n",
            " bidirectional_6 (Bidirectio  (None, 3, 512)           587776    \n",
            " nal)                                                            \n",
            "                                                                 \n",
            " dropout_10 (Dropout)        (None, 3, 512)            0         \n",
            "                                                                 \n",
            " bidirectional_7 (Bidirectio  (None, 3, 512)           1574912   \n",
            " nal)                                                            \n",
            "                                                                 \n",
            " dropout_11 (Dropout)        (None, 3, 512)            0         \n",
            "                                                                 \n",
            " lstm_8 (LSTM)               (None, 512)               2099200   \n",
            "                                                                 \n",
            " dense_6 (Dense)             (None, 1024)              525312    \n",
            "                                                                 \n",
            " dropout_12 (Dropout)        (None, 1024)              0         \n",
            "                                                                 \n",
            " dense_7 (Dense)             (None, 1024)              1049600   \n",
            "                                                                 \n",
            " dense_8 (Dense)             (None, 3549)              3637725   \n",
            "                                                                 \n",
            "=================================================================\n",
            "Total params: 9,581,025\n",
            "Trainable params: 9,581,025\n",
            "Non-trainable params: 0\n",
            "_________________________________________________________________\n"
          ]
        }
      ]
    },
    {
      "cell_type": "code",
      "metadata": {
        "id": "oQq1PHDkxDvN",
        "colab": {
          "base_uri": "https://localhost:8080/"
        },
        "outputId": "9ae20c95-e8d2-433d-c89e-91bb237f164b"
      },
      "source": [
        "hist = model.fit(x_data, y_data, epochs=100, validation_split=0.2)"
      ],
      "execution_count": 47,
      "outputs": [
        {
          "output_type": "stream",
          "name": "stdout",
          "text": [
            "Epoch 1/100\n",
            "517/517 [==============================] - 15s 16ms/step - loss: 6.4412 - accuracy: 0.0471 - val_loss: 6.3032 - val_accuracy: 0.0392\n",
            "Epoch 2/100\n",
            "517/517 [==============================] - 7s 13ms/step - loss: 5.9643 - accuracy: 0.0682 - val_loss: 6.3065 - val_accuracy: 0.0711\n",
            "Epoch 3/100\n",
            "517/517 [==============================] - 7s 13ms/step - loss: 5.6970 - accuracy: 0.0807 - val_loss: 6.3828 - val_accuracy: 0.0689\n",
            "Epoch 4/100\n",
            "517/517 [==============================] - 7s 13ms/step - loss: 5.4900 - accuracy: 0.0893 - val_loss: 6.4788 - val_accuracy: 0.0784\n",
            "Epoch 5/100\n",
            "517/517 [==============================] - 7s 13ms/step - loss: 5.3027 - accuracy: 0.1003 - val_loss: 6.7253 - val_accuracy: 0.0817\n",
            "Epoch 6/100\n",
            "517/517 [==============================] - 7s 13ms/step - loss: 5.1218 - accuracy: 0.1127 - val_loss: 6.7956 - val_accuracy: 0.0832\n",
            "Epoch 7/100\n",
            "517/517 [==============================] - 7s 13ms/step - loss: 4.9516 - accuracy: 0.1240 - val_loss: 7.0243 - val_accuracy: 0.0827\n",
            "Epoch 8/100\n",
            "517/517 [==============================] - 7s 13ms/step - loss: 4.7887 - accuracy: 0.1320 - val_loss: 7.1020 - val_accuracy: 0.0846\n",
            "Epoch 9/100\n",
            "517/517 [==============================] - 7s 13ms/step - loss: 4.6171 - accuracy: 0.1400 - val_loss: 7.5490 - val_accuracy: 0.0849\n",
            "Epoch 10/100\n",
            "517/517 [==============================] - 7s 13ms/step - loss: 4.4687 - accuracy: 0.1524 - val_loss: 7.4779 - val_accuracy: 0.0808\n",
            "Epoch 11/100\n",
            "517/517 [==============================] - 7s 13ms/step - loss: 4.3200 - accuracy: 0.1643 - val_loss: 8.2325 - val_accuracy: 0.0808\n",
            "Epoch 12/100\n",
            "517/517 [==============================] - 7s 13ms/step - loss: 4.1832 - accuracy: 0.1771 - val_loss: 8.4263 - val_accuracy: 0.0863\n",
            "Epoch 13/100\n",
            "517/517 [==============================] - 7s 13ms/step - loss: 4.0427 - accuracy: 0.1900 - val_loss: 8.5657 - val_accuracy: 0.0776\n",
            "Epoch 14/100\n",
            "517/517 [==============================] - 7s 13ms/step - loss: 3.9184 - accuracy: 0.2008 - val_loss: 8.7423 - val_accuracy: 0.0786\n",
            "Epoch 15/100\n",
            "517/517 [==============================] - 7s 13ms/step - loss: 3.8084 - accuracy: 0.2062 - val_loss: 9.4423 - val_accuracy: 0.0805\n",
            "Epoch 16/100\n",
            "517/517 [==============================] - 7s 13ms/step - loss: 3.6971 - accuracy: 0.2169 - val_loss: 9.8031 - val_accuracy: 0.0856\n",
            "Epoch 17/100\n",
            "517/517 [==============================] - 7s 13ms/step - loss: 3.5795 - accuracy: 0.2308 - val_loss: 9.7399 - val_accuracy: 0.0810\n",
            "Epoch 18/100\n",
            "517/517 [==============================] - 7s 13ms/step - loss: 3.4786 - accuracy: 0.2409 - val_loss: 10.4908 - val_accuracy: 0.0813\n",
            "Epoch 19/100\n",
            "517/517 [==============================] - 7s 13ms/step - loss: 3.3919 - accuracy: 0.2515 - val_loss: 10.8580 - val_accuracy: 0.0767\n",
            "Epoch 20/100\n",
            "517/517 [==============================] - 7s 13ms/step - loss: 3.2962 - accuracy: 0.2577 - val_loss: 10.8717 - val_accuracy: 0.0786\n",
            "Epoch 21/100\n",
            "517/517 [==============================] - 7s 13ms/step - loss: 3.2170 - accuracy: 0.2654 - val_loss: 11.3088 - val_accuracy: 0.0713\n",
            "Epoch 22/100\n",
            "517/517 [==============================] - 7s 13ms/step - loss: 3.1442 - accuracy: 0.2754 - val_loss: 11.5809 - val_accuracy: 0.0706\n",
            "Epoch 23/100\n",
            "517/517 [==============================] - 7s 13ms/step - loss: 3.0551 - accuracy: 0.2833 - val_loss: 12.2204 - val_accuracy: 0.0728\n",
            "Epoch 24/100\n",
            "517/517 [==============================] - 7s 13ms/step - loss: 2.9867 - accuracy: 0.2946 - val_loss: 11.9101 - val_accuracy: 0.0745\n",
            "Epoch 25/100\n",
            "517/517 [==============================] - 7s 13ms/step - loss: 2.9062 - accuracy: 0.3047 - val_loss: 12.7676 - val_accuracy: 0.0723\n",
            "Epoch 26/100\n",
            "517/517 [==============================] - 7s 13ms/step - loss: 2.8340 - accuracy: 0.3111 - val_loss: 13.1006 - val_accuracy: 0.0735\n",
            "Epoch 27/100\n",
            "517/517 [==============================] - 7s 13ms/step - loss: 2.7847 - accuracy: 0.3197 - val_loss: 13.0687 - val_accuracy: 0.0699\n",
            "Epoch 28/100\n",
            "517/517 [==============================] - 7s 14ms/step - loss: 2.7304 - accuracy: 0.3247 - val_loss: 13.4609 - val_accuracy: 0.0699\n",
            "Epoch 29/100\n",
            "517/517 [==============================] - 7s 13ms/step - loss: 2.6520 - accuracy: 0.3356 - val_loss: 13.9640 - val_accuracy: 0.0706\n",
            "Epoch 30/100\n",
            "517/517 [==============================] - 7s 13ms/step - loss: 2.6064 - accuracy: 0.3443 - val_loss: 13.2882 - val_accuracy: 0.0680\n",
            "Epoch 31/100\n",
            "517/517 [==============================] - 7s 13ms/step - loss: 2.5451 - accuracy: 0.3576 - val_loss: 14.4269 - val_accuracy: 0.0689\n",
            "Epoch 32/100\n",
            "517/517 [==============================] - 7s 14ms/step - loss: 2.4950 - accuracy: 0.3679 - val_loss: 14.4773 - val_accuracy: 0.0699\n",
            "Epoch 33/100\n",
            "517/517 [==============================] - 7s 13ms/step - loss: 2.4522 - accuracy: 0.3713 - val_loss: 14.7765 - val_accuracy: 0.0665\n",
            "Epoch 34/100\n",
            "517/517 [==============================] - 7s 13ms/step - loss: 2.4177 - accuracy: 0.3766 - val_loss: 14.7428 - val_accuracy: 0.0682\n",
            "Epoch 35/100\n",
            "517/517 [==============================] - 7s 13ms/step - loss: 2.3634 - accuracy: 0.3886 - val_loss: 14.9421 - val_accuracy: 0.0663\n",
            "Epoch 36/100\n",
            "517/517 [==============================] - 7s 13ms/step - loss: 2.3213 - accuracy: 0.3951 - val_loss: 15.3491 - val_accuracy: 0.0716\n",
            "Epoch 37/100\n",
            "517/517 [==============================] - 7s 13ms/step - loss: 2.2595 - accuracy: 0.4054 - val_loss: 15.6487 - val_accuracy: 0.0677\n",
            "Epoch 38/100\n",
            "517/517 [==============================] - 7s 13ms/step - loss: 2.2468 - accuracy: 0.4048 - val_loss: 15.3925 - val_accuracy: 0.0663\n",
            "Epoch 39/100\n",
            "517/517 [==============================] - 7s 13ms/step - loss: 2.1923 - accuracy: 0.4219 - val_loss: 16.3274 - val_accuracy: 0.0636\n",
            "Epoch 40/100\n",
            "517/517 [==============================] - 7s 13ms/step - loss: 2.1507 - accuracy: 0.4245 - val_loss: 16.1441 - val_accuracy: 0.0670\n",
            "Epoch 41/100\n",
            "517/517 [==============================] - 7s 13ms/step - loss: 2.1169 - accuracy: 0.4323 - val_loss: 16.6793 - val_accuracy: 0.0648\n",
            "Epoch 42/100\n",
            "517/517 [==============================] - 7s 13ms/step - loss: 2.0742 - accuracy: 0.4427 - val_loss: 16.3795 - val_accuracy: 0.0694\n",
            "Epoch 43/100\n",
            "517/517 [==============================] - 7s 13ms/step - loss: 2.0273 - accuracy: 0.4572 - val_loss: 16.8475 - val_accuracy: 0.0655\n",
            "Epoch 44/100\n",
            "517/517 [==============================] - 7s 13ms/step - loss: 2.0119 - accuracy: 0.4539 - val_loss: 17.2642 - val_accuracy: 0.0641\n",
            "Epoch 45/100\n",
            "517/517 [==============================] - 7s 13ms/step - loss: 1.9862 - accuracy: 0.4614 - val_loss: 16.9373 - val_accuracy: 0.0641\n",
            "Epoch 46/100\n",
            "517/517 [==============================] - 6s 13ms/step - loss: 1.9569 - accuracy: 0.4689 - val_loss: 17.1156 - val_accuracy: 0.0653\n",
            "Epoch 47/100\n",
            "517/517 [==============================] - 7s 13ms/step - loss: 1.9106 - accuracy: 0.4733 - val_loss: 17.2086 - val_accuracy: 0.0689\n",
            "Epoch 48/100\n",
            "517/517 [==============================] - 7s 13ms/step - loss: 1.8775 - accuracy: 0.4837 - val_loss: 17.1204 - val_accuracy: 0.0631\n",
            "Epoch 49/100\n",
            "517/517 [==============================] - 7s 13ms/step - loss: 1.8502 - accuracy: 0.4917 - val_loss: 17.5786 - val_accuracy: 0.0590\n",
            "Epoch 50/100\n",
            "517/517 [==============================] - 7s 13ms/step - loss: 1.8214 - accuracy: 0.4979 - val_loss: 18.0343 - val_accuracy: 0.0658\n",
            "Epoch 51/100\n",
            "517/517 [==============================] - 6s 13ms/step - loss: 1.7986 - accuracy: 0.5013 - val_loss: 17.7254 - val_accuracy: 0.0602\n",
            "Epoch 52/100\n",
            "517/517 [==============================] - 7s 13ms/step - loss: 1.7736 - accuracy: 0.5099 - val_loss: 18.1996 - val_accuracy: 0.0638\n",
            "Epoch 53/100\n",
            "517/517 [==============================] - 7s 13ms/step - loss: 1.7464 - accuracy: 0.5130 - val_loss: 18.3629 - val_accuracy: 0.0699\n",
            "Epoch 54/100\n",
            "517/517 [==============================] - 7s 13ms/step - loss: 1.7131 - accuracy: 0.5191 - val_loss: 18.1776 - val_accuracy: 0.0617\n",
            "Epoch 55/100\n",
            "517/517 [==============================] - 7s 13ms/step - loss: 1.6940 - accuracy: 0.5279 - val_loss: 18.2856 - val_accuracy: 0.0609\n",
            "Epoch 56/100\n",
            "517/517 [==============================] - 7s 13ms/step - loss: 1.6613 - accuracy: 0.5342 - val_loss: 18.8141 - val_accuracy: 0.0539\n",
            "Epoch 57/100\n",
            "517/517 [==============================] - 6s 13ms/step - loss: 1.6379 - accuracy: 0.5392 - val_loss: 18.5784 - val_accuracy: 0.0614\n",
            "Epoch 58/100\n",
            "517/517 [==============================] - 7s 13ms/step - loss: 1.6104 - accuracy: 0.5384 - val_loss: 19.2782 - val_accuracy: 0.0600\n",
            "Epoch 59/100\n",
            "517/517 [==============================] - 7s 13ms/step - loss: 1.5746 - accuracy: 0.5504 - val_loss: 19.0247 - val_accuracy: 0.0612\n",
            "Epoch 60/100\n",
            "517/517 [==============================] - 6s 13ms/step - loss: 1.5604 - accuracy: 0.5569 - val_loss: 19.2093 - val_accuracy: 0.0638\n",
            "Epoch 61/100\n",
            "517/517 [==============================] - 7s 13ms/step - loss: 1.5535 - accuracy: 0.5568 - val_loss: 19.5039 - val_accuracy: 0.0617\n",
            "Epoch 62/100\n",
            "517/517 [==============================] - 7s 13ms/step - loss: 1.5336 - accuracy: 0.5626 - val_loss: 19.8178 - val_accuracy: 0.0629\n",
            "Epoch 63/100\n",
            "517/517 [==============================] - 7s 13ms/step - loss: 1.5021 - accuracy: 0.5695 - val_loss: 18.9781 - val_accuracy: 0.0573\n",
            "Epoch 64/100\n",
            "517/517 [==============================] - 7s 13ms/step - loss: 1.4800 - accuracy: 0.5793 - val_loss: 19.4890 - val_accuracy: 0.0593\n",
            "Epoch 65/100\n",
            "517/517 [==============================] - 7s 13ms/step - loss: 1.4609 - accuracy: 0.5828 - val_loss: 19.6621 - val_accuracy: 0.0634\n",
            "Epoch 66/100\n",
            "517/517 [==============================] - 7s 13ms/step - loss: 1.4415 - accuracy: 0.5861 - val_loss: 19.3525 - val_accuracy: 0.0619\n",
            "Epoch 67/100\n",
            "517/517 [==============================] - 7s 13ms/step - loss: 1.4189 - accuracy: 0.5878 - val_loss: 19.9227 - val_accuracy: 0.0634\n",
            "Epoch 68/100\n",
            "517/517 [==============================] - 7s 13ms/step - loss: 1.4058 - accuracy: 0.5980 - val_loss: 19.6355 - val_accuracy: 0.0605\n",
            "Epoch 69/100\n",
            "517/517 [==============================] - 7s 13ms/step - loss: 1.3747 - accuracy: 0.6031 - val_loss: 19.6250 - val_accuracy: 0.0609\n",
            "Epoch 70/100\n",
            "517/517 [==============================] - 7s 13ms/step - loss: 1.3731 - accuracy: 0.6015 - val_loss: 19.9834 - val_accuracy: 0.0585\n",
            "Epoch 71/100\n",
            "517/517 [==============================] - 7s 13ms/step - loss: 1.3590 - accuracy: 0.6101 - val_loss: 19.6361 - val_accuracy: 0.0643\n",
            "Epoch 72/100\n",
            "517/517 [==============================] - 7s 13ms/step - loss: 1.3151 - accuracy: 0.6176 - val_loss: 20.1215 - val_accuracy: 0.0607\n",
            "Epoch 73/100\n",
            "517/517 [==============================] - 7s 13ms/step - loss: 1.3183 - accuracy: 0.6168 - val_loss: 19.8094 - val_accuracy: 0.0597\n",
            "Epoch 74/100\n",
            "517/517 [==============================] - 7s 13ms/step - loss: 1.2939 - accuracy: 0.6214 - val_loss: 19.5809 - val_accuracy: 0.0614\n",
            "Epoch 75/100\n",
            "517/517 [==============================] - 7s 13ms/step - loss: 1.2778 - accuracy: 0.6219 - val_loss: 20.0174 - val_accuracy: 0.0583\n",
            "Epoch 76/100\n",
            "517/517 [==============================] - 7s 13ms/step - loss: 1.2589 - accuracy: 0.6249 - val_loss: 20.5907 - val_accuracy: 0.0617\n",
            "Epoch 77/100\n",
            "517/517 [==============================] - 7s 13ms/step - loss: 1.2542 - accuracy: 0.6295 - val_loss: 20.5840 - val_accuracy: 0.0597\n",
            "Epoch 78/100\n",
            "517/517 [==============================] - 7s 13ms/step - loss: 1.2215 - accuracy: 0.6415 - val_loss: 21.1014 - val_accuracy: 0.0631\n",
            "Epoch 79/100\n",
            "517/517 [==============================] - 7s 13ms/step - loss: 1.2061 - accuracy: 0.6448 - val_loss: 20.8580 - val_accuracy: 0.0583\n",
            "Epoch 80/100\n",
            "517/517 [==============================] - 7s 13ms/step - loss: 1.1954 - accuracy: 0.6463 - val_loss: 20.5977 - val_accuracy: 0.0624\n",
            "Epoch 81/100\n",
            "517/517 [==============================] - 7s 13ms/step - loss: 1.1727 - accuracy: 0.6517 - val_loss: 20.7999 - val_accuracy: 0.0597\n",
            "Epoch 82/100\n",
            "517/517 [==============================] - 7s 13ms/step - loss: 1.1800 - accuracy: 0.6494 - val_loss: 21.1788 - val_accuracy: 0.0609\n",
            "Epoch 83/100\n",
            "517/517 [==============================] - 7s 13ms/step - loss: 1.1672 - accuracy: 0.6573 - val_loss: 20.7169 - val_accuracy: 0.0609\n",
            "Epoch 84/100\n",
            "517/517 [==============================] - 7s 13ms/step - loss: 1.1260 - accuracy: 0.6665 - val_loss: 21.3249 - val_accuracy: 0.0622\n",
            "Epoch 85/100\n",
            "517/517 [==============================] - 7s 13ms/step - loss: 1.1226 - accuracy: 0.6689 - val_loss: 20.8070 - val_accuracy: 0.0597\n",
            "Epoch 86/100\n",
            "517/517 [==============================] - 7s 13ms/step - loss: 1.0966 - accuracy: 0.6739 - val_loss: 21.2522 - val_accuracy: 0.0568\n",
            "Epoch 87/100\n",
            "517/517 [==============================] - 7s 13ms/step - loss: 1.1072 - accuracy: 0.6704 - val_loss: 21.6864 - val_accuracy: 0.0605\n",
            "Epoch 88/100\n",
            "517/517 [==============================] - 7s 13ms/step - loss: 1.0697 - accuracy: 0.6812 - val_loss: 21.5992 - val_accuracy: 0.0651\n",
            "Epoch 89/100\n",
            "517/517 [==============================] - 7s 13ms/step - loss: 1.0761 - accuracy: 0.6785 - val_loss: 21.3154 - val_accuracy: 0.0600\n",
            "Epoch 90/100\n",
            "517/517 [==============================] - 7s 13ms/step - loss: 1.0493 - accuracy: 0.6852 - val_loss: 21.1762 - val_accuracy: 0.0576\n",
            "Epoch 91/100\n",
            "517/517 [==============================] - 7s 13ms/step - loss: 1.0527 - accuracy: 0.6829 - val_loss: 21.2160 - val_accuracy: 0.0580\n",
            "Epoch 92/100\n",
            "517/517 [==============================] - 7s 13ms/step - loss: 1.0448 - accuracy: 0.6879 - val_loss: 21.3397 - val_accuracy: 0.0629\n",
            "Epoch 93/100\n",
            "517/517 [==============================] - 7s 13ms/step - loss: 1.0173 - accuracy: 0.6950 - val_loss: 21.2363 - val_accuracy: 0.0600\n",
            "Epoch 94/100\n",
            "517/517 [==============================] - 7s 13ms/step - loss: 1.0066 - accuracy: 0.6979 - val_loss: 21.3558 - val_accuracy: 0.0607\n",
            "Epoch 95/100\n",
            "517/517 [==============================] - 7s 13ms/step - loss: 1.0094 - accuracy: 0.6952 - val_loss: 21.8545 - val_accuracy: 0.0614\n",
            "Epoch 96/100\n",
            "517/517 [==============================] - 7s 13ms/step - loss: 0.9857 - accuracy: 0.7026 - val_loss: 22.2221 - val_accuracy: 0.0605\n",
            "Epoch 97/100\n",
            "517/517 [==============================] - 7s 13ms/step - loss: 0.9650 - accuracy: 0.7094 - val_loss: 22.2556 - val_accuracy: 0.0624\n",
            "Epoch 98/100\n",
            "517/517 [==============================] - 7s 13ms/step - loss: 0.9822 - accuracy: 0.7057 - val_loss: 21.7639 - val_accuracy: 0.0566\n",
            "Epoch 99/100\n",
            "517/517 [==============================] - 7s 13ms/step - loss: 0.9590 - accuracy: 0.7097 - val_loss: 21.6463 - val_accuracy: 0.0595\n",
            "Epoch 100/100\n",
            "517/517 [==============================] - 7s 13ms/step - loss: 0.9456 - accuracy: 0.7116 - val_loss: 22.1527 - val_accuracy: 0.0566\n"
          ]
        }
      ]
    },
    {
      "cell_type": "code",
      "metadata": {
        "id": "q_orBXOrCsNn",
        "colab": {
          "base_uri": "https://localhost:8080/",
          "height": 265
        },
        "outputId": "af94b55e-bc22-4398-af1a-e5e45f17370e"
      },
      "source": [
        "import matplotlib.pyplot as plt\n",
        "import seaborn as sns\n",
        "\n",
        "# Entrenamiento\n",
        "epoch_count = range(1, len(hist.history['accuracy']) + 1)\n",
        "sns.lineplot(x=epoch_count,  y=hist.history['accuracy'], label='train')\n",
        "sns.lineplot(x=epoch_count,  y=hist.history['val_accuracy'], label='valid')\n",
        "plt.show()"
      ],
      "execution_count": 48,
      "outputs": [
        {
          "output_type": "display_data",
          "data": {
            "text/plain": [
              "<Figure size 432x288 with 1 Axes>"
            ],
            "image/png": "[encoded data removed]"
          },
          "metadata": {
            "needs_background": "light"
          }
        }
      ]
    },
    {
      "cell_type": "markdown",
      "metadata": {
        "id": "KN6Fg_BsxJe6"
      },
      "source": [
        "### 5 - Predicción de próxima palabra"
      ]
    },
    {
      "cell_type": "code",
      "metadata": {
        "id": "iy_AXWQWzeeE"
      },
      "source": [
        "# Keras pad_sequences\n",
        "# https://www.tensorflow.org/api_docs/python/tf/keras/preprocessing/sequence/pad_sequences\n",
        "# Si la secuencia de entrada supera al input_seq_len (3) se trunca\n",
        "# Si la secuencia es más corta se agregna ceros al comienzo"
      ],
      "execution_count": 49,
      "outputs": []
    },
    {
      "cell_type": "code",
      "metadata": {
        "id": "IBvKHFPmzpy2"
      },
      "source": [
        "# Se utilizará gradio para ensayar el modelo\n",
        "# Herramienta poderosa para crear interfaces rápidas para ensayar modelos\n",
        "# https://gradio.app/\n",
        "import sys\n",
        "!{sys.executable} -m pip install gradio --quiet"
      ],
      "execution_count": 50,
      "outputs": []
    },
    {
      "cell_type": "code",
      "metadata": {
        "id": "HNyBykvhzs7-",
        "colab": {
          "base_uri": "https://localhost:8080/",
          "height": 695
        },
        "outputId": "53051631-96ba-4215-fb19-352259edba40"
      },
      "source": [
        "import gradio as gr\n",
        "\n",
        "def model_response(human_text):\n",
        "\n",
        "    # Encodeamos\n",
        "    encoded = tok.texts_to_sequences([human_text])[0]\n",
        "    # Si tienen distinto largo\n",
        "    encoded = pad_sequences([encoded], maxlen=3, padding='pre')\n",
        "    \n",
        "    # Predicción softmax\n",
        "    y_hat = model.predict(encoded).argmax(axis=-1)\n",
        "\n",
        "    # Debemos buscar en el vocabulario la palabra\n",
        "    # que corresopnde al indice (y_hat) predicho por le modelo\n",
        "    out_word = ''\n",
        "    for word, index in tok.word_index.items():\n",
        "        if index == y_hat:\n",
        "            out_word = word\n",
        "            break\n",
        "\n",
        "    # Agrego la palabra a la frase predicha\n",
        "    return human_text + ' ' + out_word\n",
        "\n",
        "iface = gr.Interface(\n",
        "    fn=model_response,\n",
        "    inputs=[\"textbox\"],\n",
        "    outputs=\"text\",\n",
        "    layout=\"vertical\")\n",
        "\n",
        "iface.launch(debug=True)"
      ],
      "execution_count": 51,
      "outputs": [
        {
          "output_type": "stream",
          "name": "stderr",
          "text": [
            "/usr/local/lib/python3.7/dist-packages/gradio/deprecation.py:40: UserWarning: `layout` parameter is deprecated, and it has no effect\n",
            "  warnings.warn(value)\n"
          ]
        },
        {
          "output_type": "stream",
          "name": "stdout",
          "text": [
            "Colab notebook detected. This cell will run indefinitely so that you can see errors and logs. To turn off, set debug=False in launch().\n",
            "Running on public URL: https://27927.gradio.app\n",
            "\n",
            "This share link expires in 72 hours. For free permanent hosting, check out Spaces: https://huggingface.co/spaces\n"
          ]
        },
        {
          "output_type": "display_data",
          "data": {
            "text/plain": [
              "<IPython.core.display.HTML object>"
            ],
            "text/html": [
              "<div><iframe src=\"https://27927.gradio.app\" width=\"900\" height=\"500\" allow=\"autoplay; camera; microphone; clipboard-read; clipboard-write;\" frameborder=\"0\" allowfullscreen></iframe></div>"
            ]
          },
          "metadata": {}
        },
        {
          "output_type": "stream",
          "name": "stdout",
          "text": [
            "Keyboard interruption in main thread... closing server.\n"
          ]
        },
        {
          "output_type": "execute_result",
          "data": {
            "text/plain": [
              "(<gradio.routes.App at 0x7f70c8fd7d50>,\n",
              " 'http://127.0.0.1:7860/',\n",
              " 'https://27927.gradio.app')"
            ]
          },
          "metadata": {},
          "execution_count": 51
        }
      ]
    },
    {
      "cell_type": "markdown",
      "metadata": {
        "id": "mCeMWWupxN1-"
      },
      "source": [
        "### 6 - Generación de secuencias nuevas"
      ]
    },
    {
      "cell_type": "code",
      "metadata": {
        "id": "bwbS_pfhxvB3"
      },
      "source": [
        "def generate_seq(model, tokenizer, seed_text, max_length, n_words):\n",
        "    \"\"\"\n",
        "        Exec model sequence prediction\n",
        "\n",
        "        Args:\n",
        "            model (keras): modelo entrenado\n",
        "            tokenizer (keras tokenizer): tonenizer utilizado en el preprocesamiento\n",
        "            seed_text (string): texto de entrada (input_seq)\n",
        "            max_length (int): máxima longitud de la sequencia de entrada\n",
        "            n_words (int): números de palabras a agregar a la sequencia de entrada\n",
        "        returns:\n",
        "            output_text (string): sentencia con las \"n_words\" agregadas\n",
        "    \"\"\"\n",
        "    output_text = seed_text\n",
        "\t# generate a fixed number of words\n",
        "    for _ in range(n_words):\n",
        "\t\t# Encodeamos\n",
        "        encoded = tokenizer.texts_to_sequences([output_text])[0]\n",
        "\t\t# Si tienen distinto largo\n",
        "        encoded = pad_sequences([encoded], maxlen=max_length, padding='pre')\n",
        "\t\t\n",
        "\t\t# Predicción softmax\n",
        "        y_hat = model.predict(encoded).argmax(axis=-1)\n",
        "\t\t# Vamos concatenando las predicciones\n",
        "        out_word = ''\n",
        "\n",
        "        # Debemos buscar en el vocabulario la palabra\n",
        "        # que corresopnde al indice (y_hat) predicho por le modelo\n",
        "        for word, index in tokenizer.word_index.items():\n",
        "            if index == y_hat:\n",
        "                out_word = word\n",
        "                break\n",
        "\n",
        "\t\t# Agrego las palabras a la frase predicha\n",
        "        output_text += ' ' + out_word\n",
        "    return output_text"
      ],
      "execution_count": 52,
      "outputs": []
    },
    {
      "cell_type": "code",
      "metadata": {
        "id": "JoFqRC5pxzqS",
        "colab": {
          "base_uri": "https://localhost:8080/"
        },
        "outputId": "cf8cee57-0356-44d4-fd5e-aaeea90b213c"
      },
      "source": [
        "input_texts=['abre la puerta', 'la esperanza todavía', 'retrocedía lentamente como', 'perder el trabajo', 'no parecía tener', 'por la mañana', 'de nuevo se']\n",
        "\n",
        "for input_text in input_texts:\n",
        "  print(generate_seq(model, tok, input_text, max_length=3, n_words=2))"
      ],
      "execution_count": 65,
      "outputs": [
        {
          "output_type": "stream",
          "name": "stdout",
          "text": [
            "abre la puerta y eran\n",
            "la esperanza todavía con su\n",
            "retrocedía lentamente como padre lo\n",
            "perder el trabajo que con\n",
            "no parecía tener cerradura »\n",
            "por la mañana trataba la\n",
            "de nuevo se sentaron sus\n"
          ]
        }
      ]
    },
    {
      "cell_type": "markdown",
      "metadata": {
        "id": "T2SHmXbgxQH9"
      },
      "source": [
        "### 7 - Conclusiones\n",
        "El modelo entrenado tuvo un muy mail desempeño en el entrenamiento además de overfitting. Cuestiones que podrían mejorarse:\n",
        "- Agregar más capas o neuronaes\n",
        "- Incrementar la cantidad de épocas\n",
        "- Agregar BRNN\n",
        "\n",
        "Es importante destacar que en este ejemplo estamos entrenando nuestro propios Embeddings, y para ello se requiere mucha data. En los ejemplos que realizaremos de aquí en más utilizaremos más datos, embeddings pre-enternados o modelos pre-entrenados."
      ]
    },
    {
      "cell_type": "markdown",
      "source": [
        "### Notas:\n",
        "\n",
        "Se experimentó con diferentes arquitecturas de redes neuronales, agregando más neuronas y quitándolas. Modificando la cantidad de capas LSTM y también fully connected, también se realizaron pruebas con y sin capas bidireccionales (LSTM) y alterando el Dropout. En todos los casos se observó overfitting, no obstante el modelo final presenta resultados satisfactorios teniendo en cuenta la baja cantidad de datos con los que se entrenó el modelo."
      ],
      "metadata": {
        "id": "Xt00kWb_iaCS"
      }
    }
  ]
}