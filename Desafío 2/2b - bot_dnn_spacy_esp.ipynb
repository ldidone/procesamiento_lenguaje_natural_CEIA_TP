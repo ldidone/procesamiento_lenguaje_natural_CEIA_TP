{
 "cells": [
  {
   "cell_type": "markdown",
   "metadata": {
    "id": "NV8wZ0MTKjv_"
   },
   "source": [
    "<img src=\"https://github.com/hernancontigiani/ceia_memorias_especializacion/raw/master/Figures/logoFIUBA.jpg\" width=\"500\" align=\"center\">\n",
    "\n",
    "\n",
    "# Procesamiento de lenguaje natural\n",
    "## Bot basado en reglas con DNN + Spacy"
   ]
  },
  {
   "cell_type": "markdown",
   "metadata": {
    "id": "Z_9z3H-yKrcK"
   },
   "source": [
    "#### Datos\n",
    "Este ejemplo se inspiró en otro Bot en inglés creado con NLTK, lo tienen como referencia para hacer lo mismo en inglés:\\\n",
    "[LINK](https://towardsdatascience.com/a-simple-chatbot-in-python-with-deep-learning-3e8669997758)"
   ]
  },
  {
   "cell_type": "markdown",
   "metadata": {
    "id": "oCVZakCzAjGN"
   },
   "source": [
    "### 1 - Instalar dependencias\n",
    "Para poder utilizar Spacy en castellano es necesario agregar la librería \"spacy-stanza\" para lematizar palabras en español."
   ]
  },
  {
   "cell_type": "code",
   "execution_count": 1,
   "metadata": {
    "id": "kzao7XO9NJAq"
   },
   "outputs": [],
   "source": [
    "# La última versión de spacy-stanza (>1.0) es compatible solo con spacy >=3.0\n",
    "# Nota: spacy 3.0 incorpora al pepiline nlp transformers\n",
    "import json\n",
    "import string\n",
    "import random \n",
    "import numpy as np\n",
    "\n",
    "import tensorflow as tf \n",
    "from tensorflow.keras import Sequential \n",
    "from tensorflow.keras.layers import Dense, Dropout"
   ]
  },
  {
   "cell_type": "code",
   "execution_count": 2,
   "metadata": {
    "id": "Z_ExOb8uvjqK"
   },
   "outputs": [
    {
     "name": "stderr",
     "output_type": "stream",
     "text": [
      "c:\\users\\lucas\\documents\\especialización en inteligencia artificial de la uba\\10. procesamiento del lenguaje natural\\repositorio propio\\venv\\lib\\site-packages\\tqdm\\auto.py:22: TqdmWarning: IProgress not found. Please update jupyter and ipywidgets. See https://ipywidgets.readthedocs.io/en/stable/user_install.html\n",
      "  from .autonotebook import tqdm as notebook_tqdm\n",
      "Downloading https://raw.githubusercontent.com/stanfordnlp/stanza-resources/main/resources_1.2.2.json: 140kB [00:00, 22.8MB/s]                                                                                   \n",
      "2022-09-15 16:55:09 INFO: Downloading default packages for language: es (Spanish)...\n",
      "2022-09-15 16:55:10 INFO: File exists: C:\\Users\\lucas\\stanza_resources\\es\\default.zip.\n",
      "2022-09-15 16:55:16 INFO: Finished downloading models and saved to C:\\Users\\lucas\\stanza_resources.\n",
      "2022-09-15 16:55:16 INFO: Loading these models for language: es (Spanish):\n",
      "=======================\n",
      "| Processor | Package |\n",
      "-----------------------\n",
      "| tokenize  | ancora  |\n",
      "| mwt       | ancora  |\n",
      "| pos       | ancora  |\n",
      "| lemma     | ancora  |\n",
      "| depparse  | ancora  |\n",
      "| ner       | conll02 |\n",
      "=======================\n",
      "\n",
      "2022-09-15 16:55:16 INFO: Use device: cpu\n",
      "2022-09-15 16:55:16 INFO: Loading: tokenize\n",
      "2022-09-15 16:55:16 INFO: Loading: mwt\n",
      "2022-09-15 16:55:16 INFO: Loading: pos\n",
      "2022-09-15 16:55:17 INFO: Loading: lemma\n",
      "2022-09-15 16:55:17 INFO: Loading: depparse\n",
      "2022-09-15 16:55:17 INFO: Loading: ner\n",
      "2022-09-15 16:55:19 INFO: Done loading processors!\n"
     ]
    }
   ],
   "source": [
    "import stanza\n",
    "import spacy_stanza\n",
    "\n",
    "# Vamos a usar SpaCy-Stanza. Stanza es una librería de NLP de Stanford\n",
    "# SpaCy armó un wrapper para los pipelines y modelos de Stanza\n",
    "# https://stanfordnlp.github.io/stanza/\n",
    "\n",
    "# Descargar el diccionario en español y armar el pipeline de NLP con spacy\n",
    "stanza.download(\"es\")\n",
    "nlp = spacy_stanza.load_pipeline(\"es\")"
   ]
  },
  {
   "cell_type": "markdown",
   "metadata": {
    "id": "_wF10RjVMBdV"
   },
   "source": [
    "### 2 - Herramientas de preprocesamiento de datos\n",
    "Entre las tareas de procesamiento de texto en español se implementa:\n",
    "- Quitar acentos y caracteres especiales\n",
    "- Quitar números\n",
    "- Quitar símbolos de puntuación"
   ]
  },
  {
   "cell_type": "code",
   "execution_count": 3,
   "metadata": {
    "id": "ZxoD2hEExmuX"
   },
   "outputs": [],
   "source": [
    "import re\n",
    "import unicodedata\n",
    "\n",
    "# El preprocesamento en castellano requiere más trabajo\n",
    "\n",
    "# Referencia de regex:\n",
    "# https://docs.python.org/3/library/re.html\n",
    "\n",
    "def preprocess_clean_text(text):    \n",
    "    # sacar tildes de las palabras:\n",
    "    text = unicodedata.normalize('NFKD', text).encode('ascii', 'ignore').decode('utf-8', 'ignore')\n",
    "    # quitar caracteres especiales\n",
    "    pattern = r'[^a-zA-z0-9.,!?/:;\\\"\\'\\s]' # [^ : ningún caracter de todos estos\n",
    "    # (termina eliminando cualquier caracter distinto de los del regex)\n",
    "    text = re.sub(pattern, '', text)\n",
    "    pattern = r'[^a-zA-z.,!?/:;\\\"\\'\\s]' # igual al anterior pero sin cifras numéricas\n",
    "    # quitar números\n",
    "    text = re.sub(pattern, '', text)\n",
    "    # quitar caracteres de puntuación\n",
    "    text = ''.join([c for c in text if c not in string.punctuation])\n",
    "    return text"
   ]
  },
  {
   "cell_type": "code",
   "execution_count": 4,
   "metadata": {
    "id": "q-MiMZjh5fu2"
   },
   "outputs": [
    {
     "data": {
      "text/plain": [
       "'personas ideas estas cosas y los peces y los murcielagos'"
      ]
     },
     "execution_count": 4,
     "metadata": {},
     "output_type": "execute_result"
    }
   ],
   "source": [
    "text = \"personas Ideas! estás cosas y los peces y los murciélagos\"\n",
    "\n",
    "# Antes de preprocesar los datos se pasa a minúsculas todo el texto\n",
    "preprocess_clean_text(text.lower())"
   ]
  },
  {
   "cell_type": "code",
   "execution_count": 5,
   "metadata": {
    "id": "I9V-S8JbrtNn"
   },
   "outputs": [
    {
     "name": "stdout",
     "output_type": "stream",
     "text": [
      "tokens: hola personas ideas estas cosas y los peces y los murcielagos\n",
      "Lematización de cada token:\n",
      "[hola, 'holar']\n",
      "[personas, 'persona']\n",
      "[ideas, 'idea']\n",
      "[estas, 'este']\n",
      "[cosas, 'cosa']\n",
      "[y, 'y']\n",
      "[los, 'el']\n",
      "[peces, 'pez']\n",
      "[y, 'y']\n",
      "[los, 'el']\n",
      "[murcielagos, 'murcielago']\n"
     ]
    }
   ],
   "source": [
    "# Ejemplo de como fuciona\n",
    "text = \"hola personas Ideas! estás cosas y los peces y los murciélagos\"\n",
    "\n",
    "# Antes de preprocesar los datos se pasa a minúsculas todo el texto\n",
    "tokes = nlp(preprocess_clean_text(text.lower()))\n",
    "print(\"tokens:\", tokes)\n",
    "print(\"Lematización de cada token:\")\n",
    "for token in tokes:\n",
    "    print([token, token.lemma_])"
   ]
  },
  {
   "cell_type": "markdown",
   "metadata": {
    "id": "ilRbn0KfMm2r"
   },
   "source": [
    "### 3 - Diccionario de entrada"
   ]
  },
  {
   "cell_type": "markdown",
   "metadata": {},
   "source": [
    "- Preguntas frecuentes de anfitriones de Airbnb (disponibles [aquí](https://www.airbnb.com.ar/resources/hosting-homes/t/common-questions-23) y adaptadas)."
   ]
  },
  {
   "cell_type": "code",
   "execution_count": 6,
   "metadata": {},
   "outputs": [],
   "source": [
    "# Dataset en formato JSON que representa las posibles preguntas (patterns)\n",
    "# y las posibles respuestas por categoría (tag)\n",
    "# Los \"patterns\" van a formar el corpus para entrenar el clasificador que clasifica en tags\n",
    "# \"respones\" son las respuestas predeterminadas posibles para cada tag\n",
    "dataset = {\n",
    "    \"intents\": [\n",
    "        {\n",
    "            \"tag\": \"cancel\",\n",
    "            \"patterns\": [\"¿Qué pasa cuando los huéspedes cancelan una reserva?\",\n",
    "                         \"¿Qué pasa cuando los huéspedes modifican una reserva?\",],\n",
    "            \"responses\": [\"Si un huésped cancela una reserva, vamos a aplicar tu política de cancelación.\",\n",
    "                          \"Si aceptás un cambio en la reserva de un huésped, vas a recibir el pago 24 horas \"+\n",
    "                          \"después de la nueva hora del check-in\", \"Elegí la política de cancelación que mejor \"+\n",
    "                          \"se adapte a tus necesidades.\",],\n",
    "        },\n",
    "        {\n",
    "            \"tag\": \"forest_fires\",\n",
    "            \"patterns\": [\"¿Cómo prepararse para los incendios forestales?\",],\n",
    "            \"responses\": [\"Trabajamos con la Asociación Internacional de Jefes de Cuerpo de Bomberos para \"+\n",
    "                          \"asesorarnos sobre la seguridad ante incendios forestales.\", \n",
    "                          \"Seguí los consejos de los bomberos\", \"Comunicate con tus huéspedes \"+ \n",
    "                          \"de manera clara para prepararlos en caso de un incendio forestal.\",],\n",
    "        },\n",
    "        {\n",
    "            \"tag\": \"prevent_parties\",\n",
    "            \"patterns\": [\"Consejos para ayudarte a prevenir las fiestas en tu propiedad\",\n",
    "                         \"Evitar festejos en tu propiedad\",],\n",
    "            \"responses\": [\"La política sobre fiestas y eventos de Airbnb te permite cancelar sin sanciones \"+\n",
    "                          \"si brindás pruebas que demuestren que un huésped tiene intenciones de hacer una fiesta.\",\n",
    "                          \"Definir expectativas y establecer una comunicación clara pueden ayudar a evitar problemas\",],\n",
    "        },\n",
    "        {\n",
    "            \"tag\": \"positioning\",\n",
    "            \"patterns\": [\"Consejos para mejorar tu posicionamiento en los resultados de búsqueda en Airbnb\", \n",
    "                         \"¿Cómo posicionarse mejor en Airbnb?\",],\n",
    "            \"responses\": [\"Hay muchos factores que determinan la posición de los anuncios en los resultados de búsqueda.\",\n",
    "                          \"Para mejorar el posicionamiento de tu anuncio, te recomendamos que pongas un precio atractivo, \"+\n",
    "                          \"aceptes más reservas y te esfuerces por llegar a ser Superanfitrión.\",],\n",
    "        },\n",
    "        {\n",
    "            \"tag\": \"get_started\",\n",
    "            \"patterns\": [\"¿Cómo empezar tu negocio en Airbnb?\", \"Comenzar tu negocio en Airbnb\",],\n",
    "            \"responses\": [\"Calculá cuánto podrías ganar\", \"Aprendé a administrar tu negocio\", \n",
    "                          \"Convertite en anfitrión en Airbnb [link]\",],\n",
    "        },\n",
    "        {\n",
    "            \"tag\": \"insurance\",\n",
    "            \"patterns\": [\"Seguro de viaje para las reservas\", \"Asegurar huéspedes\", \"Seguro viajeros\",], \n",
    "            \"responses\": [\"El seguro de viaje paga a los viajeros hasta el 100 % de los costos de la reserva en \"+\n",
    "                          \"Airbnb si cancelan por motivos cubiertos\", \"Los huéspedes en Estados Unidos, el Reino Unido \"+\n",
    "                          \"y ocho países de Europa pronto van a poder agregar un seguro de viaje cuando reserven una estadía\",],\n",
    "        },\n",
    "        {\n",
    "            \"tag\": \"protect_host\",\n",
    "            \"patterns\": [\"¿Cómo protegemos a los anfitriones en Airbnb?\", \"¿Cómo me protegen?\",],\n",
    "            \"responses\": [\"Airbnb toma las precauciones necesarias para proteger a los anfitriones y los huéspedes.\",\n",
    "                          \"Contás con ayuda disponible en todo el mundo y en 11 idiomas distintos, \"+\n",
    "                          \"las 24 horas, los 7 días de la semana.\", \"Consultá nuestra guía completa [link] \"+ \n",
    "                          \"y descubrí el mundo de los anfitriones.\",],\n",
    "        },\n",
    "        {\n",
    "            \"tag\": \"aircover\",\n",
    "            \"patterns\": [\"Todo lo que necesitás saber sobre AirCover para anfitriones\", \"¿Qué es aircover?\",],\n",
    "            \"responses\": [\"AirCover para anfitriones incluye una Protección ante daños para anfitriones \"+\n",
    "                          \"de 1 millón de dólares y un Seguro de responsabilidad civil para anfitriones de \"+\n",
    "                          \"1 millón de dólares\", \"La Protección ante daños incluye la protección por pérdida de ingresos, \"+\n",
    "                          \"así como también los daños causados por mascotas, los gastos por limpieza profunda y mucho más.\",],\n",
    "        },\n",
    "        {\n",
    "            \"tag\": \"schedule\",\n",
    "            \"patterns\": [\"¿Cómo funciona la configuración del calendario de tus reservas?\", \n",
    "                         \"Configurar calendario\", \"Calendario de reservas\",],\n",
    "            \"responses\": [\"Mantené la configuración de tu calendario actualizada para conseguir reservas cuando vos quieras.\",\n",
    "                          \"Sincronizá tus calendarios para evitar cancelaciones y sanciones.\",\n",
    "                          \"Encontrá más información en nuestra guía completa para crear un anuncio exitoso. [link]\",],\n",
    "        },\n",
    "        {\n",
    "            \"tag\": \"recommendations\",\n",
    "            \"patterns\": [\"Conocé las recomendaciones para hospedar\", \"¿Qué me recomendarían para hospedar?\",],\n",
    "            \"responses\": [\"Respondé a los mensajes de los huéspedes y a cualquier mensaje relacionado con las \"+\n",
    "                          \"reservas en un plazo de 24 horas.\", \"Establecé requisitos de reserva para sentirte \"+\n",
    "                          \"a gusto aceptando más huéspedes.\", \"Para evitar cancelaciones, mantené tu calendario \"+\n",
    "                          \"siempre actualizado.\", \"Seguí los estándares de hospitalidad de Airbnb para conseguir \"+\n",
    "                          \"evaluaciones excelentes.\", \"Hablá con un anfitrión experimentado.\",\n",
    "                          \"Consultá nuestra guía completa y descubrí el mundo de los anfitriones. [link]\",],\n",
    "        },\n",
    "    ]\n",
    "}"
   ]
  },
  {
   "cell_type": "markdown",
   "metadata": {
    "id": "19PEDmIDfLRu"
   },
   "source": [
    "### 4 - Preprocesamiento y armado del dataset"
   ]
  },
  {
   "cell_type": "code",
   "execution_count": 7,
   "metadata": {
    "id": "b3HP8abHNRk3"
   },
   "outputs": [
    {
     "name": "stderr",
     "output_type": "stream",
     "text": [
      "c:\\users\\lucas\\documents\\especialización en inteligencia artificial de la uba\\10. procesamiento del lenguaje natural\\repositorio propio\\venv\\lib\\site-packages\\stanza\\models\\common\\beam.py:86: UserWarning: __floordiv__ is deprecated, and its behavior will change in a future version of pytorch. It currently rounds toward 0 (like the 'trunc' function NOT 'floor'). This results in incorrect rounding for negative values. To keep the current behavior, use torch.div(a, b, rounding_mode='trunc'), or for actual floor division, use torch.div(a, b, rounding_mode='floor').\n",
      "  prevK = bestScoresId // numWords\n",
      "C:\\Users\\lucas\\AppData\\Local\\Temp\\ipykernel_8328\\2762758537.py:17: UserWarning: Due to multiword token expansion or an alignment issue, the original text has been replaced by space-separated expanded tokens.\n",
      "  tokens = nlp(preprocess_clean_text(pattern.lower()))\n",
      "C:\\Users\\lucas\\AppData\\Local\\Temp\\ipykernel_8328\\2762758537.py:17: UserWarning: Can't set named entities because of multi-word token expansion or because the character offsets don't map to valid tokens produced by the Stanza tokenizer:\n",
      "Words: ['como', 'funciona', 'la', 'configuracion', 'de', 'el', 'calendario', 'de', 'tus', 'reservas']\n",
      "Entities: []\n",
      "  tokens = nlp(preprocess_clean_text(pattern.lower()))\n"
     ]
    }
   ],
   "source": [
    "# Datos que necesitaremos, las palabras o vocabulario\n",
    "words = []\n",
    "classes = []\n",
    "doc_X = []\n",
    "doc_y = []\n",
    "\n",
    "# Por cada intención (intents) debemos tomar los patrones que la caracterízan\n",
    "# a esa intención y transformarla a tokens para almacenar en doc_X\n",
    "\n",
    "# El tag de cada intención se almacena como doc_Y (la clase a predecir)\n",
    "# En `words` vamos a guardar el vocabulario\n",
    "# En `class` las posibles clases o tags\n",
    "\n",
    "for intent in dataset[\"intents\"]:\n",
    "    for pattern in intent[\"patterns\"]:\n",
    "        # trasformar el patron a tokens\n",
    "        tokens = nlp(preprocess_clean_text(pattern.lower()))\n",
    "        # lematizar los tokens\n",
    "        for token in tokens:            \n",
    "            words.append(token.lemma_)\n",
    "        \n",
    "        doc_X.append(pattern)\n",
    "        doc_y.append(intent[\"tag\"])\n",
    "    \n",
    "    # Agregar el tag a las clases\n",
    "    if intent[\"tag\"] not in classes:\n",
    "        classes.append(intent[\"tag\"])\n",
    "\n",
    "# Elminar duplicados con \"set\" y ordenar el vocubulario y las clases por orden alfabético\n",
    "words = sorted(set(words))\n",
    "classes = sorted(set(classes))"
   ]
  },
  {
   "cell_type": "code",
   "execution_count": 8,
   "metadata": {
    "id": "Acy-gcugNbMH"
   },
   "outputs": [
    {
     "name": "stdout",
     "output_type": "stream",
     "text": [
      "words: ['a', 'airbnb', 'aircover', 'anfitrión', 'asegurar', 'ayudar', 'busqueda', 'calendario', 'cancelar', 'comenzar', 'como', 'configuracion', 'configurar', 'conocer', 'consejo', 'cuando', 'de', 'el', 'empezar', 'en', 'evitar', 'festejo', 'fiesta', 'forestal', 'funcionar', 'hospedar', 'huesped', 'incendio', 'mejor', 'mejorar', 'modificar', 'necesitar', 'negocio', 'para', 'pasar', 'posicionamiento', 'posicionar', 'preparar', 'prevenir', 'propiedad', 'proteger', 'que', 'recomendación', 'recomendar', 'reserva', 'resultado', 'saber', 'seguro', 'ser', 'sobre', 'todo', 'tu', 'tú', 'uno', 'viaje', 'viajero', 'yo', 'él']\n",
      "classes: ['aircover', 'cancel', 'forest_fires', 'get_started', 'insurance', 'positioning', 'prevent_parties', 'protect_host', 'recommendations', 'schedule']\n",
      "doc_X: ['¿Qué pasa cuando los huéspedes cancelan una reserva?', '¿Qué pasa cuando los huéspedes modifican una reserva?', '¿Cómo prepararse para los incendios forestales?', 'Consejos para ayudarte a prevenir las fiestas en tu propiedad', 'Evitar festejos en tu propiedad', 'Consejos para mejorar tu posicionamiento en los resultados de búsqueda en Airbnb', '¿Cómo posicionarse mejor en Airbnb?', '¿Cómo empezar tu negocio en Airbnb?', 'Comenzar tu negocio en Airbnb', 'Seguro de viaje para las reservas', 'Asegurar huéspedes', 'Seguro viajeros', '¿Cómo protegemos a los anfitriones en Airbnb?', '¿Cómo me protegen?', 'Todo lo que necesitás saber sobre AirCover para anfitriones', '¿Qué es aircover?', '¿Cómo funciona la configuración del calendario de tus reservas?', 'Configurar calendario', 'Calendario de reservas', 'Conocé las recomendaciones para hospedar', '¿Qué me recomendarían para hospedar?']\n",
      "doc_y: ['cancel', 'cancel', 'forest_fires', 'prevent_parties', 'prevent_parties', 'positioning', 'positioning', 'get_started', 'get_started', 'insurance', 'insurance', 'insurance', 'protect_host', 'protect_host', 'aircover', 'aircover', 'schedule', 'schedule', 'schedule', 'recommendations', 'recommendations']\n"
     ]
    }
   ],
   "source": [
    "print(\"words:\", words)\n",
    "print(\"classes:\", classes)\n",
    "print(\"doc_X:\", doc_X)\n",
    "print(\"doc_y:\", doc_y)"
   ]
  },
  {
   "cell_type": "code",
   "execution_count": 9,
   "metadata": {
    "id": "YI0L2U7IQcvy"
   },
   "outputs": [
    {
     "name": "stdout",
     "output_type": "stream",
     "text": [
      "Vocabulario: 58\n"
     ]
    }
   ],
   "source": [
    "# Tamaño del vocabulario\n",
    "print(\"Vocabulario:\", len(words))"
   ]
  },
  {
   "cell_type": "code",
   "execution_count": 10,
   "metadata": {
    "id": "hqBeGKRk_q4r"
   },
   "outputs": [
    {
     "name": "stdout",
     "output_type": "stream",
     "text": [
      "Tags: 10\n"
     ]
    }
   ],
   "source": [
    "# Cantidad de tags\n",
    "print(\"Tags:\", len(classes))"
   ]
  },
  {
   "cell_type": "code",
   "execution_count": 11,
   "metadata": {
    "id": "vpbJ0guPN2Uq"
   },
   "outputs": [
    {
     "name": "stdout",
     "output_type": "stream",
     "text": [
      "X: [0, 0, 0, 0, 0, 0, 0, 0, 1, 0, 0, 0, 0, 0, 0, 1, 0, 1, 0, 0, 0, 0, 0, 0, 0, 0, 1, 0, 0, 0, 0, 0, 0, 0, 1, 0, 0, 0, 0, 0, 0, 1, 0, 0, 1, 0, 0, 0, 0, 0, 0, 0, 0, 1, 0, 0, 0, 0] y: [0, 1, 0, 0, 0, 0, 0, 0, 0, 0]\n",
      "X: [0, 0, 0, 0, 0, 0, 0, 0, 0, 0, 0, 0, 0, 0, 0, 1, 0, 1, 0, 0, 0, 0, 0, 0, 0, 0, 1, 0, 0, 0, 1, 0, 0, 0, 1, 0, 0, 0, 0, 0, 0, 1, 0, 0, 1, 0, 0, 0, 0, 0, 0, 0, 0, 1, 0, 0, 0, 0] y: [0, 1, 0, 0, 0, 0, 0, 0, 0, 0]\n",
      "X: [0, 0, 0, 0, 0, 0, 0, 0, 0, 0, 1, 0, 0, 0, 0, 0, 0, 1, 0, 0, 0, 0, 0, 1, 0, 0, 0, 1, 0, 0, 0, 0, 0, 1, 0, 0, 0, 1, 0, 0, 0, 0, 0, 0, 0, 0, 0, 0, 0, 0, 0, 0, 0, 0, 0, 0, 0, 1] y: [0, 0, 1, 0, 0, 0, 0, 0, 0, 0]\n",
      "X: [1, 0, 0, 0, 0, 1, 0, 0, 0, 0, 0, 0, 0, 0, 1, 0, 0, 1, 0, 1, 0, 0, 1, 0, 0, 0, 0, 0, 0, 0, 0, 0, 0, 1, 0, 0, 0, 0, 1, 1, 0, 0, 0, 0, 0, 0, 0, 0, 0, 0, 0, 1, 1, 0, 0, 0, 0, 0] y: [0, 0, 0, 0, 0, 0, 1, 0, 0, 0]\n",
      "X: [0, 0, 0, 0, 0, 0, 0, 0, 0, 0, 0, 0, 0, 0, 0, 0, 0, 0, 0, 1, 1, 1, 0, 0, 0, 0, 0, 0, 0, 0, 0, 0, 0, 0, 0, 0, 0, 0, 0, 1, 0, 0, 0, 0, 0, 0, 0, 0, 0, 0, 0, 1, 0, 0, 0, 0, 0, 0] y: [0, 0, 0, 0, 0, 0, 1, 0, 0, 0]\n",
      "X: [0, 1, 0, 0, 0, 0, 1, 0, 0, 0, 0, 0, 0, 0, 1, 0, 1, 1, 0, 1, 0, 0, 0, 0, 0, 0, 0, 0, 0, 1, 0, 0, 0, 1, 0, 1, 0, 0, 0, 0, 0, 0, 0, 0, 0, 1, 0, 0, 0, 0, 0, 1, 0, 0, 0, 0, 0, 0] y: [0, 0, 0, 0, 0, 1, 0, 0, 0, 0]\n",
      "X: [0, 1, 0, 0, 0, 0, 0, 0, 0, 0, 1, 0, 0, 0, 0, 0, 0, 0, 0, 1, 0, 0, 0, 0, 0, 0, 0, 0, 1, 0, 0, 0, 0, 0, 0, 0, 1, 0, 0, 0, 0, 0, 0, 0, 0, 0, 0, 0, 0, 0, 0, 0, 0, 0, 0, 0, 0, 1] y: [0, 0, 0, 0, 0, 1, 0, 0, 0, 0]\n",
      "X: [0, 1, 0, 0, 0, 0, 0, 0, 0, 0, 1, 0, 0, 0, 0, 0, 0, 0, 1, 1, 0, 0, 0, 0, 0, 0, 0, 0, 0, 0, 0, 0, 1, 0, 0, 0, 0, 0, 0, 0, 0, 0, 0, 0, 0, 0, 0, 0, 0, 0, 0, 1, 0, 0, 0, 0, 0, 0] y: [0, 0, 0, 1, 0, 0, 0, 0, 0, 0]\n",
      "X: [0, 1, 0, 0, 0, 0, 0, 0, 0, 1, 0, 0, 0, 0, 0, 0, 0, 0, 0, 1, 0, 0, 0, 0, 0, 0, 0, 0, 0, 0, 0, 0, 1, 0, 0, 0, 0, 0, 0, 0, 0, 0, 0, 0, 0, 0, 0, 0, 0, 0, 0, 1, 0, 0, 0, 0, 0, 0] y: [0, 0, 0, 1, 0, 0, 0, 0, 0, 0]\n",
      "X: [0, 0, 0, 0, 0, 0, 0, 0, 0, 0, 0, 0, 0, 0, 0, 0, 1, 1, 0, 0, 0, 0, 0, 0, 0, 0, 0, 0, 0, 0, 0, 0, 0, 1, 0, 0, 0, 0, 0, 0, 0, 0, 0, 0, 1, 0, 0, 1, 0, 0, 0, 0, 0, 0, 1, 0, 0, 0] y: [0, 0, 0, 0, 1, 0, 0, 0, 0, 0]\n",
      "X: [0, 0, 0, 0, 1, 0, 0, 0, 0, 0, 0, 0, 0, 0, 0, 0, 0, 0, 0, 0, 0, 0, 0, 0, 0, 0, 1, 0, 0, 0, 0, 0, 0, 0, 0, 0, 0, 0, 0, 0, 0, 0, 0, 0, 0, 0, 0, 0, 0, 0, 0, 0, 0, 0, 0, 0, 0, 0] y: [0, 0, 0, 0, 1, 0, 0, 0, 0, 0]\n",
      "X: [0, 0, 0, 0, 0, 0, 0, 0, 0, 0, 0, 0, 0, 0, 0, 0, 0, 0, 0, 0, 0, 0, 0, 0, 0, 0, 0, 0, 0, 0, 0, 0, 0, 0, 0, 0, 0, 0, 0, 0, 0, 0, 0, 0, 0, 0, 0, 1, 0, 0, 0, 0, 0, 0, 0, 1, 0, 0] y: [0, 0, 0, 0, 1, 0, 0, 0, 0, 0]\n",
      "X: [1, 1, 0, 1, 0, 0, 0, 0, 0, 0, 1, 0, 0, 0, 0, 0, 0, 1, 0, 1, 0, 0, 0, 0, 0, 0, 0, 0, 0, 0, 0, 0, 0, 0, 0, 0, 0, 0, 0, 0, 1, 0, 0, 0, 0, 0, 0, 0, 0, 0, 0, 0, 0, 0, 0, 0, 0, 0] y: [0, 0, 0, 0, 0, 0, 0, 1, 0, 0]\n",
      "X: [0, 0, 0, 0, 0, 0, 0, 0, 0, 0, 1, 0, 0, 0, 0, 0, 0, 0, 0, 0, 0, 0, 0, 0, 0, 0, 0, 0, 0, 0, 0, 0, 0, 0, 0, 0, 0, 0, 0, 0, 1, 0, 0, 0, 0, 0, 0, 0, 0, 0, 0, 0, 0, 0, 0, 0, 1, 0] y: [0, 0, 0, 0, 0, 0, 0, 1, 0, 0]\n",
      "X: [0, 0, 1, 1, 0, 0, 0, 0, 0, 0, 0, 0, 0, 0, 0, 0, 0, 0, 0, 0, 0, 0, 0, 0, 0, 0, 0, 0, 0, 0, 0, 1, 0, 1, 0, 0, 0, 0, 0, 0, 0, 1, 0, 0, 0, 0, 1, 0, 0, 1, 1, 0, 0, 0, 0, 0, 0, 1] y: [1, 0, 0, 0, 0, 0, 0, 0, 0, 0]\n",
      "X: [0, 0, 1, 0, 0, 0, 0, 0, 0, 0, 0, 0, 0, 0, 0, 0, 0, 0, 0, 0, 0, 0, 0, 0, 0, 0, 0, 0, 0, 0, 0, 0, 0, 0, 0, 0, 0, 0, 0, 0, 0, 1, 0, 0, 0, 0, 0, 0, 1, 0, 0, 0, 0, 0, 0, 0, 0, 0] y: [1, 0, 0, 0, 0, 0, 0, 0, 0, 0]\n"
     ]
    },
    {
     "name": "stderr",
     "output_type": "stream",
     "text": [
      "C:\\Users\\lucas\\AppData\\Local\\Temp\\ipykernel_8328\\220604768.py:10: UserWarning: Due to multiword token expansion or an alignment issue, the original text has been replaced by space-separated expanded tokens.\n",
      "  tokens = nlp(preprocess_clean_text(doc.lower()))\n",
      "C:\\Users\\lucas\\AppData\\Local\\Temp\\ipykernel_8328\\220604768.py:10: UserWarning: Can't set named entities because of multi-word token expansion or because the character offsets don't map to valid tokens produced by the Stanza tokenizer:\n",
      "Words: ['como', 'funciona', 'la', 'configuracion', 'de', 'el', 'calendario', 'de', 'tus', 'reservas']\n",
      "Entities: []\n",
      "  tokens = nlp(preprocess_clean_text(doc.lower()))\n"
     ]
    },
    {
     "name": "stdout",
     "output_type": "stream",
     "text": [
      "X: [0, 0, 0, 0, 0, 0, 0, 1, 0, 0, 1, 1, 0, 0, 0, 0, 1, 1, 0, 0, 0, 0, 0, 0, 1, 0, 0, 0, 0, 0, 0, 0, 0, 0, 0, 0, 0, 0, 0, 0, 0, 0, 0, 0, 1, 0, 0, 0, 0, 0, 0, 1, 0, 0, 0, 0, 0, 0] y: [0, 0, 0, 0, 0, 0, 0, 0, 0, 1]\n",
      "X: [0, 0, 0, 0, 0, 0, 0, 1, 0, 0, 0, 0, 1, 0, 0, 0, 0, 0, 0, 0, 0, 0, 0, 0, 0, 0, 0, 0, 0, 0, 0, 0, 0, 0, 0, 0, 0, 0, 0, 0, 0, 0, 0, 0, 0, 0, 0, 0, 0, 0, 0, 0, 0, 0, 0, 0, 0, 0] y: [0, 0, 0, 0, 0, 0, 0, 0, 0, 1]\n",
      "X: [0, 0, 0, 0, 0, 0, 0, 1, 0, 0, 0, 0, 0, 0, 0, 0, 1, 0, 0, 0, 0, 0, 0, 0, 0, 0, 0, 0, 0, 0, 0, 0, 0, 0, 0, 0, 0, 0, 0, 0, 0, 0, 0, 0, 1, 0, 0, 0, 0, 0, 0, 0, 0, 0, 0, 0, 0, 0] y: [0, 0, 0, 0, 0, 0, 0, 0, 0, 1]\n",
      "X: [0, 0, 0, 0, 0, 0, 0, 0, 0, 0, 0, 0, 0, 1, 0, 0, 0, 1, 0, 0, 0, 0, 0, 0, 0, 1, 0, 0, 0, 0, 0, 0, 0, 1, 0, 0, 0, 0, 0, 0, 0, 0, 1, 0, 0, 0, 0, 0, 0, 0, 0, 0, 0, 0, 0, 0, 0, 0] y: [0, 0, 0, 0, 0, 0, 0, 0, 1, 0]\n",
      "X: [0, 0, 0, 0, 0, 0, 0, 0, 0, 0, 0, 0, 0, 0, 0, 0, 0, 0, 0, 0, 0, 0, 0, 0, 0, 1, 0, 0, 0, 0, 0, 0, 0, 1, 0, 0, 0, 0, 0, 0, 0, 1, 0, 1, 0, 0, 0, 0, 0, 0, 0, 0, 0, 0, 0, 0, 1, 0] y: [0, 0, 0, 0, 0, 0, 0, 0, 1, 0]\n"
     ]
    }
   ],
   "source": [
    "# Transformar doc_X en bag of words por oneHotEncoding\n",
    "# Transformar doc_Y en un vector de clases multicategórico con oneHotEncoding\n",
    "\n",
    "training = []\n",
    "out_empty = [0] * len(classes)\n",
    "\n",
    "for idx, doc in enumerate(doc_X):\n",
    "    # Transformar la pregunta (input) en tokens y lematizar\n",
    "    text = []\n",
    "    tokens = nlp(preprocess_clean_text(doc.lower()))\n",
    "    for token in tokens:\n",
    "        text.append(token.lemma_)\n",
    "\n",
    "    # Transformar los tokens en \"Bag of words\" (arrays de 1 y 0)\n",
    "    bow = []\n",
    "    for word in words:\n",
    "        bow.append(1) if word in text else bow.append(0)\n",
    "    \n",
    "    # Crear el array de salida (class output) correspondiente\n",
    "    output_row = list(out_empty)\n",
    "    output_row[classes.index(doc_y[idx])] = 1\n",
    "\n",
    "    print(\"X:\", bow, \"y:\", output_row)\n",
    "    training.append([bow, output_row])\n",
    "\n",
    "# Mezclar los datos\n",
    "random.shuffle(training)\n",
    "training = np.array(training, dtype=object)\n",
    "# Dividir en datos de entrada y salida\n",
    "train_X = np.array(list(training[:, 0]))\n",
    "train_y = np.array(list(training[:, 1]))"
   ]
  },
  {
   "cell_type": "markdown",
   "metadata": {
    "id": "a_Hr8QaDfRf3"
   },
   "source": [
    "### 5 - Entrenamiento del modelo"
   ]
  },
  {
   "cell_type": "code",
   "execution_count": 12,
   "metadata": {
    "id": "fopb3NqcAGTz"
   },
   "outputs": [
    {
     "name": "stdout",
     "output_type": "stream",
     "text": [
      "input: (58,) output: 10\n"
     ]
    }
   ],
   "source": [
    "# Shape de entrada y salida\n",
    "input_shape = (train_X.shape[1],)\n",
    "output_shape = train_y.shape[1]\n",
    "print(\"input:\", input_shape, \"output:\", output_shape)"
   ]
  },
  {
   "cell_type": "code",
   "execution_count": 13,
   "metadata": {
    "id": "xy7tzkwdOZx9"
   },
   "outputs": [
    {
     "name": "stdout",
     "output_type": "stream",
     "text": [
      "Model: \"sequential\"\n",
      "_________________________________________________________________\n",
      " Layer (type)                Output Shape              Param #   \n",
      "=================================================================\n",
      " dense (Dense)               (None, 128)               7552      \n",
      "                                                                 \n",
      " dropout (Dropout)           (None, 128)               0         \n",
      "                                                                 \n",
      " dense_1 (Dense)             (None, 64)                8256      \n",
      "                                                                 \n",
      " dropout_1 (Dropout)         (None, 64)                0         \n",
      "                                                                 \n",
      " dense_2 (Dense)             (None, 10)                650       \n",
      "                                                                 \n",
      "=================================================================\n",
      "Total params: 16,458\n",
      "Trainable params: 16,458\n",
      "Non-trainable params: 0\n",
      "_________________________________________________________________\n",
      "None\n"
     ]
    }
   ],
   "source": [
    "# Entrenamiento del modelo DNN\n",
    "# - Modelo secuencial\n",
    "# - Con regularización\n",
    "# - softmax y optimizador Adam\n",
    "model = Sequential()\n",
    "model.add(Dense(128, input_shape=input_shape, activation=\"relu\"))\n",
    "model.add(Dropout(0.5))\n",
    "model.add(Dense(64, activation=\"relu\"))\n",
    "model.add(Dropout(0.5))\n",
    "model.add(Dense(output_shape, activation = \"softmax\"))\n",
    "\n",
    "model.compile(loss='categorical_crossentropy',\n",
    "              optimizer=\"Adam\",\n",
    "              metrics=[\"accuracy\"])\n",
    "print(model.summary())"
   ]
  },
  {
   "cell_type": "code",
   "execution_count": 14,
   "metadata": {
    "id": "r6hi4EcdOghm"
   },
   "outputs": [
    {
     "name": "stdout",
     "output_type": "stream",
     "text": [
      "Epoch 1/200\n",
      "1/1 [==============================] - 1s 678ms/step - loss: 2.2804 - accuracy: 0.0952\n",
      "Epoch 2/200\n",
      "1/1 [==============================] - 0s 9ms/step - loss: 2.1901 - accuracy: 0.1905\n",
      "Epoch 3/200\n",
      "1/1 [==============================] - 0s 11ms/step - loss: 2.3437 - accuracy: 0.0952\n",
      "Epoch 4/200\n",
      "1/1 [==============================] - 0s 8ms/step - loss: 2.2913 - accuracy: 0.0952\n",
      "Epoch 5/200\n",
      "1/1 [==============================] - 0s 9ms/step - loss: 2.3153 - accuracy: 0.1429\n",
      "Epoch 6/200\n",
      "1/1 [==============================] - 0s 6ms/step - loss: 2.3057 - accuracy: 0.0952\n",
      "Epoch 7/200\n",
      "1/1 [==============================] - 0s 8ms/step - loss: 2.2098 - accuracy: 0.2381\n",
      "Epoch 8/200\n",
      "1/1 [==============================] - 0s 8ms/step - loss: 2.2377 - accuracy: 0.1429\n",
      "Epoch 9/200\n",
      "1/1 [==============================] - 0s 12ms/step - loss: 2.2378 - accuracy: 0.1905\n",
      "Epoch 10/200\n",
      "1/1 [==============================] - 0s 10ms/step - loss: 2.2024 - accuracy: 0.1429\n",
      "Epoch 11/200\n",
      "1/1 [==============================] - 0s 12ms/step - loss: 2.3272 - accuracy: 0.1905\n",
      "Epoch 12/200\n",
      "1/1 [==============================] - 0s 10ms/step - loss: 2.2840 - accuracy: 0.1905\n",
      "Epoch 13/200\n",
      "1/1 [==============================] - 0s 11ms/step - loss: 2.1949 - accuracy: 0.2381\n",
      "Epoch 14/200\n",
      "1/1 [==============================] - 0s 10ms/step - loss: 2.2716 - accuracy: 0.1905\n",
      "Epoch 15/200\n",
      "1/1 [==============================] - 0s 11ms/step - loss: 2.0358 - accuracy: 0.4286\n",
      "Epoch 16/200\n",
      "1/1 [==============================] - 0s 7ms/step - loss: 2.0911 - accuracy: 0.3333\n",
      "Epoch 17/200\n",
      "1/1 [==============================] - 0s 7ms/step - loss: 1.9301 - accuracy: 0.3810\n",
      "Epoch 18/200\n",
      "1/1 [==============================] - 0s 10ms/step - loss: 2.0299 - accuracy: 0.3333\n",
      "Epoch 19/200\n",
      "1/1 [==============================] - 0s 9ms/step - loss: 2.1217 - accuracy: 0.1905\n",
      "Epoch 20/200\n",
      "1/1 [==============================] - 0s 8ms/step - loss: 2.0213 - accuracy: 0.3333\n",
      "Epoch 21/200\n",
      "1/1 [==============================] - 0s 9ms/step - loss: 2.0159 - accuracy: 0.2857\n",
      "Epoch 22/200\n",
      "1/1 [==============================] - 0s 7ms/step - loss: 1.9835 - accuracy: 0.3810\n",
      "Epoch 23/200\n",
      "1/1 [==============================] - 0s 5ms/step - loss: 2.0717 - accuracy: 0.2857\n",
      "Epoch 24/200\n",
      "1/1 [==============================] - 0s 11ms/step - loss: 1.8651 - accuracy: 0.5238\n",
      "Epoch 25/200\n",
      "1/1 [==============================] - 0s 12ms/step - loss: 2.0234 - accuracy: 0.3810\n",
      "Epoch 26/200\n",
      "1/1 [==============================] - 0s 10ms/step - loss: 1.9848 - accuracy: 0.3810\n",
      "Epoch 27/200\n",
      "1/1 [==============================] - 0s 10ms/step - loss: 1.9846 - accuracy: 0.3333\n",
      "Epoch 28/200\n",
      "1/1 [==============================] - 0s 9ms/step - loss: 1.8312 - accuracy: 0.5238\n",
      "Epoch 29/200\n",
      "1/1 [==============================] - 0s 6ms/step - loss: 2.0912 - accuracy: 0.2857\n",
      "Epoch 30/200\n",
      "1/1 [==============================] - 0s 8ms/step - loss: 1.7909 - accuracy: 0.5238\n",
      "Epoch 31/200\n",
      "1/1 [==============================] - 0s 8ms/step - loss: 1.8012 - accuracy: 0.6667\n",
      "Epoch 32/200\n",
      "1/1 [==============================] - 0s 7ms/step - loss: 1.8147 - accuracy: 0.3333\n",
      "Epoch 33/200\n",
      "1/1 [==============================] - 0s 8ms/step - loss: 1.7849 - accuracy: 0.5238\n",
      "Epoch 34/200\n",
      "1/1 [==============================] - 0s 9ms/step - loss: 1.6703 - accuracy: 0.6667\n",
      "Epoch 35/200\n",
      "1/1 [==============================] - 0s 13ms/step - loss: 1.8453 - accuracy: 0.5238\n",
      "Epoch 36/200\n",
      "1/1 [==============================] - 0s 6ms/step - loss: 1.8120 - accuracy: 0.5238\n",
      "Epoch 37/200\n",
      "1/1 [==============================] - 0s 10ms/step - loss: 1.8393 - accuracy: 0.4762\n",
      "Epoch 38/200\n",
      "1/1 [==============================] - 0s 6ms/step - loss: 1.7400 - accuracy: 0.6190\n",
      "Epoch 39/200\n",
      "1/1 [==============================] - 0s 8ms/step - loss: 1.7406 - accuracy: 0.5714\n",
      "Epoch 40/200\n",
      "1/1 [==============================] - 0s 8ms/step - loss: 1.5967 - accuracy: 0.7143\n",
      "Epoch 41/200\n",
      "1/1 [==============================] - 0s 11ms/step - loss: 1.7105 - accuracy: 0.6667\n",
      "Epoch 42/200\n",
      "1/1 [==============================] - 0s 7ms/step - loss: 1.6986 - accuracy: 0.5714\n",
      "Epoch 43/200\n",
      "1/1 [==============================] - 0s 8ms/step - loss: 1.6931 - accuracy: 0.5714\n",
      "Epoch 44/200\n",
      "1/1 [==============================] - 0s 8ms/step - loss: 1.7063 - accuracy: 0.5238\n",
      "Epoch 45/200\n",
      "1/1 [==============================] - 0s 16ms/step - loss: 1.6794 - accuracy: 0.5714\n",
      "Epoch 46/200\n",
      "1/1 [==============================] - 0s 9ms/step - loss: 1.5727 - accuracy: 0.6667\n",
      "Epoch 47/200\n",
      "1/1 [==============================] - 0s 9ms/step - loss: 1.5963 - accuracy: 0.7619\n",
      "Epoch 48/200\n",
      "1/1 [==============================] - 0s 9ms/step - loss: 1.7606 - accuracy: 0.6190\n",
      "Epoch 49/200\n",
      "1/1 [==============================] - 0s 8ms/step - loss: 1.5300 - accuracy: 0.7143\n",
      "Epoch 50/200\n",
      "1/1 [==============================] - 0s 10ms/step - loss: 1.4949 - accuracy: 0.6667\n",
      "Epoch 51/200\n",
      "1/1 [==============================] - 0s 8ms/step - loss: 1.2607 - accuracy: 0.9048\n",
      "Epoch 52/200\n",
      "1/1 [==============================] - 0s 11ms/step - loss: 1.3560 - accuracy: 0.7143\n",
      "Epoch 53/200\n",
      "1/1 [==============================] - 0s 7ms/step - loss: 1.3749 - accuracy: 0.7143\n",
      "Epoch 54/200\n",
      "1/1 [==============================] - 0s 10ms/step - loss: 1.3012 - accuracy: 0.8095\n",
      "Epoch 55/200\n",
      "1/1 [==============================] - 0s 8ms/step - loss: 1.2592 - accuracy: 0.7619\n",
      "Epoch 56/200\n",
      "1/1 [==============================] - 0s 7ms/step - loss: 1.3038 - accuracy: 0.7143\n",
      "Epoch 57/200\n",
      "1/1 [==============================] - 0s 10ms/step - loss: 1.3154 - accuracy: 0.8571\n",
      "Epoch 58/200\n",
      "1/1 [==============================] - 0s 6ms/step - loss: 1.2571 - accuracy: 0.7619\n",
      "Epoch 59/200\n",
      "1/1 [==============================] - 0s 6ms/step - loss: 1.3351 - accuracy: 0.7619\n",
      "Epoch 60/200\n",
      "1/1 [==============================] - 0s 10ms/step - loss: 1.2726 - accuracy: 0.7619\n",
      "Epoch 61/200\n",
      "1/1 [==============================] - 0s 7ms/step - loss: 1.3506 - accuracy: 0.8095\n",
      "Epoch 62/200\n",
      "1/1 [==============================] - 0s 7ms/step - loss: 1.1508 - accuracy: 0.7619\n",
      "Epoch 63/200\n",
      "1/1 [==============================] - 0s 8ms/step - loss: 1.1260 - accuracy: 0.8095\n",
      "Epoch 64/200\n",
      "1/1 [==============================] - 0s 6ms/step - loss: 1.1947 - accuracy: 0.8095\n",
      "Epoch 65/200\n",
      "1/1 [==============================] - 0s 5ms/step - loss: 1.2160 - accuracy: 0.8095\n",
      "Epoch 66/200\n",
      "1/1 [==============================] - 0s 8ms/step - loss: 1.0186 - accuracy: 0.9048\n",
      "Epoch 67/200\n",
      "1/1 [==============================] - 0s 6ms/step - loss: 1.1108 - accuracy: 0.8571\n",
      "Epoch 68/200\n",
      "1/1 [==============================] - 0s 6ms/step - loss: 1.1198 - accuracy: 1.0000\n",
      "Epoch 69/200\n",
      "1/1 [==============================] - 0s 7ms/step - loss: 1.1705 - accuracy: 0.6667\n",
      "Epoch 70/200\n",
      "1/1 [==============================] - 0s 7ms/step - loss: 0.9714 - accuracy: 0.8571\n",
      "Epoch 71/200\n",
      "1/1 [==============================] - 0s 6ms/step - loss: 1.0407 - accuracy: 0.8571\n",
      "Epoch 72/200\n",
      "1/1 [==============================] - 0s 7ms/step - loss: 0.9677 - accuracy: 1.0000\n",
      "Epoch 73/200\n",
      "1/1 [==============================] - 0s 7ms/step - loss: 1.1147 - accuracy: 0.8571\n",
      "Epoch 74/200\n",
      "1/1 [==============================] - 0s 6ms/step - loss: 1.0479 - accuracy: 0.8571\n",
      "Epoch 75/200\n",
      "1/1 [==============================] - 0s 7ms/step - loss: 0.8948 - accuracy: 0.8571\n",
      "Epoch 76/200\n",
      "1/1 [==============================] - 0s 6ms/step - loss: 0.9896 - accuracy: 0.7619\n",
      "Epoch 77/200\n",
      "1/1 [==============================] - 0s 7ms/step - loss: 0.9439 - accuracy: 0.9048\n",
      "Epoch 78/200\n",
      "1/1 [==============================] - 0s 6ms/step - loss: 0.7981 - accuracy: 0.9524\n",
      "Epoch 79/200\n",
      "1/1 [==============================] - 0s 7ms/step - loss: 0.8574 - accuracy: 0.9048\n",
      "Epoch 80/200\n",
      "1/1 [==============================] - 0s 7ms/step - loss: 0.8059 - accuracy: 0.8571\n",
      "Epoch 81/200\n",
      "1/1 [==============================] - 0s 5ms/step - loss: 0.9649 - accuracy: 0.8095\n",
      "Epoch 82/200\n",
      "1/1 [==============================] - 0s 6ms/step - loss: 0.9278 - accuracy: 0.8095\n",
      "Epoch 83/200\n",
      "1/1 [==============================] - 0s 8ms/step - loss: 0.8388 - accuracy: 0.8095\n",
      "Epoch 84/200\n",
      "1/1 [==============================] - 0s 6ms/step - loss: 0.7027 - accuracy: 0.9524\n",
      "Epoch 85/200\n",
      "1/1 [==============================] - 0s 6ms/step - loss: 0.8505 - accuracy: 0.9524\n",
      "Epoch 86/200\n",
      "1/1 [==============================] - 0s 7ms/step - loss: 0.7686 - accuracy: 0.9048\n",
      "Epoch 87/200\n",
      "1/1 [==============================] - 0s 6ms/step - loss: 0.6372 - accuracy: 0.9048\n",
      "Epoch 88/200\n",
      "1/1 [==============================] - 0s 7ms/step - loss: 0.8326 - accuracy: 0.8571\n",
      "Epoch 89/200\n",
      "1/1 [==============================] - 0s 5ms/step - loss: 0.7753 - accuracy: 0.8571\n",
      "Epoch 90/200\n",
      "1/1 [==============================] - 0s 7ms/step - loss: 0.5600 - accuracy: 0.9048\n",
      "Epoch 91/200\n",
      "1/1 [==============================] - 0s 7ms/step - loss: 0.8369 - accuracy: 0.8571\n",
      "Epoch 92/200\n",
      "1/1 [==============================] - 0s 5ms/step - loss: 0.6637 - accuracy: 0.9524\n",
      "Epoch 93/200\n",
      "1/1 [==============================] - 0s 7ms/step - loss: 0.6710 - accuracy: 0.9524\n",
      "Epoch 94/200\n",
      "1/1 [==============================] - 0s 7ms/step - loss: 0.7316 - accuracy: 0.9048\n",
      "Epoch 95/200\n",
      "1/1 [==============================] - 0s 6ms/step - loss: 0.5561 - accuracy: 0.9048\n",
      "Epoch 96/200\n",
      "1/1 [==============================] - 0s 8ms/step - loss: 0.7968 - accuracy: 0.9048\n",
      "Epoch 97/200\n",
      "1/1 [==============================] - 0s 7ms/step - loss: 0.6890 - accuracy: 1.0000\n",
      "Epoch 98/200\n",
      "1/1 [==============================] - 0s 6ms/step - loss: 0.6625 - accuracy: 0.8571\n",
      "Epoch 99/200\n",
      "1/1 [==============================] - 0s 7ms/step - loss: 0.5440 - accuracy: 0.9048\n",
      "Epoch 100/200\n",
      "1/1 [==============================] - 0s 7ms/step - loss: 0.5833 - accuracy: 0.9048\n",
      "Epoch 101/200\n",
      "1/1 [==============================] - 0s 5ms/step - loss: 0.4238 - accuracy: 0.9524\n",
      "Epoch 102/200\n",
      "1/1 [==============================] - 0s 7ms/step - loss: 0.5819 - accuracy: 0.9524\n",
      "Epoch 103/200\n",
      "1/1 [==============================] - 0s 7ms/step - loss: 0.6263 - accuracy: 0.9048\n",
      "Epoch 104/200\n",
      "1/1 [==============================] - 0s 7ms/step - loss: 0.4272 - accuracy: 0.9048\n",
      "Epoch 105/200\n",
      "1/1 [==============================] - 0s 7ms/step - loss: 0.5499 - accuracy: 0.8571\n",
      "Epoch 106/200\n",
      "1/1 [==============================] - 0s 9ms/step - loss: 0.5060 - accuracy: 0.9524\n",
      "Epoch 107/200\n",
      "1/1 [==============================] - 0s 7ms/step - loss: 0.3563 - accuracy: 1.0000\n",
      "Epoch 108/200\n",
      "1/1 [==============================] - 0s 8ms/step - loss: 0.4150 - accuracy: 0.9524\n",
      "Epoch 109/200\n",
      "1/1 [==============================] - 0s 8ms/step - loss: 0.4922 - accuracy: 0.9048\n",
      "Epoch 110/200\n",
      "1/1 [==============================] - 0s 10ms/step - loss: 0.4741 - accuracy: 0.9524\n",
      "Epoch 111/200\n",
      "1/1 [==============================] - 0s 12ms/step - loss: 0.3263 - accuracy: 1.0000\n",
      "Epoch 112/200\n",
      "1/1 [==============================] - 0s 9ms/step - loss: 0.3659 - accuracy: 0.9524\n",
      "Epoch 113/200\n",
      "1/1 [==============================] - 0s 8ms/step - loss: 0.4015 - accuracy: 1.0000\n",
      "Epoch 114/200\n",
      "1/1 [==============================] - 0s 7ms/step - loss: 0.3163 - accuracy: 1.0000\n",
      "Epoch 115/200\n",
      "1/1 [==============================] - 0s 6ms/step - loss: 0.3635 - accuracy: 1.0000\n",
      "Epoch 116/200\n",
      "1/1 [==============================] - 0s 7ms/step - loss: 0.4960 - accuracy: 0.9048\n",
      "Epoch 117/200\n",
      "1/1 [==============================] - 0s 7ms/step - loss: 0.3500 - accuracy: 0.9524\n",
      "Epoch 118/200\n",
      "1/1 [==============================] - 0s 6ms/step - loss: 0.5030 - accuracy: 1.0000\n",
      "Epoch 119/200\n",
      "1/1 [==============================] - 0s 7ms/step - loss: 0.3301 - accuracy: 1.0000\n",
      "Epoch 120/200\n",
      "1/1 [==============================] - 0s 6ms/step - loss: 0.4587 - accuracy: 0.9048\n",
      "Epoch 121/200\n",
      "1/1 [==============================] - 0s 9ms/step - loss: 0.3175 - accuracy: 1.0000\n",
      "Epoch 122/200\n",
      "1/1 [==============================] - 0s 7ms/step - loss: 0.3656 - accuracy: 0.9048\n",
      "Epoch 123/200\n",
      "1/1 [==============================] - 0s 7ms/step - loss: 0.3927 - accuracy: 1.0000\n",
      "Epoch 124/200\n",
      "1/1 [==============================] - 0s 8ms/step - loss: 0.4155 - accuracy: 1.0000\n",
      "Epoch 125/200\n",
      "1/1 [==============================] - 0s 7ms/step - loss: 0.3284 - accuracy: 0.9048\n",
      "Epoch 126/200\n",
      "1/1 [==============================] - 0s 7ms/step - loss: 0.3130 - accuracy: 0.9524\n",
      "Epoch 127/200\n",
      "1/1 [==============================] - 0s 7ms/step - loss: 0.4348 - accuracy: 1.0000\n",
      "Epoch 128/200\n",
      "1/1 [==============================] - 0s 6ms/step - loss: 0.2611 - accuracy: 1.0000\n",
      "Epoch 129/200\n",
      "1/1 [==============================] - 0s 7ms/step - loss: 0.3522 - accuracy: 0.9524\n",
      "Epoch 130/200\n",
      "1/1 [==============================] - 0s 6ms/step - loss: 0.3795 - accuracy: 1.0000\n",
      "Epoch 131/200\n",
      "1/1 [==============================] - 0s 7ms/step - loss: 0.2345 - accuracy: 1.0000\n",
      "Epoch 132/200\n",
      "1/1 [==============================] - 0s 8ms/step - loss: 0.3707 - accuracy: 0.9524\n",
      "Epoch 133/200\n",
      "1/1 [==============================] - 0s 7ms/step - loss: 0.2325 - accuracy: 0.9048\n",
      "Epoch 134/200\n",
      "1/1 [==============================] - 0s 7ms/step - loss: 0.4271 - accuracy: 0.8571\n",
      "Epoch 135/200\n",
      "1/1 [==============================] - 0s 5ms/step - loss: 0.3168 - accuracy: 0.9048\n",
      "Epoch 136/200\n",
      "1/1 [==============================] - 0s 7ms/step - loss: 0.2755 - accuracy: 0.9524\n",
      "Epoch 137/200\n",
      "1/1 [==============================] - 0s 7ms/step - loss: 0.2546 - accuracy: 1.0000\n",
      "Epoch 138/200\n",
      "1/1 [==============================] - 0s 6ms/step - loss: 0.3767 - accuracy: 0.9524\n",
      "Epoch 139/200\n",
      "1/1 [==============================] - 0s 7ms/step - loss: 0.2603 - accuracy: 0.9524\n",
      "Epoch 140/200\n",
      "1/1 [==============================] - 0s 6ms/step - loss: 0.3144 - accuracy: 0.9524\n",
      "Epoch 141/200\n",
      "1/1 [==============================] - 0s 5ms/step - loss: 0.2312 - accuracy: 0.9524\n",
      "Epoch 142/200\n",
      "1/1 [==============================] - 0s 7ms/step - loss: 0.2736 - accuracy: 0.9048\n",
      "Epoch 143/200\n",
      "1/1 [==============================] - 0s 8ms/step - loss: 0.1765 - accuracy: 1.0000\n",
      "Epoch 144/200\n",
      "1/1 [==============================] - 0s 6ms/step - loss: 0.3276 - accuracy: 1.0000\n",
      "Epoch 145/200\n",
      "1/1 [==============================] - 0s 7ms/step - loss: 0.2032 - accuracy: 1.0000\n",
      "Epoch 146/200\n",
      "1/1 [==============================] - 0s 6ms/step - loss: 0.3836 - accuracy: 0.8571\n",
      "Epoch 147/200\n",
      "1/1 [==============================] - 0s 8ms/step - loss: 0.3861 - accuracy: 0.8571\n",
      "Epoch 148/200\n",
      "1/1 [==============================] - 0s 6ms/step - loss: 0.1093 - accuracy: 1.0000\n",
      "Epoch 149/200\n",
      "1/1 [==============================] - 0s 6ms/step - loss: 0.2144 - accuracy: 1.0000\n",
      "Epoch 150/200\n",
      "1/1 [==============================] - 0s 7ms/step - loss: 0.3334 - accuracy: 0.8571\n",
      "Epoch 151/200\n",
      "1/1 [==============================] - 0s 8ms/step - loss: 0.3018 - accuracy: 1.0000\n",
      "Epoch 152/200\n",
      "1/1 [==============================] - 0s 7ms/step - loss: 0.3637 - accuracy: 0.9048\n",
      "Epoch 153/200\n",
      "1/1 [==============================] - 0s 8ms/step - loss: 0.1096 - accuracy: 1.0000\n",
      "Epoch 154/200\n",
      "1/1 [==============================] - 0s 6ms/step - loss: 0.3587 - accuracy: 0.9524\n",
      "Epoch 155/200\n",
      "1/1 [==============================] - 0s 8ms/step - loss: 0.0971 - accuracy: 1.0000\n",
      "Epoch 156/200\n",
      "1/1 [==============================] - 0s 7ms/step - loss: 0.2122 - accuracy: 1.0000\n",
      "Epoch 157/200\n",
      "1/1 [==============================] - 0s 6ms/step - loss: 0.2529 - accuracy: 1.0000\n",
      "Epoch 158/200\n",
      "1/1 [==============================] - 0s 6ms/step - loss: 0.2978 - accuracy: 1.0000\n",
      "Epoch 159/200\n",
      "1/1 [==============================] - 0s 21ms/step - loss: 0.1929 - accuracy: 1.0000\n",
      "Epoch 160/200\n",
      "1/1 [==============================] - 0s 7ms/step - loss: 0.4020 - accuracy: 0.9524\n",
      "Epoch 161/200\n",
      "1/1 [==============================] - 0s 6ms/step - loss: 0.3163 - accuracy: 1.0000\n",
      "Epoch 162/200\n",
      "1/1 [==============================] - 0s 7ms/step - loss: 0.2021 - accuracy: 0.9524\n",
      "Epoch 163/200\n",
      "1/1 [==============================] - 0s 8ms/step - loss: 0.1855 - accuracy: 1.0000\n",
      "Epoch 164/200\n",
      "1/1 [==============================] - 0s 5ms/step - loss: 0.2103 - accuracy: 1.0000\n",
      "Epoch 165/200\n",
      "1/1 [==============================] - 0s 8ms/step - loss: 0.1654 - accuracy: 0.9524\n",
      "Epoch 166/200\n",
      "1/1 [==============================] - 0s 8ms/step - loss: 0.1515 - accuracy: 1.0000\n",
      "Epoch 167/200\n"
     ]
    },
    {
     "name": "stdout",
     "output_type": "stream",
     "text": [
      "1/1 [==============================] - 0s 7ms/step - loss: 0.1752 - accuracy: 0.9524\n",
      "Epoch 168/200\n",
      "1/1 [==============================] - 0s 8ms/step - loss: 0.1977 - accuracy: 0.9524\n",
      "Epoch 169/200\n",
      "1/1 [==============================] - 0s 8ms/step - loss: 0.1313 - accuracy: 1.0000\n",
      "Epoch 170/200\n",
      "1/1 [==============================] - 0s 7ms/step - loss: 0.1993 - accuracy: 1.0000\n",
      "Epoch 171/200\n",
      "1/1 [==============================] - 0s 6ms/step - loss: 0.1749 - accuracy: 1.0000\n",
      "Epoch 172/200\n",
      "1/1 [==============================] - 0s 7ms/step - loss: 0.2278 - accuracy: 0.9524\n",
      "Epoch 173/200\n",
      "1/1 [==============================] - 0s 7ms/step - loss: 0.1438 - accuracy: 1.0000\n",
      "Epoch 174/200\n",
      "1/1 [==============================] - 0s 6ms/step - loss: 0.1616 - accuracy: 1.0000\n",
      "Epoch 175/200\n",
      "1/1 [==============================] - 0s 6ms/step - loss: 0.0952 - accuracy: 1.0000\n",
      "Epoch 176/200\n",
      "1/1 [==============================] - 0s 6ms/step - loss: 0.2347 - accuracy: 0.9048\n",
      "Epoch 177/200\n",
      "1/1 [==============================] - 0s 5ms/step - loss: 0.0921 - accuracy: 1.0000\n",
      "Epoch 178/200\n",
      "1/1 [==============================] - 0s 6ms/step - loss: 0.1234 - accuracy: 1.0000\n",
      "Epoch 179/200\n",
      "1/1 [==============================] - 0s 7ms/step - loss: 0.2475 - accuracy: 0.9524\n",
      "Epoch 180/200\n",
      "1/1 [==============================] - 0s 5ms/step - loss: 0.0655 - accuracy: 1.0000\n",
      "Epoch 181/200\n",
      "1/1 [==============================] - 0s 6ms/step - loss: 0.2039 - accuracy: 0.9524\n",
      "Epoch 182/200\n",
      "1/1 [==============================] - 0s 6ms/step - loss: 0.0972 - accuracy: 1.0000\n",
      "Epoch 183/200\n",
      "1/1 [==============================] - 0s 7ms/step - loss: 0.2839 - accuracy: 0.9048\n",
      "Epoch 184/200\n",
      "1/1 [==============================] - 0s 9ms/step - loss: 0.2332 - accuracy: 1.0000\n",
      "Epoch 185/200\n",
      "1/1 [==============================] - 0s 6ms/step - loss: 0.1648 - accuracy: 1.0000\n",
      "Epoch 186/200\n",
      "1/1 [==============================] - 0s 8ms/step - loss: 0.1830 - accuracy: 0.9524\n",
      "Epoch 187/200\n",
      "1/1 [==============================] - 0s 7ms/step - loss: 0.1392 - accuracy: 1.0000\n",
      "Epoch 188/200\n",
      "1/1 [==============================] - 0s 6ms/step - loss: 0.1422 - accuracy: 1.0000\n",
      "Epoch 189/200\n",
      "1/1 [==============================] - 0s 8ms/step - loss: 0.1082 - accuracy: 1.0000\n",
      "Epoch 190/200\n",
      "1/1 [==============================] - 0s 7ms/step - loss: 0.1381 - accuracy: 1.0000\n",
      "Epoch 191/200\n",
      "1/1 [==============================] - 0s 8ms/step - loss: 0.0948 - accuracy: 1.0000\n",
      "Epoch 192/200\n",
      "1/1 [==============================] - 0s 6ms/step - loss: 0.1107 - accuracy: 0.9524\n",
      "Epoch 193/200\n",
      "1/1 [==============================] - 0s 7ms/step - loss: 0.1105 - accuracy: 1.0000\n",
      "Epoch 194/200\n",
      "1/1 [==============================] - 0s 7ms/step - loss: 0.0917 - accuracy: 0.9524\n",
      "Epoch 195/200\n",
      "1/1 [==============================] - 0s 5ms/step - loss: 0.0445 - accuracy: 1.0000\n",
      "Epoch 196/200\n",
      "1/1 [==============================] - 0s 7ms/step - loss: 0.1423 - accuracy: 1.0000\n",
      "Epoch 197/200\n",
      "1/1 [==============================] - 0s 7ms/step - loss: 0.0616 - accuracy: 1.0000\n",
      "Epoch 198/200\n",
      "1/1 [==============================] - 0s 6ms/step - loss: 0.0545 - accuracy: 1.0000\n",
      "Epoch 199/200\n",
      "1/1 [==============================] - 0s 7ms/step - loss: 0.1514 - accuracy: 0.9524\n",
      "Epoch 200/200\n",
      "1/1 [==============================] - 0s 6ms/step - loss: 0.1617 - accuracy: 1.0000\n"
     ]
    }
   ],
   "source": [
    "hist = model.fit(x=train_X, y=train_y, epochs=200)"
   ]
  },
  {
   "cell_type": "code",
   "execution_count": 15,
   "metadata": {
    "id": "Pb1GZDjGRP6Q"
   },
   "outputs": [
    {
     "data": {
      "image/png": "[encoded data removed]",
      "text/plain": [
       "<Figure size 640x480 with 1 Axes>"
      ]
     },
     "metadata": {},
     "output_type": "display_data"
    }
   ],
   "source": [
    "import matplotlib.pyplot as plt\n",
    "import seaborn as sns\n",
    "\n",
    "# Entrenamiento\n",
    "epoch_count = range(1, len(hist.history['accuracy']) + 1)\n",
    "sns.lineplot(x=epoch_count,  y=hist.history['accuracy'], label='train')\n",
    "plt.show()"
   ]
  },
  {
   "cell_type": "code",
   "execution_count": 16,
   "metadata": {
    "id": "eTVDnrV0mDRf"
   },
   "outputs": [],
   "source": [
    "# Guardar lo necesario para poder re-utilizar este modelo en el futuro\n",
    "# el vocabulario utilizado (words)\n",
    "# las posibles clases\n",
    "# el modelo\n",
    "import pickle\n",
    "pickle.dump(words, open('words.pkl','wb'))\n",
    "pickle.dump(classes, open('classes.pkl','wb'))\n",
    "model.save('chatbot_model.h5')"
   ]
  },
  {
   "cell_type": "markdown",
   "metadata": {
    "id": "TnD1WvhBfVYR"
   },
   "source": [
    "### 6 - Testing y validación"
   ]
  },
  {
   "cell_type": "code",
   "execution_count": 17,
   "metadata": {
    "id": "kqBdSGt8Orkm"
   },
   "outputs": [],
   "source": [
    "# convertir texto de entrada del usuario a tokens\n",
    "def text_to_tokens(text):\n",
    "    lemma_tokens = []\n",
    "    tokens = nlp(preprocess_clean_text(text.lower()))\n",
    "    for token in tokens:\n",
    "        lemma_tokens.append(token.lemma_)\n",
    "    #print(lemma_tokens)\n",
    "    return lemma_tokens\n",
    "\n",
    "# transformar el texto de entrada tokenizado a una representación OHE\n",
    "def bag_of_words(text, vocab): \n",
    "    tokens = text_to_tokens(text)\n",
    "    bow = [0] * len(vocab)\n",
    "    for w in tokens: \n",
    "        for idx, word in enumerate(vocab):\n",
    "            if word == w: \n",
    "                bow[idx] = 1\n",
    "    #print(bow)\n",
    "    return np.array(bow)\n",
    "\n",
    "# usar modelo con la entrada en OHE y los labels posibles (tags)\n",
    "def pred_class(text, vocab, labels): \n",
    "    bow = bag_of_words(text, vocab)\n",
    "    words_recognized = sum(bow)\n",
    "\n",
    "    return_list = []\n",
    "    if words_recognized > 0: # sólo si reconoció alguna palabra del vocabulario\n",
    "        result = model.predict(np.array([bow]))[0] # es un array de softmax\n",
    "        thresh = 0.2\n",
    "        # filtrar aquellas entradas menores al umbral `thresh`\n",
    "        y_pred = [[idx, res] for idx, res in enumerate(result) if res > thresh]\n",
    "        # ordenar keys de acuerdo al valor softmax\n",
    "        y_pred.sort(key=lambda x: x[1], reverse=True)\n",
    "    \n",
    "        # return_list es una lista de los labels de mayor a menor\n",
    "        for r in y_pred:\n",
    "            return_list.append(labels[r[0]])\n",
    "            #print(labels[r[0]], r[1])\n",
    "\n",
    "    # si no reconoció palabras del vocabulario se devuelve una lista vacía\n",
    "    return return_list\n",
    "\n",
    "# obtener una respuesta predeterminada \n",
    "def get_response(intents_list, intents_json):\n",
    "    tag = intents_list[0] # tomar el tag con el mejor valor softmax\n",
    "    list_of_intents = intents_json[\"intents\"] # intents_json es todo el dataset\n",
    "    for i in list_of_intents: \n",
    "        if i[\"tag\"] == tag: # buscar el tag correspoindiente y dar una respuesta predeterminada aleatoria \n",
    "            result = \"BOT: \" + random.choice(i[\"responses\"])\n",
    "            break\n",
    "    return result"
   ]
  },
  {
   "cell_type": "code",
   "execution_count": null,
   "metadata": {
    "id": "Xp1vXQwdOvl7"
   },
   "outputs": [
    {
     "name": "stdout",
     "output_type": "stream",
     "text": [
      "aircover\n",
      "1/1 [==============================] - 0s 125ms/step\n",
      "BOT: AirCover para anfitriones incluye una Protección ante daños para anfitriones de 1 millón de dólares y un Seguro de responsabilidad civil para anfitriones de 1 millón de dólares\n",
      "airtag\n",
      "Perdón, no comprendo la pregunta.\n",
      "calendario\n",
      "1/1 [==============================] - 0s 31ms/step\n",
      "BOT: Mantené la configuración de tu calendario actualizada para conseguir reservas cuando vos quieras.\n",
      "¿Cómo configurar el calendario?\n",
      "1/1 [==============================] - 0s 31ms/step\n",
      "BOT: Mantené la configuración de tu calendario actualizada para conseguir reservas cuando vos quieras.\n",
      "recomendaciones\n",
      "1/1 [==============================] - 0s 47ms/step\n",
      "BOT: Hablá con un anfitrión experimentado.\n",
      "Necesito recomendaciones\n",
      "1/1 [==============================] - 0s 33ms/step\n",
      "BOT: Sincronizá tus calendarios para evitar cancelaciones y sanciones.\n",
      "evitar fiestas en mi domicilio\n",
      "1/1 [==============================] - 0s 31ms/step\n",
      "BOT: Definir expectativas y establecer una comunicación clara pueden ayudar a evitar problemas\n",
      "evitar incendios forestales\n",
      "1/1 [==============================] - 0s 31ms/step\n",
      "BOT: La política sobre fiestas y eventos de Airbnb te permite cancelar sin sanciones si brindás pruebas que demuestren que un huésped tiene intenciones de hacer una fiesta.\n",
      "Incendios\n",
      "1/1 [==============================] - 0s 31ms/step\n",
      "BOT: El seguro de viaje paga a los viajeros hasta el 100 % de los costos de la reserva en Airbnb si cancelan por motivos cubiertos\n",
      "Bomberos\n",
      "Perdón, no comprendo la pregunta.\n",
      "Evitar incendios forestales\n",
      "1/1 [==============================] - 0s 16ms/step\n",
      "BOT: La política sobre fiestas y eventos de Airbnb te permite cancelar sin sanciones si brindás pruebas que demuestren que un huésped tiene intenciones de hacer una fiesta.\n",
      "forestales\n",
      "1/1 [==============================] - 0s 31ms/step\n",
      "BOT: Comunicate con tus huéspedes de manera clara para prepararlos en caso de un incendio forestal.\n",
      "Cómo protegen a los huéspedes?\n",
      "1/1 [==============================] - 0s 16ms/step\n",
      "BOT: Airbnb toma las precauciones necesarias para proteger a los anfitriones y los huéspedes.\n"
     ]
    }
   ],
   "source": [
    "while True:\n",
    "    # pedir input al usuario\n",
    "    message = input(\"\")\n",
    "    # \n",
    "    intents = pred_class(message, words, classes)\n",
    "    if len(intents) > 0:\n",
    "        result = get_response(intents, dataset)\n",
    "        print(result)\n",
    "    else: # si no hubo ningún resultado que supere el umbral\n",
    "        print(\"Perdón, no comprendo la pregunta.\")"
   ]
  },
  {
   "cell_type": "markdown",
   "metadata": {
    "id": "ayatkwp4fYQx"
   },
   "source": [
    "### 7 - Conclusiones\n",
    "El bot está definido para responder 10 de las preguntas más frecuentes de los huéspedes de Airbnb. El dataset se armó a partir del material disponible en el siguiente enlace: [Centro de recursos](https://www.airbnb.com.ar/resources/hosting-homes/t/common-questions-23). Luego de realizarle algunas consultas, notamos que el bot es capaz de responder a la mayoría de ellas correctamente. \n",
    "Luego de experimentar con diferentes arquitecturas (añadiendo capas a la red neuronal) y también con diferentes hiperparámetros (como el número de epochs), el modelo que mejor funcionó es el propuesto."
   ]
  }
 ],
 "metadata": {
  "colab": {
   "authorship_tag": "ABX9TyPZeXqdm2EV/WEA+xr24OAL",
   "collapsed_sections": [],
   "name": "2b - bot_dnn_spacy_esp.ipynb",
   "provenance": []
  },
  "kernelspec": {
   "display_name": "Python 3 (ipykernel)",
   "language": "python",
   "name": "python3"
  },
  "language_info": {
   "codemirror_mode": {
    "name": "ipython",
    "version": 3
   },
   "file_extension": ".py",
   "mimetype": "text/x-python",
   "name": "python",
   "nbconvert_exporter": "python",
   "pygments_lexer": "ipython3",
   "version": "3.9.5"
  }
 },
 "nbformat": 4,
 "nbformat_minor": 1
}
