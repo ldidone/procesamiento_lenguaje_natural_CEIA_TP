{
  "cells": [
    {
      "cell_type": "markdown",
      "metadata": {
        "id": "sZd5yLnnHOK0"
      },
      "source": [
        "<img src=\"https://github.com/hernancontigiani/ceia_memorias_especializacion/raw/master/Figures/logoFIUBA.jpg\" width=\"500\" align=\"center\">\n",
        "\n",
        "\n",
        "# Procesamiento de lenguaje natural\n",
        "## Custom embedddings con Gensim\n",
        "\n"
      ]
    },
    {
      "cell_type": "markdown",
      "metadata": {
        "id": "vA7nqkumo9z9"
      },
      "source": [
        "### Objetivo\n",
        "El objetivo es utilizar documentos / corpus para crear embeddings de palabras basado en ese contexto. Se utilizará canciones de bandas para generar los embeddings, es decir, que los vectores tendrán la forma en función de como esa banda haya utilizado las palabras en sus canciones."
      ]
    },
    {
      "cell_type": "code",
      "execution_count": 1,
      "metadata": {
        "id": "lFToQs5FK5uZ"
      },
      "outputs": [],
      "source": [
        "import pandas as pd\n",
        "import matplotlib.pyplot as plt\n",
        "import seaborn as sns\n",
        "\n",
        "import multiprocessing\n",
        "from gensim.models import Word2Vec"
      ]
    },
    {
      "cell_type": "markdown",
      "metadata": {
        "id": "g07zJxG7H9vG"
      },
      "source": [
        "### Datos\n",
        "Utilizaremos como dataset canciones de los discos: Sed, Presión, Rocanroles sin destino y Señales, de la banda argentina Callejeros."
      ]
    },
    {
      "cell_type": "code",
      "source": [
        "df = pd.read_csv('callejeros.txt', sep='/n', header=None)\n",
        "df.head()"
      ],
      "metadata": {
        "colab": {
          "base_uri": "https://localhost:8080/",
          "height": 261
        },
        "id": "Q_1Duzaw9LTR",
        "outputId": "65805566-5f01-4ad6-ac56-d8f79208624f"
      },
      "execution_count": 2,
      "outputs": [
        {
          "output_type": "stream",
          "name": "stderr",
          "text": [
            "/usr/local/lib/python3.7/dist-packages/pandas/util/_decorators.py:311: ParserWarning: Falling back to the 'python' engine because the 'c' engine does not support regex separators (separators > 1 char and different from '\\s+' are interpreted as regex); you can avoid this warning by specifying engine='python'.\n",
            "  return func(*args, **kwargs)\n"
          ]
        },
        {
          "output_type": "execute_result",
          "data": {
            "text/plain": [
              "                                 0\n",
              "0                 Tener que seguir\n",
              "1              Tener que alimentar\n",
              "2           Sin correr a chetearla\n",
              "3  Siguen dando vueltas y poniendo\n",
              "4            Y nunca sacan sortija"
            ],
            "text/html": [
              "\n",
              "  <div id=\"df-f0d7fa90-c956-462f-96bc-ea91f57df4a0\">\n",
              "    <div class=\"colab-df-container\">\n",
              "      <div>\n",
              "<style scoped>\n",
              "    .dataframe tbody tr th:only-of-type {\n",
              "        vertical-align: middle;\n",
              "    }\n",
              "\n",
              "    .dataframe tbody tr th {\n",
              "        vertical-align: top;\n",
              "    }\n",
              "\n",
              "    .dataframe thead th {\n",
              "        text-align: right;\n",
              "    }\n",
              "</style>\n",
              "<table border=\"1\" class=\"dataframe\">\n",
              "  <thead>\n",
              "    <tr style=\"text-align: right;\">\n",
              "      <th></th>\n",
              "      <th>0</th>\n",
              "    </tr>\n",
              "  </thead>\n",
              "  <tbody>\n",
              "    <tr>\n",
              "      <th>0</th>\n",
              "      <td>Tener que seguir</td>\n",
              "    </tr>\n",
              "    <tr>\n",
              "      <th>1</th>\n",
              "      <td>Tener que alimentar</td>\n",
              "    </tr>\n",
              "    <tr>\n",
              "      <th>2</th>\n",
              "      <td>Sin correr a chetearla</td>\n",
              "    </tr>\n",
              "    <tr>\n",
              "      <th>3</th>\n",
              "      <td>Siguen dando vueltas y poniendo</td>\n",
              "    </tr>\n",
              "    <tr>\n",
              "      <th>4</th>\n",
              "      <td>Y nunca sacan sortija</td>\n",
              "    </tr>\n",
              "  </tbody>\n",
              "</table>\n",
              "</div>\n",
              "      <button class=\"colab-df-convert\" onclick=\"convertToInteractive('df-f0d7fa90-c956-462f-96bc-ea91f57df4a0')\"\n",
              "              title=\"Convert this dataframe to an interactive table.\"\n",
              "              style=\"display:none;\">\n",
              "        \n",
              "  <svg xmlns=\"http://www.w3.org/2000/svg\" height=\"24px\"viewBox=\"0 0 24 24\"\n",
              "       width=\"24px\">\n",
              "    <path d=\"M0 0h24v24H0V0z\" fill=\"none\"/>\n",
              "    <path d=\"M18.56 5.44l.94 2.06.94-2.06 2.06-.94-2.06-.94-.94-2.06-.94 2.06-2.06.94zm-11 1L8.5 8.5l.94-2.06 2.06-.94-2.06-.94L8.5 2.5l-.94 2.06-2.06.94zm10 10l.94 2.06.94-2.06 2.06-.94-2.06-.94-.94-2.06-.94 2.06-2.06.94z\"/><path d=\"M17.41 7.96l-1.37-1.37c-.4-.4-.92-.59-1.43-.59-.52 0-1.04.2-1.43.59L10.3 9.45l-7.72 7.72c-.78.78-.78 2.05 0 2.83L4 21.41c.39.39.9.59 1.41.59.51 0 1.02-.2 1.41-.59l7.78-7.78 2.81-2.81c.8-.78.8-2.07 0-2.86zM5.41 20L4 18.59l7.72-7.72 1.47 1.35L5.41 20z\"/>\n",
              "  </svg>\n",
              "      </button>\n",
              "      \n",
              "  <style>\n",
              "    .colab-df-container {\n",
              "      display:flex;\n",
              "      flex-wrap:wrap;\n",
              "      gap: 12px;\n",
              "    }\n",
              "\n",
              "    .colab-df-convert {\n",
              "      background-color: #E8F0FE;\n",
              "      border: none;\n",
              "      border-radius: 50%;\n",
              "      cursor: pointer;\n",
              "      display: none;\n",
              "      fill: #1967D2;\n",
              "      height: 32px;\n",
              "      padding: 0 0 0 0;\n",
              "      width: 32px;\n",
              "    }\n",
              "\n",
              "    .colab-df-convert:hover {\n",
              "      background-color: #E2EBFA;\n",
              "      box-shadow: 0px 1px 2px rgba(60, 64, 67, 0.3), 0px 1px 3px 1px rgba(60, 64, 67, 0.15);\n",
              "      fill: #174EA6;\n",
              "    }\n",
              "\n",
              "    [theme=dark] .colab-df-convert {\n",
              "      background-color: #3B4455;\n",
              "      fill: #D2E3FC;\n",
              "    }\n",
              "\n",
              "    [theme=dark] .colab-df-convert:hover {\n",
              "      background-color: #434B5C;\n",
              "      box-shadow: 0px 1px 3px 1px rgba(0, 0, 0, 0.15);\n",
              "      filter: drop-shadow(0px 1px 2px rgba(0, 0, 0, 0.3));\n",
              "      fill: #FFFFFF;\n",
              "    }\n",
              "  </style>\n",
              "\n",
              "      <script>\n",
              "        const buttonEl =\n",
              "          document.querySelector('#df-f0d7fa90-c956-462f-96bc-ea91f57df4a0 button.colab-df-convert');\n",
              "        buttonEl.style.display =\n",
              "          google.colab.kernel.accessAllowed ? 'block' : 'none';\n",
              "\n",
              "        async function convertToInteractive(key) {\n",
              "          const element = document.querySelector('#df-f0d7fa90-c956-462f-96bc-ea91f57df4a0');\n",
              "          const dataTable =\n",
              "            await google.colab.kernel.invokeFunction('convertToInteractive',\n",
              "                                                     [key], {});\n",
              "          if (!dataTable) return;\n",
              "\n",
              "          const docLinkHtml = 'Like what you see? Visit the ' +\n",
              "            '<a target=\"_blank\" href=https://colab.research.google.com/notebooks/data_table.ipynb>data table notebook</a>'\n",
              "            + ' to learn more about interactive tables.';\n",
              "          element.innerHTML = '';\n",
              "          dataTable['output_type'] = 'display_data';\n",
              "          await google.colab.output.renderOutput(dataTable, element);\n",
              "          const docLink = document.createElement('div');\n",
              "          docLink.innerHTML = docLinkHtml;\n",
              "          element.appendChild(docLink);\n",
              "        }\n",
              "      </script>\n",
              "    </div>\n",
              "  </div>\n",
              "  "
            ]
          },
          "metadata": {},
          "execution_count": 2
        }
      ]
    },
    {
      "cell_type": "code",
      "execution_count": 3,
      "metadata": {
        "id": "LEpKubK9XzXN",
        "colab": {
          "base_uri": "https://localhost:8080/"
        },
        "outputId": "e7351a69-1571-439a-bc77-7cb20d83ce4e"
      },
      "outputs": [
        {
          "output_type": "stream",
          "name": "stdout",
          "text": [
            "Cantidad de documentos: 1564\n"
          ]
        }
      ],
      "source": [
        "print(\"Cantidad de documentos:\", df.shape[0])"
      ]
    },
    {
      "cell_type": "markdown",
      "metadata": {
        "id": "ab94qaFlrA1G"
      },
      "source": [
        "### 1 - Preprocesamiento"
      ]
    },
    {
      "cell_type": "code",
      "execution_count": 4,
      "metadata": {
        "id": "rIsmMWmjrDHd"
      },
      "outputs": [],
      "source": [
        "from keras.preprocessing.text import text_to_word_sequence\n",
        "\n",
        "sentence_tokens = []\n",
        "# Recorrer todas las filas y transformar las oraciones\n",
        "# en una secuencia de palabras (esto podría realizarse con NLTK o spaCy también)\n",
        "for _, row in df[:None].iterrows():\n",
        "    sentence_tokens.append(text_to_word_sequence(row[0]))"
      ]
    },
    {
      "cell_type": "code",
      "execution_count": 5,
      "metadata": {
        "id": "CHepi_DGrbhq",
        "colab": {
          "base_uri": "https://localhost:8080/"
        },
        "outputId": "5097deda-ecde-46dd-f1cc-6389b593850f"
      },
      "outputs": [
        {
          "output_type": "execute_result",
          "data": {
            "text/plain": [
              "[['tener', 'que', 'seguir'], ['tener', 'que', 'alimentar']]"
            ]
          },
          "metadata": {},
          "execution_count": 5
        }
      ],
      "source": [
        "# Demos un vistazo\n",
        "sentence_tokens[:2]"
      ]
    },
    {
      "cell_type": "markdown",
      "metadata": {
        "id": "BaXV6nlHr5Aa"
      },
      "source": [
        "### 2 - Crear los vectores (word2vec)"
      ]
    },
    {
      "cell_type": "code",
      "execution_count": 6,
      "metadata": {
        "id": "OSb0v7h8r7hK"
      },
      "outputs": [],
      "source": [
        "from gensim.models.callbacks import CallbackAny2Vec\n",
        "# Durante el entrenamiento gensim por defecto no informa el \"loss\" en cada época\n",
        "# Sobracargamos el callback para poder tener esta información\n",
        "class callback(CallbackAny2Vec):\n",
        "    \"\"\"\n",
        "    Callback to print loss after each epoch\n",
        "    \"\"\"\n",
        "    def __init__(self):\n",
        "        self.epoch = 0\n",
        "\n",
        "    def on_epoch_end(self, model):\n",
        "        loss = model.get_latest_training_loss()\n",
        "        if self.epoch == 0:\n",
        "            print('Loss after epoch {}: {}'.format(self.epoch, loss))\n",
        "        else:\n",
        "            print('Loss after epoch {}: {}'.format(self.epoch, loss- self.loss_previous_step))\n",
        "        self.epoch += 1\n",
        "        self.loss_previous_step = loss"
      ]
    },
    {
      "cell_type": "code",
      "execution_count": 7,
      "metadata": {
        "id": "i0wnDdv9sJ47"
      },
      "outputs": [],
      "source": [
        "# Crearmos el modelo generador de vectoeres\n",
        "# En este caso utilizaremos la estructura modelo Skipgram\n",
        "w2v_model = Word2Vec(min_count=5,    # frecuencia mínima de palabra para incluirla en el vocabulario\n",
        "                     window=2,       # cant de palabras antes y desp de la predicha\n",
        "                     size=200,       # dimensionalidad de los vectores \n",
        "                     negative=20,    # cantidad de negative samples... 0 es no se usa\n",
        "                     workers=1,      # si tienen más cores pueden cambiar este valor\n",
        "                     sg=1)           # modelo 0:CBOW  1:skipgram"
      ]
    },
    {
      "cell_type": "code",
      "execution_count": 8,
      "metadata": {
        "id": "5lTt8wErsf17"
      },
      "outputs": [],
      "source": [
        "# Buildear el vocabularui con los tokens\n",
        "w2v_model.build_vocab(sentence_tokens)"
      ]
    },
    {
      "cell_type": "code",
      "execution_count": 9,
      "metadata": {
        "id": "TNc9qt4os5AT",
        "colab": {
          "base_uri": "https://localhost:8080/"
        },
        "outputId": "f2bf1c94-be27-428b-a44f-1e8a056a0fcc"
      },
      "outputs": [
        {
          "output_type": "stream",
          "name": "stdout",
          "text": [
            "Cantidad de docs en el corpus: 1564\n"
          ]
        }
      ],
      "source": [
        "# Cantidad de filas/docs encontradas en el corpus\n",
        "print(\"Cantidad de docs en el corpus:\", w2v_model.corpus_count)"
      ]
    },
    {
      "cell_type": "code",
      "execution_count": 10,
      "metadata": {
        "id": "idw9cHF3tSMl",
        "colab": {
          "base_uri": "https://localhost:8080/"
        },
        "outputId": "137be3af-f1ec-41b4-e76d-52c2ddefe39d"
      },
      "outputs": [
        {
          "output_type": "stream",
          "name": "stdout",
          "text": [
            "Cantidad de words distintas en el corpus: 306\n"
          ]
        }
      ],
      "source": [
        "# Cantidad de words encontradas en el corpus\n",
        "print(\"Cantidad de words distintas en el corpus:\", len(w2v_model.wv.vocab))"
      ]
    },
    {
      "cell_type": "markdown",
      "metadata": {
        "id": "fC9mZ8DPk-UC"
      },
      "source": [
        "### 3 - Entrenar el modelo generador"
      ]
    },
    {
      "cell_type": "code",
      "execution_count": 11,
      "metadata": {
        "id": "QSp-x0PAsq56",
        "colab": {
          "base_uri": "https://localhost:8080/"
        },
        "outputId": "0c05b796-e2d3-42e3-dbdc-5ac80e0da535"
      },
      "outputs": [
        {
          "output_type": "stream",
          "name": "stdout",
          "text": [
            "Loss after epoch 0: 68310.1171875\n",
            "Loss after epoch 1: 29678.0703125\n",
            "Loss after epoch 2: 27518.8671875\n",
            "Loss after epoch 3: 26907.3984375\n",
            "Loss after epoch 4: 26963.125\n",
            "Loss after epoch 5: 26807.09375\n",
            "Loss after epoch 6: 26076.078125\n",
            "Loss after epoch 7: 26833.78125\n",
            "Loss after epoch 8: 26929.6875\n",
            "Loss after epoch 9: 25992.5625\n",
            "Loss after epoch 10: 25149.59375\n",
            "Loss after epoch 11: 26530.9375\n",
            "Loss after epoch 12: 25994.9375\n",
            "Loss after epoch 13: 25800.5625\n",
            "Loss after epoch 14: 25732.625\n",
            "Loss after epoch 15: 25964.5\n",
            "Loss after epoch 16: 25343.6875\n",
            "Loss after epoch 17: 25560.53125\n",
            "Loss after epoch 18: 25299.90625\n",
            "Loss after epoch 19: 25111.5625\n",
            "Loss after epoch 20: 24277.875\n",
            "Loss after epoch 21: 23602.875\n",
            "Loss after epoch 22: 23690.25\n",
            "Loss after epoch 23: 22630.0\n",
            "Loss after epoch 24: 22581.6875\n",
            "Loss after epoch 25: 22673.8125\n",
            "Loss after epoch 26: 22449.25\n",
            "Loss after epoch 27: 22056.375\n",
            "Loss after epoch 28: 21224.25\n",
            "Loss after epoch 29: 21596.1875\n",
            "Loss after epoch 30: 20852.5625\n",
            "Loss after epoch 31: 20328.5625\n",
            "Loss after epoch 32: 20667.8125\n",
            "Loss after epoch 33: 20481.625\n",
            "Loss after epoch 34: 19228.875\n",
            "Loss after epoch 35: 19868.0625\n",
            "Loss after epoch 36: 19740.625\n",
            "Loss after epoch 37: 19568.5625\n",
            "Loss after epoch 38: 19122.0\n",
            "Loss after epoch 39: 19432.375\n",
            "Loss after epoch 40: 18774.8125\n",
            "Loss after epoch 41: 18478.0\n",
            "Loss after epoch 42: 18373.3125\n",
            "Loss after epoch 43: 16875.375\n",
            "Loss after epoch 44: 17242.25\n",
            "Loss after epoch 45: 16627.5\n",
            "Loss after epoch 46: 16707.625\n",
            "Loss after epoch 47: 16445.875\n",
            "Loss after epoch 48: 16562.5\n",
            "Loss after epoch 49: 16154.625\n",
            "Loss after epoch 50: 15778.625\n",
            "Loss after epoch 51: 15789.75\n",
            "Loss after epoch 52: 16007.875\n",
            "Loss after epoch 53: 16342.875\n",
            "Loss after epoch 54: 15896.875\n",
            "Loss after epoch 55: 15834.25\n",
            "Loss after epoch 56: 16174.75\n",
            "Loss after epoch 57: 15975.875\n",
            "Loss after epoch 58: 15575.375\n",
            "Loss after epoch 59: 15907.875\n",
            "Loss after epoch 60: 16018.75\n",
            "Loss after epoch 61: 16201.75\n",
            "Loss after epoch 62: 15654.25\n",
            "Loss after epoch 63: 15242.125\n",
            "Loss after epoch 64: 15963.125\n",
            "Loss after epoch 65: 15558.625\n",
            "Loss after epoch 66: 15572.625\n",
            "Loss after epoch 67: 15229.625\n",
            "Loss after epoch 68: 15379.75\n",
            "Loss after epoch 69: 15498.875\n",
            "Loss after epoch 70: 15480.0\n",
            "Loss after epoch 71: 14773.75\n",
            "Loss after epoch 72: 15443.875\n",
            "Loss after epoch 73: 15030.5\n",
            "Loss after epoch 74: 15046.75\n",
            "Loss after epoch 75: 14566.0\n",
            "Loss after epoch 76: 14816.875\n",
            "Loss after epoch 77: 14800.875\n",
            "Loss after epoch 78: 15342.25\n",
            "Loss after epoch 79: 15452.25\n",
            "Loss after epoch 80: 15071.125\n",
            "Loss after epoch 81: 14275.125\n",
            "Loss after epoch 82: 14896.875\n",
            "Loss after epoch 83: 14964.875\n",
            "Loss after epoch 84: 15016.75\n",
            "Loss after epoch 85: 14819.25\n",
            "Loss after epoch 86: 15074.375\n",
            "Loss after epoch 87: 14943.75\n",
            "Loss after epoch 88: 14455.125\n",
            "Loss after epoch 89: 15041.375\n",
            "Loss after epoch 90: 14714.875\n",
            "Loss after epoch 91: 15146.875\n",
            "Loss after epoch 92: 14662.875\n",
            "Loss after epoch 93: 14807.25\n",
            "Loss after epoch 94: 14849.25\n",
            "Loss after epoch 95: 14632.125\n",
            "Loss after epoch 96: 14577.5\n",
            "Loss after epoch 97: 14735.125\n",
            "Loss after epoch 98: 14697.625\n",
            "Loss after epoch 99: 14245.25\n"
          ]
        },
        {
          "output_type": "execute_result",
          "data": {
            "text/plain": [
              "(404767, 1026800)"
            ]
          },
          "metadata": {},
          "execution_count": 11
        }
      ],
      "source": [
        "# Entrenamos el modelo generador de vectores\n",
        "# Utilizamos nuestro callback\n",
        "w2v_model.train(sentence_tokens,\n",
        "                 total_examples=w2v_model.corpus_count,\n",
        "                 epochs=100,\n",
        "                 compute_loss = True,\n",
        "                 callbacks=[callback()]\n",
        "                 )"
      ]
    },
    {
      "cell_type": "markdown",
      "metadata": {
        "id": "ddT9NVuNlCAe"
      },
      "source": [
        "### 4 - Ensayar"
      ]
    },
    {
      "cell_type": "code",
      "execution_count": 12,
      "metadata": {
        "id": "6cHN9xGLuPEm",
        "colab": {
          "base_uri": "https://localhost:8080/"
        },
        "outputId": "e58dfed8-f2dc-4f8c-be66-2e821bc28994"
      },
      "outputs": [
        {
          "output_type": "execute_result",
          "data": {
            "text/plain": [
              "[('aunque', 0.5738430619239807),\n",
              " ('luz', 0.5717668533325195),\n",
              " ('voz', 0.5605605840682983),\n",
              " ('parar', 0.5370591878890991),\n",
              " ('alegría', 0.5337885618209839),\n",
              " ('locura', 0.5311153531074524),\n",
              " ('sin', 0.49835002422332764),\n",
              " ('escapar', 0.488768070936203),\n",
              " ('dirección', 0.47467589378356934),\n",
              " ('noche', 0.46884673833847046)]"
            ]
          },
          "metadata": {},
          "execution_count": 12
        }
      ],
      "source": [
        "# Palabras que MÁS se relacionan con...:\n",
        "w2v_model.wv.most_similar(positive=[\"razón\"], topn=10)"
      ]
    },
    {
      "cell_type": "code",
      "execution_count": 13,
      "metadata": {
        "id": "47HiU5gdkdMq",
        "colab": {
          "base_uri": "https://localhost:8080/"
        },
        "outputId": "fb303c1d-782b-414e-9abc-edc04675164a"
      },
      "outputs": [
        {
          "output_type": "execute_result",
          "data": {
            "text/plain": [
              "[('pena', -0.1148681789636612),\n",
              " ('volver', -0.15355628728866577),\n",
              " ('día', -0.1578645259141922),\n",
              " ('corazón', -0.16512562334537506),\n",
              " ('cosas', -0.16604292392730713),\n",
              " ('sin', -0.16677871346473694),\n",
              " ('yo', -0.17177680134773254),\n",
              " ('pero', -0.17791247367858887),\n",
              " ('por', -0.1835840344429016),\n",
              " ('cuando', -0.18358924984931946)]"
            ]
          },
          "metadata": {},
          "execution_count": 13
        }
      ],
      "source": [
        "# Palabras que MENOS se relacionan con...:\n",
        "w2v_model.wv.most_similar(negative=[\"ilusión\"], topn=10)"
      ]
    },
    {
      "cell_type": "code",
      "execution_count": 14,
      "metadata": {
        "id": "DT4Rvno2mD65",
        "colab": {
          "base_uri": "https://localhost:8080/"
        },
        "outputId": "5c4b49da-9dc8-4b58-a284-47ca03c9979e"
      },
      "outputs": [
        {
          "output_type": "execute_result",
          "data": {
            "text/plain": [
              "[('adicción', 0.7125499844551086),\n",
              " ('gente', 0.6944039463996887),\n",
              " ('giles', 0.6940250396728516),\n",
              " ('ayuda', 0.6618411540985107),\n",
              " ('único', 0.6486877202987671),\n",
              " ('soledad', 0.6450608372688293),\n",
              " ('alma', 0.6019098162651062),\n",
              " ('angustia', 0.5956469774246216),\n",
              " ('quedar', 0.5920230150222778),\n",
              " ('dos', 0.5883969664573669)]"
            ]
          },
          "metadata": {},
          "execution_count": 14
        }
      ],
      "source": [
        "# Palabras que MÁS se relacionan con...:\n",
        "w2v_model.wv.most_similar(positive=[\"ilusión\"], topn=10)"
      ]
    },
    {
      "cell_type": "code",
      "execution_count": 15,
      "metadata": {
        "id": "XPLDPgzBmQXt",
        "colab": {
          "base_uri": "https://localhost:8080/"
        },
        "outputId": "132d4016-252c-491c-b535-dd5645ff6c32"
      },
      "outputs": [
        {
          "output_type": "execute_result",
          "data": {
            "text/plain": [
              "[('eh', 0.8393474817276001),\n",
              " ('tocar', 0.7185860872268677),\n",
              " ('siento', 0.6735626459121704),\n",
              " ('este', 0.6685516238212585),\n",
              " ('recuerdo', 0.6515269875526428)]"
            ]
          },
          "metadata": {},
          "execution_count": 15
        }
      ],
      "source": [
        "# Palabras que MÁS se relacionan con...:\n",
        "w2v_model.wv.most_similar(positive=[\"rocanrol\"], topn=5)"
      ]
    },
    {
      "cell_type": "code",
      "source": [
        "# Palabras que MÁS se relacionan con...:\n",
        "w2v_model.wv.most_similar(positive=[\"silencio\"])"
      ],
      "metadata": {
        "colab": {
          "base_uri": "https://localhost:8080/"
        },
        "id": "FHjQov63GWaz",
        "outputId": "71274821-720f-4825-970b-f3bfd0929b99"
      },
      "execution_count": 16,
      "outputs": [
        {
          "output_type": "execute_result",
          "data": {
            "text/plain": [
              "[('escapar', 0.6860098838806152),\n",
              " ('infierno', 0.6114853620529175),\n",
              " ('duro', 0.6015012860298157),\n",
              " ('lleno', 0.569878339767456),\n",
              " ('mundo', 0.5604426264762878),\n",
              " ('amargo', 0.5586040019989014),\n",
              " ('desde', 0.5550762414932251),\n",
              " ('fiel', 0.5469464063644409),\n",
              " ('nada', 0.5190041661262512),\n",
              " ('cemento', 0.515375018119812)]"
            ]
          },
          "metadata": {},
          "execution_count": 16
        }
      ]
    },
    {
      "cell_type": "code",
      "execution_count": 17,
      "metadata": {
        "id": "L_UvHPMMklOr",
        "colab": {
          "base_uri": "https://localhost:8080/",
          "height": 328
        },
        "outputId": "968825a1-0cc7-4a10-8ffb-2d03e73993ed"
      },
      "outputs": [
        {
          "output_type": "error",
          "ename": "KeyError",
          "evalue": "ignored",
          "traceback": [
            "\u001b[0;31m---------------------------------------------------------------------------\u001b[0m",
            "\u001b[0;31mKeyError\u001b[0m                                  Traceback (most recent call last)",
            "\u001b[0;32m<ipython-input-17-fbce2f0f7349>\u001b[0m in \u001b[0;36m<module>\u001b[0;34m\u001b[0m\n\u001b[1;32m      1\u001b[0m \u001b[0;31m# Ensayar con una palabra que no está en el corpus (en vocab):\u001b[0m\u001b[0;34m\u001b[0m\u001b[0;34m\u001b[0m\u001b[0;34m\u001b[0m\u001b[0m\n\u001b[0;32m----> 2\u001b[0;31m \u001b[0mw2v_model\u001b[0m\u001b[0;34m.\u001b[0m\u001b[0mwv\u001b[0m\u001b[0;34m.\u001b[0m\u001b[0mmost_similar\u001b[0m\u001b[0;34m(\u001b[0m\u001b[0mpositive\u001b[0m\u001b[0;34m=\u001b[0m\u001b[0;34m[\u001b[0m\u001b[0;34m\"emoción\"\u001b[0m\u001b[0;34m]\u001b[0m\u001b[0;34m)\u001b[0m\u001b[0;34m\u001b[0m\u001b[0;34m\u001b[0m\u001b[0m\n\u001b[0m",
            "\u001b[0;32m/usr/local/lib/python3.7/dist-packages/gensim/models/keyedvectors.py\u001b[0m in \u001b[0;36mmost_similar\u001b[0;34m(self, positive, negative, topn, restrict_vocab, indexer)\u001b[0m\n\u001b[1;32m    529\u001b[0m                 \u001b[0mmean\u001b[0m\u001b[0;34m.\u001b[0m\u001b[0mappend\u001b[0m\u001b[0;34m(\u001b[0m\u001b[0mweight\u001b[0m \u001b[0;34m*\u001b[0m \u001b[0mword\u001b[0m\u001b[0;34m)\u001b[0m\u001b[0;34m\u001b[0m\u001b[0;34m\u001b[0m\u001b[0m\n\u001b[1;32m    530\u001b[0m             \u001b[0;32melse\u001b[0m\u001b[0;34m:\u001b[0m\u001b[0;34m\u001b[0m\u001b[0;34m\u001b[0m\u001b[0m\n\u001b[0;32m--> 531\u001b[0;31m                 \u001b[0mmean\u001b[0m\u001b[0;34m.\u001b[0m\u001b[0mappend\u001b[0m\u001b[0;34m(\u001b[0m\u001b[0mweight\u001b[0m \u001b[0;34m*\u001b[0m \u001b[0mself\u001b[0m\u001b[0;34m.\u001b[0m\u001b[0mword_vec\u001b[0m\u001b[0;34m(\u001b[0m\u001b[0mword\u001b[0m\u001b[0;34m,\u001b[0m \u001b[0muse_norm\u001b[0m\u001b[0;34m=\u001b[0m\u001b[0;32mTrue\u001b[0m\u001b[0;34m)\u001b[0m\u001b[0;34m)\u001b[0m\u001b[0;34m\u001b[0m\u001b[0;34m\u001b[0m\u001b[0m\n\u001b[0m\u001b[1;32m    532\u001b[0m                 \u001b[0;32mif\u001b[0m \u001b[0mword\u001b[0m \u001b[0;32min\u001b[0m \u001b[0mself\u001b[0m\u001b[0;34m.\u001b[0m\u001b[0mvocab\u001b[0m\u001b[0;34m:\u001b[0m\u001b[0;34m\u001b[0m\u001b[0;34m\u001b[0m\u001b[0m\n\u001b[1;32m    533\u001b[0m                     \u001b[0mall_words\u001b[0m\u001b[0;34m.\u001b[0m\u001b[0madd\u001b[0m\u001b[0;34m(\u001b[0m\u001b[0mself\u001b[0m\u001b[0;34m.\u001b[0m\u001b[0mvocab\u001b[0m\u001b[0;34m[\u001b[0m\u001b[0mword\u001b[0m\u001b[0;34m]\u001b[0m\u001b[0;34m.\u001b[0m\u001b[0mindex\u001b[0m\u001b[0;34m)\u001b[0m\u001b[0;34m\u001b[0m\u001b[0;34m\u001b[0m\u001b[0m\n",
            "\u001b[0;32m/usr/local/lib/python3.7/dist-packages/gensim/models/keyedvectors.py\u001b[0m in \u001b[0;36mword_vec\u001b[0;34m(self, word, use_norm)\u001b[0m\n\u001b[1;32m    450\u001b[0m             \u001b[0;32mreturn\u001b[0m \u001b[0mresult\u001b[0m\u001b[0;34m\u001b[0m\u001b[0;34m\u001b[0m\u001b[0m\n\u001b[1;32m    451\u001b[0m         \u001b[0;32melse\u001b[0m\u001b[0;34m:\u001b[0m\u001b[0;34m\u001b[0m\u001b[0;34m\u001b[0m\u001b[0m\n\u001b[0;32m--> 452\u001b[0;31m             \u001b[0;32mraise\u001b[0m \u001b[0mKeyError\u001b[0m\u001b[0;34m(\u001b[0m\u001b[0;34m\"word '%s' not in vocabulary\"\u001b[0m \u001b[0;34m%\u001b[0m \u001b[0mword\u001b[0m\u001b[0;34m)\u001b[0m\u001b[0;34m\u001b[0m\u001b[0;34m\u001b[0m\u001b[0m\n\u001b[0m\u001b[1;32m    453\u001b[0m \u001b[0;34m\u001b[0m\u001b[0m\n\u001b[1;32m    454\u001b[0m     \u001b[0;32mdef\u001b[0m \u001b[0mget_vector\u001b[0m\u001b[0;34m(\u001b[0m\u001b[0mself\u001b[0m\u001b[0;34m,\u001b[0m \u001b[0mword\u001b[0m\u001b[0;34m)\u001b[0m\u001b[0;34m:\u001b[0m\u001b[0;34m\u001b[0m\u001b[0;34m\u001b[0m\u001b[0m\n",
            "\u001b[0;31mKeyError\u001b[0m: \"word 'emoción' not in vocabulary\""
          ]
        }
      ],
      "source": [
        "# Ensayar con una palabra que no está en el corpus (en vocab):\n",
        "w2v_model.wv.most_similar(positive=[\"emoción\"])"
      ]
    },
    {
      "cell_type": "markdown",
      "metadata": {
        "id": "_g8UVWe6lFmh"
      },
      "source": [
        "### 5 - Visualizar agrupación de vectores"
      ]
    },
    {
      "cell_type": "code",
      "execution_count": 18,
      "metadata": {
        "id": "pDxEVXAivjr9"
      },
      "outputs": [],
      "source": [
        "from sklearn.decomposition import IncrementalPCA    \n",
        "from sklearn.manifold import TSNE                   \n",
        "import numpy as np                                  \n",
        "\n",
        "def reduce_dimensions(model):\n",
        "    num_dimensions = 2  \n",
        "\n",
        "    vectors = np.asarray(model.wv.vectors)\n",
        "    labels = np.asarray(model.wv.index2word)  \n",
        "\n",
        "    tsne = TSNE(n_components=num_dimensions, random_state=0)\n",
        "    vectors = tsne.fit_transform(vectors)\n",
        "\n",
        "    x_vals = [v[0] for v in vectors]\n",
        "    y_vals = [v[1] for v in vectors]\n",
        "    return x_vals, y_vals, labels"
      ]
    },
    {
      "cell_type": "code",
      "execution_count": 19,
      "metadata": {
        "id": "NCCXtDpcugmd",
        "colab": {
          "base_uri": "https://localhost:8080/",
          "height": 611
        },
        "outputId": "71dfec43-418f-4f5a-c9bd-0d947b999279"
      },
      "outputs": [
        {
          "output_type": "stream",
          "name": "stderr",
          "text": [
            "/usr/local/lib/python3.7/dist-packages/sklearn/manifold/_t_sne.py:783: FutureWarning: The default initialization in TSNE will change from 'random' to 'pca' in 1.2.\n",
            "  FutureWarning,\n",
            "/usr/local/lib/python3.7/dist-packages/sklearn/manifold/_t_sne.py:793: FutureWarning: The default learning rate in TSNE will change from 200.0 to 'auto' in 1.2.\n",
            "  FutureWarning,\n"
          ]
        },
        {
          "output_type": "display_data",
          "data": {
            "text/html": [
              "<html>\n",
              "<head><meta charset=\"utf-8\" /></head>\n",
              "<body>\n",
              "    <div>            <script src=\"https://cdnjs.cloudflare.com/ajax/libs/mathjax/2.7.5/MathJax.js?config=TeX-AMS-MML_SVG\"></script><script type=\"text/javascript\">if (window.MathJax) {MathJax.Hub.Config({SVG: {font: \"STIX-Web\"}});}</script>                <script type=\"text/javascript\">window.PlotlyConfig = {MathJaxConfig: 'local'};</script>\n",
              "        <script src=\"https://cdn.plot.ly/plotly-2.8.3.min.js\"></script>                <div id=\"7a914483-c9e4-4bad-b415-335f9d83407e\" class=\"plotly-graph-div\" style=\"height:525px; width:100%;\"></div>            <script type=\"text/javascript\">                                    window.PLOTLYENV=window.PLOTLYENV || {};                                    if (document.getElementById(\"7a914483-c9e4-4bad-b415-335f9d83407e\")) {                    Plotly.newPlot(                        \"7a914483-c9e4-4bad-b415-335f9d83407e\",                        [{\"hovertemplate\":\"x=%{x}<br>y=%{y}<br>text=%{text}<extra></extra>\",\"legendgroup\":\"\",\"marker\":{\"color\":\"#636efa\",\"symbol\":\"circle\"},\"mode\":\"markers+text\",\"name\":\"\",\"orientation\":\"v\",\"showlegend\":false,\"text\":[\"que\",\"y\",\"la\",\"de\",\"a\",\"el\",\"no\",\"en\",\"me\",\"se\",\"por\",\"mi\",\"un\",\"lo\",\"te\",\"es\",\"tu\",\"los\",\"sin\",\"m\\u00e1s\",\"como\",\"al\",\"para\",\"si\",\"las\",\"ser\",\"hoy\",\"porque\",\"con\",\"esta\",\"una\",\"siempre\",\"del\",\"cuando\",\"todo\",\"eso\",\"solo\",\"pero\",\"vez\",\"noche\",\"hay\",\"va\",\"ni\",\"voy\",\"nunca\",\"entre\",\"tus\",\"vida\",\"quiero\",\"fue\",\"as\\u00ed\",\"son\",\"otra\",\"yo\",\"mejor\",\"\\u00bfpuede\",\"ya\",\"ojos\",\"siento\",\"tiempo\",\"sol\",\"est\\u00e1\",\"creo\",\"ver\",\"mucho\",\"oh\",\"este\",\"cielo\",\"vos\",\"mas\",\"d\\u00eda\",\"tan\",\"o\",\"sonando\",\"otro\",\"verdad\",\"soy\",\"hace\",\"miento\",\"vivir\",\"hasta\",\"alma\",\"mis\",\"van\",\"nada\",\"esa\",\"sufro\",\"nos\",\"todos\",\"paz\",\"sue\\u00f1o\",\"s\\u00f3lo\",\"donde\",\"cans\\u00e9\",\"alg\\u00fan\",\"lugar\",\"silencio\",\"\\u00bfc\\u00f3mo\",\"ah\",\"siguen\",\"volver\",\"peor\",\"noches\",\"ese\",\"morir\",\"dolor\",\"bien\",\"poder\",\"presi\\u00f3n\",\"miedo\",\"vas\",\"canci\\u00f3n\",\"olvidar\",\"mal\",\"raz\\u00f3n\",\"igual\",\"cara\",\"m\\u00ed\",\"amor\",\"algo\",\"tengo\",\"soledad\",\"uno\",\"ser\\u00e1\",\"poco\",\"tanta\",\"estar\",\"veces\",\"tal\",\"hacia\",\"d\",\"rocanroles\",\"puede\",\"fin\",\"coraz\\u00f3n\",\"puedo\",\"le\",\"salir\",\"rocanrol\",\"voz\",\"gente\",\"almas\",\"hacer\",\"realidad\",\"sue\\u00f1os\",\"dios\",\"gran\",\"ahora\",\"su\",\"s\\u00e9\",\"luna\",\"tierra\",\"saber\",\"seguir\",\"muerte\",\"tambi\\u00e9n\",\"dos\",\"perder\",\"final\",\"mar\",\"trabajo\",\"hizo\",\"desde\",\"duro\",\"cosas\",\"infierno\",\"calor\",\"vivo\",\"aunque\",\"niego\",\"sobras\",\"na\",\"mundo\",\"caminar\",\"destino\",\"m\\u00edo\",\"rinc\\u00f3n\",\"ir\",\"mismo\",\"luz\",\"esos\",\"estrellas\",\"cuenta\",\"subir\",\"cemento\",\"canciones\",\"muy\",\"quedar\",\"ac\\u00e1\",\"abajo\",\"lejos\",\"sigo\",\"ciudad\",\"tener\",\"calle\",\"verso\",\"adicci\\u00f3n\",\"giles\",\"sobran\",\"muero\"],\"x\":[3.8008766174316406,2.96565580368042,1.989612102508545,-7.102978229522705,5.7482452392578125,-2.57357120513916,1.6263750791549683,-2.5522115230560303,8.895427703857422,3.36364483833313,-3.2148890495300293,-10.298507690429688,-7.827747821807861,11.132308006286621,2.3193938732147217,-0.6891754865646362,-5.80773401260376,4.283496379852295,-1.566509485244751,-5.1254754066467285,-11.397245407104492,2.6739258766174316,4.510581970214844,-9.555373191833496,8.214284896850586,-9.293644905090332,6.291771411895752,14.548065185546875,-1.8532472848892212,6.544357776641846,-2.282421112060547,-0.08302335441112518,1.3884971141815186,2.5680577754974365,5.546431064605713,-8.194805145263672,15.61303997039795,0.032095108181238174,0.4682607352733612,13.463929176330566,11.252442359924316,5.003376007080078,0.9821775555610657,6.852046489715576,1.5626682043075562,5.381041526794434,5.422397613525391,9.557389259338379,-2.983220338821411,2.575117588043213,13.68976879119873,10.166075706481934,0.08013707399368286,11.727863311767578,-3.90323805809021,-9.290626525878906,10.276129722595215,-3.309589147567749,-6.300408840179443,-1.8456858396530151,-0.5792319774627686,8.349565505981445,-3.489549160003662,5.390763282775879,7.793644428253174,2.8188955783843994,-13.226449012756348,-4.572192192077637,3.0925910472869873,14.788063049316406,6.882793426513672,-9.858489036560059,-10.673087120056152,13.915986061096191,-7.677391052246094,0.1985388696193695,0.7485472559928894,9.610214233398438,-8.18223762512207,6.641082286834717,-3.1825597286224365,-8.501910209655762,-4.582880020141602,7.124811172485352,7.8570404052734375,-0.4622708857059479,-8.23939323425293,6.120572090148926,-8.124678611755371,-14.446592330932617,9.895187377929688,-1.7641059160232544,9.755744934082031,11.084859848022461,-2.560631513595581,-6.928341865539551,-5.808125019073486,3.8538272380828857,-2.9021189212799072,13.841544151306152,-13.897553443908691,12.162282943725586,7.383217811584473,3.646928548812866,-0.17297829687595367,-1.320109486579895,0.40528109669685364,-1.659666895866394,-1.5240401029586792,-5.613996982574463,-1.2273427248001099,0.16966059803962708,10.962854385375977,-9.316593170166016,-0.2936146855354309,9.961966514587402,-6.045198917388916,4.565427780151367,-5.352512836456299,3.661057472229004,-4.720423698425293,-1.714796543121338,-4.7284698486328125,2.831732988357544,3.894324779510498,-6.235803604125977,-4.864006519317627,8.060776710510254,0.18190860748291016,-7.247058391571045,-0.2813754379749298,13.815991401672363,2.8830461502075195,3.2567501068115234,1.824933648109436,5.654811859130859,8.540761947631836,3.99685001373291,-12.533012390136719,-1.0391736030578613,-1.4868650436401367,7.967535018920898,7.247779846191406,5.150564670562744,-4.086991310119629,5.05564546585083,0.8523452877998352,-3.9805922508239746,-9.984989166259766,1.4260468482971191,-2.0816996097564697,-3.3334078788757324,8.879377365112305,4.912519454956055,1.1821370124816895,2.851287364959717,4.221428394317627,4.2824387550354,3.8220813274383545,-0.7917696237564087,-13.312278747558594,0.3868762254714966,-4.2811479568481445,-6.334444999694824,7.481564998626709,-7.708464622497559,-4.6698832511901855,-9.172039985656738,0.9117807745933533,11.164741516113281,5.478976249694824,-2.8784923553466797,-2.7722702026367188,4.960633754730225,-5.058004856109619,2.771296501159668,-8.715049743652344,9.195821762084961,2.8427047729492188,-0.6254286170005798,3.9671027660369873,-3.4716434478759766,2.989175796508789,-2.5037174224853516,-6.064941883087158,6.543557167053223,-9.684707641601562,1.3663239479064941,7.016824245452881,7.125097751617432,-9.123044967651367,2.6859805583953857,-4.07635498046875,2.244743824005127,1.4689139127731323,11.911040306091309,-13.553815841674805,-13.465437889099121,-13.246232032775879,4.9696736335754395],\"xaxis\":\"x\",\"y\":[0.19936032593250275,0.18279816210269928,-0.1946180760860443,-4.4089250564575195,-3.511690855026245,-1.9091073274612427,-3.554398775100708,0.11487077176570892,-2.753615140914917,-2.1398234367370605,-5.8327860832214355,0.7889407873153687,1.454050064086914,-5.631985664367676,-2.8682971000671387,-8.197548866271973,5.722949028015137,5.856945991516113,-11.142529487609863,8.075898170471191,-7.656430721282959,5.090816497802734,-4.126675128936768,-4.057201862335205,5.036067008972168,8.184593200683594,-16.300630569458008,-1.593496561050415,3.0816595554351807,-0.8070921897888184,-6.663829803466797,7.99072790145874,4.60321569442749,-5.14522123336792,-6.922253131866455,-11.177078247070312,-8.51739501953125,10.747956275939941,-5.828447341918945,1.5267934799194336,-8.167983055114746,4.068686485290527,-8.245989799499512,-8.26554012298584,-12.235550880432129,-8.681257247924805,-14.14631462097168,1.1085065603256226,-10.295778274536133,-6.638241291046143,6.726839065551758,4.938612937927246,-7.000289440155029,-3.9096100330352783,-2.1724839210510254,8.194323539733887,8.9699068069458,5.3207244873046875,-9.82463550567627,-9.130303382873535,-2.2850306034088135,-10.81278133392334,6.936290740966797,-5.793145179748535,-12.254297256469727,14.183713912963867,-5.629752159118652,4.560699939727783,10.92214584350586,-6.655741214752197,-6.4590606689453125,5.744353294372559,3.914675235748291,7.515137672424316,-2.626574993133545,5.677528381347656,14.879734992980957,-11.637364387512207,-11.749707221984863,-11.638087272644043,9.672969818115234,0.2075272500514984,-6.2562174797058105,-2.278958559036255,-1.0244330167770386,2.6101648807525635,-11.813864707946777,7.518237113952637,-6.9768781661987305,1.5283981561660767,2.7106783390045166,8.265033721923828,-8.393798828125,-0.29041925072669983,-3.287170171737671,3.8536202907562256,10.810327529907227,-1.536876916885376,-14.349364280700684,7.247387409210205,4.979854106903076,-1.9301438331604004,12.454874038696289,-3.068798303604126,-9.793392181396484,-2.122220039367676,-4.009402751922607,-4.383577346801758,6.323637962341309,-4.01033353805542,-4.915806293487549,0.2168550044298172,-1.186819314956665,2.47013521194458,-11.831181526184082,-3.8700525760650635,-0.7625897526741028,10.210457801818848,-8.12500286102295,-10.858112335205078,-4.810441017150879,3.7846271991729736,-1.519722580909729,8.040924072265625,7.931289196014404,0.5508937239646912,-11.317476272583008,1.9815428256988525,-4.989327907562256,-2.207298994064331,3.5798542499542236,7.210301399230957,-10.223377227783203,4.103169918060303,-4.760049343109131,1.8430598974227905,-4.82597017288208,2.3046185970306396,-4.830885887145996,-1.2782952785491943,5.241945266723633,6.384380340576172,-4.789705276489258,1.40851628780365,-3.492158889770508,-0.06952160596847534,0.655494213104248,3.669684886932373,-1.1308201551437378,8.97144603729248,1.4420459270477295,0.7974839210510254,-6.838836193084717,-2.0340065956115723,-0.9050529599189758,-14.700569152832031,5.224348545074463,-9.61910629272461,3.017578601837158,0.43881118297576904,1.4366896152496338,2.106093645095825,4.015981197357178,8.098548889160156,4.557003498077393,9.187870979309082,-9.30685806274414,-8.873719215393066,-2.024319648742676,-1.6090224981307983,-15.733078002929688,-14.15625286102295,-13.33713436126709,-2.3080945014953613,2.774670124053955,-14.711912155151367,0.5939584374427795,-7.3381500244140625,4.240971565246582,-0.9148200154304504,-5.5386247634887695,1.9530967473983765,-3.8860769271850586,-4.659289836883545,8.062979698181152,5.5200886726379395,4.101914882659912,6.67431640625,-4.3293585777282715,11.971423149108887,4.373103141784668,9.727595329284668,-0.05665266141295433,-2.232079029083252,-0.6887592673301697,2.139009475708008,-2.5888240337371826,-2.7339184284210205,-3.0496673583984375,-15.677209854125977],\"yaxis\":\"y\",\"type\":\"scatter\"}],                        {\"template\":{\"data\":{\"bar\":[{\"error_x\":{\"color\":\"#2a3f5f\"},\"error_y\":{\"color\":\"#2a3f5f\"},\"marker\":{\"line\":{\"color\":\"#E5ECF6\",\"width\":0.5},\"pattern\":{\"fillmode\":\"overlay\",\"size\":10,\"solidity\":0.2}},\"type\":\"bar\"}],\"barpolar\":[{\"marker\":{\"line\":{\"color\":\"#E5ECF6\",\"width\":0.5},\"pattern\":{\"fillmode\":\"overlay\",\"size\":10,\"solidity\":0.2}},\"type\":\"barpolar\"}],\"carpet\":[{\"aaxis\":{\"endlinecolor\":\"#2a3f5f\",\"gridcolor\":\"white\",\"linecolor\":\"white\",\"minorgridcolor\":\"white\",\"startlinecolor\":\"#2a3f5f\"},\"baxis\":{\"endlinecolor\":\"#2a3f5f\",\"gridcolor\":\"white\",\"linecolor\":\"white\",\"minorgridcolor\":\"white\",\"startlinecolor\":\"#2a3f5f\"},\"type\":\"carpet\"}],\"choropleth\":[{\"colorbar\":{\"outlinewidth\":0,\"ticks\":\"\"},\"type\":\"choropleth\"}],\"contour\":[{\"colorbar\":{\"outlinewidth\":0,\"ticks\":\"\"},\"colorscale\":[[0.0,\"#0d0887\"],[0.1111111111111111,\"#46039f\"],[0.2222222222222222,\"#7201a8\"],[0.3333333333333333,\"#9c179e\"],[0.4444444444444444,\"#bd3786\"],[0.5555555555555556,\"#d8576b\"],[0.6666666666666666,\"#ed7953\"],[0.7777777777777778,\"#fb9f3a\"],[0.8888888888888888,\"#fdca26\"],[1.0,\"#f0f921\"]],\"type\":\"contour\"}],\"contourcarpet\":[{\"colorbar\":{\"outlinewidth\":0,\"ticks\":\"\"},\"type\":\"contourcarpet\"}],\"heatmap\":[{\"colorbar\":{\"outlinewidth\":0,\"ticks\":\"\"},\"colorscale\":[[0.0,\"#0d0887\"],[0.1111111111111111,\"#46039f\"],[0.2222222222222222,\"#7201a8\"],[0.3333333333333333,\"#9c179e\"],[0.4444444444444444,\"#bd3786\"],[0.5555555555555556,\"#d8576b\"],[0.6666666666666666,\"#ed7953\"],[0.7777777777777778,\"#fb9f3a\"],[0.8888888888888888,\"#fdca26\"],[1.0,\"#f0f921\"]],\"type\":\"heatmap\"}],\"heatmapgl\":[{\"colorbar\":{\"outlinewidth\":0,\"ticks\":\"\"},\"colorscale\":[[0.0,\"#0d0887\"],[0.1111111111111111,\"#46039f\"],[0.2222222222222222,\"#7201a8\"],[0.3333333333333333,\"#9c179e\"],[0.4444444444444444,\"#bd3786\"],[0.5555555555555556,\"#d8576b\"],[0.6666666666666666,\"#ed7953\"],[0.7777777777777778,\"#fb9f3a\"],[0.8888888888888888,\"#fdca26\"],[1.0,\"#f0f921\"]],\"type\":\"heatmapgl\"}],\"histogram\":[{\"marker\":{\"pattern\":{\"fillmode\":\"overlay\",\"size\":10,\"solidity\":0.2}},\"type\":\"histogram\"}],\"histogram2d\":[{\"colorbar\":{\"outlinewidth\":0,\"ticks\":\"\"},\"colorscale\":[[0.0,\"#0d0887\"],[0.1111111111111111,\"#46039f\"],[0.2222222222222222,\"#7201a8\"],[0.3333333333333333,\"#9c179e\"],[0.4444444444444444,\"#bd3786\"],[0.5555555555555556,\"#d8576b\"],[0.6666666666666666,\"#ed7953\"],[0.7777777777777778,\"#fb9f3a\"],[0.8888888888888888,\"#fdca26\"],[1.0,\"#f0f921\"]],\"type\":\"histogram2d\"}],\"histogram2dcontour\":[{\"colorbar\":{\"outlinewidth\":0,\"ticks\":\"\"},\"colorscale\":[[0.0,\"#0d0887\"],[0.1111111111111111,\"#46039f\"],[0.2222222222222222,\"#7201a8\"],[0.3333333333333333,\"#9c179e\"],[0.4444444444444444,\"#bd3786\"],[0.5555555555555556,\"#d8576b\"],[0.6666666666666666,\"#ed7953\"],[0.7777777777777778,\"#fb9f3a\"],[0.8888888888888888,\"#fdca26\"],[1.0,\"#f0f921\"]],\"type\":\"histogram2dcontour\"}],\"mesh3d\":[{\"colorbar\":{\"outlinewidth\":0,\"ticks\":\"\"},\"type\":\"mesh3d\"}],\"parcoords\":[{\"line\":{\"colorbar\":{\"outlinewidth\":0,\"ticks\":\"\"}},\"type\":\"parcoords\"}],\"pie\":[{\"automargin\":true,\"type\":\"pie\"}],\"scatter\":[{\"marker\":{\"colorbar\":{\"outlinewidth\":0,\"ticks\":\"\"}},\"type\":\"scatter\"}],\"scatter3d\":[{\"line\":{\"colorbar\":{\"outlinewidth\":0,\"ticks\":\"\"}},\"marker\":{\"colorbar\":{\"outlinewidth\":0,\"ticks\":\"\"}},\"type\":\"scatter3d\"}],\"scattercarpet\":[{\"marker\":{\"colorbar\":{\"outlinewidth\":0,\"ticks\":\"\"}},\"type\":\"scattercarpet\"}],\"scattergeo\":[{\"marker\":{\"colorbar\":{\"outlinewidth\":0,\"ticks\":\"\"}},\"type\":\"scattergeo\"}],\"scattergl\":[{\"marker\":{\"colorbar\":{\"outlinewidth\":0,\"ticks\":\"\"}},\"type\":\"scattergl\"}],\"scattermapbox\":[{\"marker\":{\"colorbar\":{\"outlinewidth\":0,\"ticks\":\"\"}},\"type\":\"scattermapbox\"}],\"scatterpolar\":[{\"marker\":{\"colorbar\":{\"outlinewidth\":0,\"ticks\":\"\"}},\"type\":\"scatterpolar\"}],\"scatterpolargl\":[{\"marker\":{\"colorbar\":{\"outlinewidth\":0,\"ticks\":\"\"}},\"type\":\"scatterpolargl\"}],\"scatterternary\":[{\"marker\":{\"colorbar\":{\"outlinewidth\":0,\"ticks\":\"\"}},\"type\":\"scatterternary\"}],\"surface\":[{\"colorbar\":{\"outlinewidth\":0,\"ticks\":\"\"},\"colorscale\":[[0.0,\"#0d0887\"],[0.1111111111111111,\"#46039f\"],[0.2222222222222222,\"#7201a8\"],[0.3333333333333333,\"#9c179e\"],[0.4444444444444444,\"#bd3786\"],[0.5555555555555556,\"#d8576b\"],[0.6666666666666666,\"#ed7953\"],[0.7777777777777778,\"#fb9f3a\"],[0.8888888888888888,\"#fdca26\"],[1.0,\"#f0f921\"]],\"type\":\"surface\"}],\"table\":[{\"cells\":{\"fill\":{\"color\":\"#EBF0F8\"},\"line\":{\"color\":\"white\"}},\"header\":{\"fill\":{\"color\":\"#C8D4E3\"},\"line\":{\"color\":\"white\"}},\"type\":\"table\"}]},\"layout\":{\"annotationdefaults\":{\"arrowcolor\":\"#2a3f5f\",\"arrowhead\":0,\"arrowwidth\":1},\"autotypenumbers\":\"strict\",\"coloraxis\":{\"colorbar\":{\"outlinewidth\":0,\"ticks\":\"\"}},\"colorscale\":{\"diverging\":[[0,\"#8e0152\"],[0.1,\"#c51b7d\"],[0.2,\"#de77ae\"],[0.3,\"#f1b6da\"],[0.4,\"#fde0ef\"],[0.5,\"#f7f7f7\"],[0.6,\"#e6f5d0\"],[0.7,\"#b8e186\"],[0.8,\"#7fbc41\"],[0.9,\"#4d9221\"],[1,\"#276419\"]],\"sequential\":[[0.0,\"#0d0887\"],[0.1111111111111111,\"#46039f\"],[0.2222222222222222,\"#7201a8\"],[0.3333333333333333,\"#9c179e\"],[0.4444444444444444,\"#bd3786\"],[0.5555555555555556,\"#d8576b\"],[0.6666666666666666,\"#ed7953\"],[0.7777777777777778,\"#fb9f3a\"],[0.8888888888888888,\"#fdca26\"],[1.0,\"#f0f921\"]],\"sequentialminus\":[[0.0,\"#0d0887\"],[0.1111111111111111,\"#46039f\"],[0.2222222222222222,\"#7201a8\"],[0.3333333333333333,\"#9c179e\"],[0.4444444444444444,\"#bd3786\"],[0.5555555555555556,\"#d8576b\"],[0.6666666666666666,\"#ed7953\"],[0.7777777777777778,\"#fb9f3a\"],[0.8888888888888888,\"#fdca26\"],[1.0,\"#f0f921\"]]},\"colorway\":[\"#636efa\",\"#EF553B\",\"#00cc96\",\"#ab63fa\",\"#FFA15A\",\"#19d3f3\",\"#FF6692\",\"#B6E880\",\"#FF97FF\",\"#FECB52\"],\"font\":{\"color\":\"#2a3f5f\"},\"geo\":{\"bgcolor\":\"white\",\"lakecolor\":\"white\",\"landcolor\":\"#E5ECF6\",\"showlakes\":true,\"showland\":true,\"subunitcolor\":\"white\"},\"hoverlabel\":{\"align\":\"left\"},\"hovermode\":\"closest\",\"mapbox\":{\"style\":\"light\"},\"paper_bgcolor\":\"white\",\"plot_bgcolor\":\"#E5ECF6\",\"polar\":{\"angularaxis\":{\"gridcolor\":\"white\",\"linecolor\":\"white\",\"ticks\":\"\"},\"bgcolor\":\"#E5ECF6\",\"radialaxis\":{\"gridcolor\":\"white\",\"linecolor\":\"white\",\"ticks\":\"\"}},\"scene\":{\"xaxis\":{\"backgroundcolor\":\"#E5ECF6\",\"gridcolor\":\"white\",\"gridwidth\":2,\"linecolor\":\"white\",\"showbackground\":true,\"ticks\":\"\",\"zerolinecolor\":\"white\"},\"yaxis\":{\"backgroundcolor\":\"#E5ECF6\",\"gridcolor\":\"white\",\"gridwidth\":2,\"linecolor\":\"white\",\"showbackground\":true,\"ticks\":\"\",\"zerolinecolor\":\"white\"},\"zaxis\":{\"backgroundcolor\":\"#E5ECF6\",\"gridcolor\":\"white\",\"gridwidth\":2,\"linecolor\":\"white\",\"showbackground\":true,\"ticks\":\"\",\"zerolinecolor\":\"white\"}},\"shapedefaults\":{\"line\":{\"color\":\"#2a3f5f\"}},\"ternary\":{\"aaxis\":{\"gridcolor\":\"white\",\"linecolor\":\"white\",\"ticks\":\"\"},\"baxis\":{\"gridcolor\":\"white\",\"linecolor\":\"white\",\"ticks\":\"\"},\"bgcolor\":\"#E5ECF6\",\"caxis\":{\"gridcolor\":\"white\",\"linecolor\":\"white\",\"ticks\":\"\"}},\"title\":{\"x\":0.05},\"xaxis\":{\"automargin\":true,\"gridcolor\":\"white\",\"linecolor\":\"white\",\"ticks\":\"\",\"title\":{\"standoff\":15},\"zerolinecolor\":\"white\",\"zerolinewidth\":2},\"yaxis\":{\"automargin\":true,\"gridcolor\":\"white\",\"linecolor\":\"white\",\"ticks\":\"\",\"title\":{\"standoff\":15},\"zerolinecolor\":\"white\",\"zerolinewidth\":2}}},\"xaxis\":{\"anchor\":\"y\",\"domain\":[0.0,1.0],\"title\":{\"text\":\"x\"}},\"yaxis\":{\"anchor\":\"x\",\"domain\":[0.0,1.0],\"title\":{\"text\":\"y\"}},\"legend\":{\"tracegroupgap\":0},\"margin\":{\"t\":60}},                        {\"responsive\": true}                    ).then(function(){\n",
              "                            \n",
              "var gd = document.getElementById('7a914483-c9e4-4bad-b415-335f9d83407e');\n",
              "var x = new MutationObserver(function (mutations, observer) {{\n",
              "        var display = window.getComputedStyle(gd).display;\n",
              "        if (!display || display === 'none') {{\n",
              "            console.log([gd, 'removed!']);\n",
              "            Plotly.purge(gd);\n",
              "            observer.disconnect();\n",
              "        }}\n",
              "}});\n",
              "\n",
              "// Listen for the removal of the full notebook cells\n",
              "var notebookContainer = gd.closest('#notebook-container');\n",
              "if (notebookContainer) {{\n",
              "    x.observe(notebookContainer, {childList: true});\n",
              "}}\n",
              "\n",
              "// Listen for the clearing of the current output cell\n",
              "var outputEl = gd.closest('.output');\n",
              "if (outputEl) {{\n",
              "    x.observe(outputEl, {childList: true});\n",
              "}}\n",
              "\n",
              "                        })                };                            </script>        </div>\n",
              "</body>\n",
              "</html>"
            ]
          },
          "metadata": {}
        }
      ],
      "source": [
        "# Graficar los embedddings en 2D\n",
        "import plotly.graph_objects as go\n",
        "import plotly.express as px\n",
        "\n",
        "x_vals, y_vals, labels = reduce_dimensions(w2v_model)\n",
        "\n",
        "MAX_WORDS=200\n",
        "fig = px.scatter(x=x_vals[:MAX_WORDS], y=y_vals[:MAX_WORDS], text=labels[:MAX_WORDS])\n",
        "fig.show(renderer=\"colab\") # esto para plotly en colab"
      ]
    },
    {
      "cell_type": "markdown",
      "metadata": {
        "id": "We0WjauBIxL4"
      },
      "source": [
        "### Alumno"
      ]
    },
    {
      "cell_type": "markdown",
      "metadata": {
        "id": "wDUeC1VxIxL5"
      },
      "source": [
        "- Crear sus propios vectores con Gensim basado en lo visto en clase con otro dataset.\n",
        "- Probar términos de interés y explicar similitudes en el espacio de embeddings (sacar conclusiones entre palabras similitudes y diferencias).\n",
        "- Graficarlos."
      ]
    },
    {
      "cell_type": "markdown",
      "source": [
        "# Conclusiones\n",
        "\n",
        "Si bien podemos encontrar relaciones entre palabras que son acordes al estilo de letras de la banda, es posible notar que en el espacio generado por la proyección del TSNE, las palabras se encuentran bastante dispersas, y no es posible encontrar clusters significativos. Quizás esto se deba a que el conjunto de datos no corresponde con la discografía completa de la banda y a que suelen utilizar las mismas palabras pero en diversos contextos."
      ],
      "metadata": {
        "id": "1fpJM6buG25I"
      }
    }
  ],
  "metadata": {
    "colab": {
      "collapsed_sections": [],
      "provenance": []
    },
    "kernelspec": {
      "display_name": "Python 3",
      "language": "python",
      "name": "python3"
    },
    "language_info": {
      "codemirror_mode": {
        "name": "ipython",
        "version": 3
      },
      "file_extension": ".py",
      "mimetype": "text/x-python",
      "name": "python",
      "nbconvert_exporter": "python",
      "pygments_lexer": "ipython3",
      "version": "3.8.10"
    }
  },
  "nbformat": 4,
  "nbformat_minor": 0
}